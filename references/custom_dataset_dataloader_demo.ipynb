{
  "nbformat": 4,
  "nbformat_minor": 5,
  "metadata": {
    "kernelspec": {
      "display_name": "Python 3",
      "language": "python",
      "name": "python3"
    },
    "language_info": {
      "codemirror_mode": {
        "name": "ipython",
        "version": 3
      },
      "file_extension": ".py",
      "mimetype": "text/x-python",
      "name": "python",
      "nbconvert_exporter": "python",
      "pygments_lexer": "ipython3",
      "version": "3.8.3"
    },
    "colab": {
      "name": "custom_dataset_dataloader_demo.ipynb",
      "provenance": [],
      "toc_visible": true
    }
  },
  "cells": [
    {
      "cell_type": "markdown",
      "metadata": {
        "id": "moral-rebound"
      },
      "source": [
        "# Creating a dataloader and pre-processing our data\n",
        "\n",
        "## 0. Before we start\n",
        "\n",
        "This notebook is used to demonstrate how to create a dataloader on a **mock** dataset, which resembles the one, which will be used for the small project in the SUTD 50.039 Deep Learning class (Y2021).\n",
        "\n",
        "This notebook intends to demonstrate a way to create dataloaders from scratch, i.e. just a folder containing several images, so that it can later be fed into our PyTorch model.\n",
        "\n",
        "It consists of four parts:\n",
        "1. Getting familiar with the demo dataset and the images it contains.\n",
        "2. Creating a dataset object in general, and later, specific ones for training, testing and validation datasets.7\n",
        "3. Using torch to transform said dataset into a dataloader,\n",
        "4. and later use the said DataLoader in the training of a simple PyTorch model.\n",
        "\n",
        "It relies on the following libraries:\n",
        "- Matplotlib for displaying images in matplotlib plots,\n",
        "- Numpy for numerical operations on tensors/arrays,\n",
        "- Pillow (PIL) for opening images,\n",
        "- and torch/torchvision for typical operations on tensors, datasets and dataloaders."
      ],
      "id": "moral-rebound"
    },
    {
      "cell_type": "code",
      "metadata": {
        "id": "crude-waste"
      },
      "source": [
        "# Matplotlib\n",
        "import matplotlib.pyplot as plt\n",
        "# Numpy\n",
        "import numpy as np\n",
        "# Pillow\n",
        "from PIL import Image\n",
        "# Torch\n",
        "import torch\n",
        "from torch.utils.data import Dataset, DataLoader\n",
        "import torch.nn as nn\n",
        "import torch.optim as optim\n",
        "import torch.nn.functional as F\n",
        "from torchvision import transforms"
      ],
      "id": "crude-waste",
      "execution_count": 1,
      "outputs": []
    },
    {
      "cell_type": "markdown",
      "metadata": {
        "id": "R4gBSNDrcfGl"
      },
      "source": [
        "Get the dataset"
      ],
      "id": "R4gBSNDrcfGl"
    },
    {
      "cell_type": "code",
      "metadata": {
        "colab": {
          "base_uri": "https://localhost:8080/"
        },
        "id": "lcHbRtuHcd-N",
        "outputId": "17b84981-5d82-4cb8-c088-866ce161d050"
      },
      "source": [
        "!git clone -b data https://github.com/Oxiang/50.039-Deep-Learning.git"
      ],
      "id": "lcHbRtuHcd-N",
      "execution_count": 2,
      "outputs": [
        {
          "output_type": "stream",
          "text": [
            "Cloning into '50.039-Deep-Learning'...\n",
            "remote: Enumerating objects: 5862, done.\u001b[K\n",
            "remote: Counting objects: 100% (5862/5862), done.\u001b[K\n",
            "remote: Compressing objects: 100% (5858/5858), done.\u001b[K\n",
            "remote: Total 5862 (delta 2), reused 5859 (delta 2), pack-reused 0\u001b[K\n",
            "Receiving objects: 100% (5862/5862), 20.43 MiB | 34.30 MiB/s, done.\n",
            "Resolving deltas: 100% (2/2), done.\n"
          ],
          "name": "stdout"
        }
      ]
    },
    {
      "cell_type": "code",
      "metadata": {
        "colab": {
          "base_uri": "https://localhost:8080/"
        },
        "id": "bDcrG7MmchEx",
        "outputId": "82418622-3b7a-4b16-aa80-4f6045d1597d"
      },
      "source": [
        "cd 50.039-Deep-Learning"
      ],
      "id": "bDcrG7MmchEx",
      "execution_count": 3,
      "outputs": [
        {
          "output_type": "stream",
          "text": [
            "/content/50.039-Deep-Learning\n"
          ],
          "name": "stdout"
        }
      ]
    },
    {
      "cell_type": "markdown",
      "metadata": {
        "id": "stunning-warehouse"
      },
      "source": [
        "## 1. Getting familiar with the dataset\n",
        "\n",
        "The images stored in the **./dataset_demo** folder and its subfolder consists of 150 by 150 pixels greyscale images, representing X-Ray pictures of lungs. "
      ],
      "id": "stunning-warehouse"
    },
    {
      "cell_type": "code",
      "metadata": {
        "id": "annoying-samoa"
      },
      "source": [
        "# All images are of size 150 x 150\n",
        "size = (150, 150)"
      ],
      "id": "annoying-samoa",
      "execution_count": 4,
      "outputs": []
    },
    {
      "cell_type": "markdown",
      "metadata": {
        "id": "designed-cooperation"
      },
      "source": [
        "The images, consists of X-ray pictures of infected lungs (class with index 1 and label 'infected') or people with no infection diagnosis (class with index 0 and label 'normal')."
      ],
      "id": "designed-cooperation"
    },
    {
      "cell_type": "code",
      "metadata": {
        "colab": {
          "base_uri": "https://localhost:8080/"
        },
        "id": "muslim-afternoon",
        "outputId": "27fe5804-a0dd-4576-89b4-b3e8f16e176f"
      },
      "source": [
        "# Only two classes will be considered here (normal and infected)\n",
        "classes = {0: 'normal', 1: 'infected'}\n",
        "print(classes)"
      ],
      "id": "muslim-afternoon",
      "execution_count": 5,
      "outputs": [
        {
          "output_type": "stream",
          "text": [
            "{0: 'normal', 1: 'infected'}\n"
          ],
          "name": "stdout"
        }
      ]
    },
    {
      "cell_type": "markdown",
      "metadata": {
        "id": "green-capitol"
      },
      "source": [
        "The dataset has been split into training, testing and validation sets, containing several non-identical pictures."
      ],
      "id": "green-capitol"
    },
    {
      "cell_type": "code",
      "metadata": {
        "colab": {
          "base_uri": "https://localhost:8080/"
        },
        "id": "developing-oxide",
        "outputId": "4c69c1dd-952b-4df4-de92-0dee8bdcc347"
      },
      "source": [
        "# The dataset has been split in training, testing and validation groups\n",
        "groups = ['train', 'test', 'val']\n",
        "print(groups)"
      ],
      "id": "developing-oxide",
      "execution_count": 6,
      "outputs": [
        {
          "output_type": "stream",
          "text": [
            "['train', 'test', 'val']\n"
          ],
          "name": "stdout"
        }
      ]
    },
    {
      "cell_type": "markdown",
      "metadata": {
        "id": "together-diversity"
      },
      "source": [
        "This dataset is a simplified subset of the one you will be working on for the small project.\n",
        "It contains a rather limited number of images, and will only be used in this notebook to demonstrate how to create a PyTorch dataloader, which can later be fed to our PyTorch models."
      ],
      "id": "together-diversity"
    },
    {
      "cell_type": "code",
      "metadata": {
        "colab": {
          "base_uri": "https://localhost:8080/"
        },
        "id": "victorian-interface",
        "outputId": "419dc662-f450-4203-b5d3-deafd4bfd8a2"
      },
      "source": [
        "# Number of images in each part of the dataset\n",
        "dataset_numbers = {'train_normal': 36,\\\n",
        "                   'train_infected': 34,\\\n",
        "                   'val_normal': 4,\\\n",
        "                   'val_infected': 4,\\\n",
        "                   'test_normal': 14,\\\n",
        "                   'test_infected': 13}\n",
        "print(dataset_numbers)"
      ],
      "id": "victorian-interface",
      "execution_count": 7,
      "outputs": [
        {
          "output_type": "stream",
          "text": [
            "{'train_normal': 36, 'train_infected': 34, 'val_normal': 4, 'val_infected': 4, 'test_normal': 14, 'test_infected': 13}\n"
          ],
          "name": "stdout"
        }
      ]
    },
    {
      "cell_type": "markdown",
      "metadata": {
        "id": "vulnerable-cornwall"
      },
      "source": [
        "Each subset is stored in a different subfolder of the ./dataset_demo/ folder, as listed in the dictionary below."
      ],
      "id": "vulnerable-cornwall"
    },
    {
      "cell_type": "code",
      "metadata": {
        "colab": {
          "base_uri": "https://localhost:8080/"
        },
        "id": "incomplete-cooperative",
        "outputId": "6c7eb235-5b6a-4d76-b9e3-d04ea8e73335"
      },
      "source": [
        "# Path to images for different parts of the dataset\n",
        "dataset_paths = {'train_normal': './dataset_demo/train/normal/',\\\n",
        "                 'train_infected': './dataset_demo/train/infected/',\\\n",
        "                 'val_normal': './dataset_demo/val/normal/',\\\n",
        "                 'val_infected': './dataset_demo/val/infected/',\\\n",
        "                 'test_normal': './dataset_demo/test/normal/',\\\n",
        "                 'test_infected': './dataset_demo/test/infected/'}\n",
        "print(dataset_paths)"
      ],
      "id": "incomplete-cooperative",
      "execution_count": 8,
      "outputs": [
        {
          "output_type": "stream",
          "text": [
            "{'train_normal': './dataset_demo/train/normal/', 'train_infected': './dataset_demo/train/infected/', 'val_normal': './dataset_demo/val/normal/', 'val_infected': './dataset_demo/val/infected/', 'test_normal': './dataset_demo/test/normal/', 'test_infected': './dataset_demo/test/infected/'}\n"
          ],
          "name": "stdout"
        }
      ]
    },
    {
      "cell_type": "markdown",
      "metadata": {
        "id": "alternative-girlfriend"
      },
      "source": [
        "The images can simply be opened by using their full path and the open function of the PIL.Image library. It can then be displayed on screen using matplotlib. Note that the pictures are greyscale, but for readability, matplotlib will display them using an automatic color mapping."
      ],
      "id": "alternative-girlfriend"
    },
    {
      "cell_type": "code",
      "metadata": {
        "colab": {
          "base_uri": "https://localhost:8080/",
          "height": 268
        },
        "id": "negative-disaster",
        "outputId": "7ff611b5-b4e3-4877-f2a2-ad1a6a0d3956"
      },
      "source": [
        "# Display an image\n",
        "path_to_file = './dataset_demo/train/normal/1.jpg'\n",
        "with open(path_to_file, 'rb') as f:\n",
        "    im = np.asarray(Image.open(f))\n",
        "    plt.imshow(im)\n",
        "f.close()"
      ],
      "id": "negative-disaster",
      "execution_count": 9,
      "outputs": [
        {
          "output_type": "display_data",
          "data": {
            "image/png": "[encoded data removed]",
            "text/plain": [
              "<Figure size 432x288 with 1 Axes>"
            ]
          },
          "metadata": {
            "tags": [],
            "needs_background": "light"
          }
        }
      ]
    },
    {
      "cell_type": "markdown",
      "metadata": {
        "id": "lesser-breed"
      },
      "source": [
        "As expected, the images are 150 by 150 pixels images."
      ],
      "id": "lesser-breed"
    },
    {
      "cell_type": "code",
      "metadata": {
        "colab": {
          "base_uri": "https://localhost:8080/"
        },
        "id": "manual-velvet",
        "outputId": "5d10eef7-6ae9-46ec-e8aa-bdf19a14a3ae"
      },
      "source": [
        "# Image shape is indeed 150 x 150\n",
        "print(im.shape)"
      ],
      "id": "manual-velvet",
      "execution_count": 10,
      "outputs": [
        {
          "output_type": "stream",
          "text": [
            "(150, 150)\n"
          ],
          "name": "stdout"
        }
      ]
    },
    {
      "cell_type": "markdown",
      "metadata": {
        "id": "military-spyware"
      },
      "source": [
        "And these images consist of a Numpy array (thanks to the np.asarray() operation in the previous cell), with values ranging between 0 and 255. Later on, we will have to normalize these values."
      ],
      "id": "military-spyware"
    },
    {
      "cell_type": "code",
      "metadata": {
        "colab": {
          "base_uri": "https://localhost:8080/"
        },
        "id": "disciplinary-blair",
        "outputId": "55f735de-8063-4602-e042-c363a8a660d4"
      },
      "source": [
        "# Images are defined as a Numpy array of values between 0 and 256\n",
        "print(im)"
      ],
      "id": "disciplinary-blair",
      "execution_count": 11,
      "outputs": [
        {
          "output_type": "stream",
          "text": [
            "[[15 25 33 ... 30 26 19]\n",
            " [16 25 33 ... 30 25 19]\n",
            " [17 26 34 ... 29 25 19]\n",
            " ...\n",
            " [ 0  0  0 ...  0  0  0]\n",
            " [ 0  0  0 ...  0  0  0]\n",
            " [ 0  0  0 ...  0  0  0]]\n"
          ],
          "name": "stdout"
        }
      ]
    },
    {
      "cell_type": "markdown",
      "metadata": {
        "id": "serial-german"
      },
      "source": [
        "## 2. Creating a Dataset object\n",
        "\n",
        "### 2.a. Creating a global Dataset object\n",
        "\n",
        "Let us start this part by creating a general Dataset object, called Lung_Dataset.\n",
        "\n",
        "It starts with of a constructor, which simply gathers the key parameters we listed in Part 1., into attributes of the object.\n",
        "\n",
        "Second, a describe method is provided, which simply displays a few details regarding the dataset. Note that a describe function like this one is often considered good practice, as it provides any developer with details about the dataset, at a glance.\n",
        "\n",
        "Third, an open_image method is provided, an will open the image defined by the combination of parameters defined in (group_val, class_val, index_val). For instance, if group_val is set to 'train', class val is set to 'normal' and index_val set to 3, the function will load the image in ./dataset_demo/train/normal/3.jpg.\n",
        "Note that the open_image method has a few asserts designed to cover for unexpected values for (group_val, class_val, index_val).\n",
        "\n",
        "Finally, it contains a show_img method, which will open the image for the parameters in (group_val, class_val, index_val), and will display it on screen, using matplotlib.\n",
        "\n",
        "Our full general Dataset object, Lung_Dataset, is shown below. Note that it inherits from the Dataset class from the torch.utils.data library."
      ],
      "id": "serial-german"
    },
    {
      "cell_type": "code",
      "metadata": {
        "id": "figured-shore"
      },
      "source": [
        "class Lung_Dataset(Dataset):\n",
        "    \"\"\"\n",
        "    Generic Dataset class.\n",
        "    \"\"\"\n",
        "    \n",
        "    def __init__(self):\n",
        "        \"\"\"\n",
        "        Constructor for generic Dataset class - simply assembles\n",
        "        the important parameters in attributes.\n",
        "        \"\"\"\n",
        "        \n",
        "        # All images are of size 150 x 150\n",
        "        self.img_size = (150, 150)\n",
        "        \n",
        "        # Only two classes will be considered here (normal and infected)\n",
        "        self.classes = {0: 'normal', 1: 'infected'}\n",
        "        \n",
        "        # The dataset has been split in training, testing and validation datasets\n",
        "        self.groups = ['train', 'test', 'val']\n",
        "        \n",
        "        # Number of images in each part of the dataset\n",
        "        self.dataset_numbers = {'train_normal': 36,\\\n",
        "                                'train_infected': 34,\\\n",
        "                                'val_normal': 4,\\\n",
        "                                'val_infected': 4,\\\n",
        "                                'test_normal': 14,\\\n",
        "                                'test_infected': 13}\n",
        "        \n",
        "        # Path to images for different parts of the dataset\n",
        "        self.dataset_paths = {'train_normal': './dataset_demo/train/normal/',\\\n",
        "                              'train_infected': './dataset_demo/train/infected/',\\\n",
        "                              'val_normal': './dataset_demo/val/normal/',\\\n",
        "                              'val_infected': './dataset_demo/val/infected/',\\\n",
        "                              'test_normal': './dataset_demo/test/normal/',\\\n",
        "                              'test_infected': './dataset_demo/test/infected/'}\n",
        "        \n",
        "        \n",
        "    def describe(self):\n",
        "        \"\"\"\n",
        "        Descriptor function.\n",
        "        Will print details about the dataset when called.\n",
        "        \"\"\"\n",
        "        \n",
        "        # Generate description\n",
        "        msg = \"This is the Lung Dataset used for the Small Project Demo in the 50.039 Deep Learning class\"\n",
        "        msg += \" in Feb-March 2021. \\n\"\n",
        "        msg += \"It contains a total of {} images, \".format(sum(self.dataset_numbers.values()))\n",
        "        msg += \"of size {} by {}.\\n\".format(self.img_size[0], self.img_size[1])\n",
        "        msg += \"Images have been split in three groups: training, testing and validation sets.\\n\"\n",
        "        msg += \"The images are stored in the following locations \"\n",
        "        msg += \"and each one contains the following number of images:\\n\"\n",
        "        for key, val in self.dataset_paths.items():\n",
        "            msg += \" - {}, in folder {}: {} images.\\n\".format(key, val, self.dataset_numbers[key])\n",
        "        print(msg)\n",
        "        \n",
        "    \n",
        "    def open_img(self, group_val, class_val, index_val):\n",
        "        \"\"\"\n",
        "        Opens image with specified parameters.\n",
        "        \n",
        "        Parameters:\n",
        "        - group_val should take values in 'train', 'test' or 'val'.\n",
        "        - class_val variable should be set to 'normal' or 'infected'.\n",
        "        - index_val should be an integer with values between 0 and the maximal number of images in dataset.\n",
        "        \n",
        "        Returns loaded image as a normalized Numpy array.\n",
        "        \"\"\"\n",
        "        \n",
        "        # Asserts checking for consistency in passed parameters\n",
        "        err_msg = \"Error - group_val variable should be set to 'train', 'test' or 'val'.\"\n",
        "        assert group_val in self.groups, err_msg\n",
        "        \n",
        "        err_msg = \"Error - class_val variable should be set to 'normal' or 'infected'.\"\n",
        "        assert class_val in self.classes.values(), err_msg\n",
        "        \n",
        "        max_val = self.dataset_numbers['{}_{}'.format(group_val, class_val)]\n",
        "        err_msg = \"Error - index_val variable should be an integer between 0 and the maximal number of images.\"\n",
        "        err_msg += \"\\n(In {}/{}, you have {} images.)\".format(group_val, class_val, max_val)\n",
        "        assert isinstance(index_val, int), err_msg\n",
        "        assert index_val >= 0 and index_val <= max_val, err_msg\n",
        "        \n",
        "        # Open file as before\n",
        "        path_to_file = '{}/{}.jpg'.format(self.dataset_paths['{}_{}'.format(group_val, class_val)], index_val)\n",
        "        with open(path_to_file, 'rb') as f:\n",
        "            # Convert to Numpy array and normalize pixel values by dividing by 255.\n",
        "            im = np.asarray(Image.open(f))/255\n",
        "        f.close()\n",
        "        return im\n",
        "    \n",
        "    \n",
        "    def show_img(self, group_val, class_val, index_val):\n",
        "        \"\"\"\n",
        "        Opens, then displays image with specified parameters.\n",
        "        \n",
        "        Parameters:\n",
        "        - group_val should take values in 'train', 'test' or 'val'.\n",
        "        - class_val variable should be set to 'normal' or 'infected'.\n",
        "        - index_val should be an integer with values between 0 and the maximal number of images in dataset.\n",
        "        \"\"\"\n",
        "        \n",
        "        # Open image\n",
        "        im = self.open_img(group_val, class_val, index_val)\n",
        "        \n",
        "        # Display\n",
        "        plt.imshow(im)"
      ],
      "id": "figured-shore",
      "execution_count": 12,
      "outputs": []
    },
    {
      "cell_type": "markdown",
      "metadata": {
        "id": "lesbian-details"
      },
      "source": [
        "It can simply be called, and a generic description can be displayed."
      ],
      "id": "lesbian-details"
    },
    {
      "cell_type": "code",
      "metadata": {
        "colab": {
          "base_uri": "https://localhost:8080/"
        },
        "id": "cognitive-volunteer",
        "outputId": "14df2c45-ed90-4d9b-a548-4ee26513a0a2"
      },
      "source": [
        "ld = Lung_Dataset()\n",
        "ld.describe()"
      ],
      "id": "cognitive-volunteer",
      "execution_count": 13,
      "outputs": [
        {
          "output_type": "stream",
          "text": [
            "This is the Lung Dataset used for the Small Project Demo in the 50.039 Deep Learning class in Feb-March 2021. \n",
            "It contains a total of 105 images, of size 150 by 150.\n",
            "Images have been split in three groups: training, testing and validation sets.\n",
            "The images are stored in the following locations and each one contains the following number of images:\n",
            " - train_normal, in folder ./dataset_demo/train/normal/: 36 images.\n",
            " - train_infected, in folder ./dataset_demo/train/infected/: 34 images.\n",
            " - val_normal, in folder ./dataset_demo/val/normal/: 4 images.\n",
            " - val_infected, in folder ./dataset_demo/val/infected/: 4 images.\n",
            " - test_normal, in folder ./dataset_demo/test/normal/: 14 images.\n",
            " - test_infected, in folder ./dataset_demo/test/infected/: 13 images.\n",
            "\n"
          ],
          "name": "stdout"
        }
      ]
    },
    {
      "cell_type": "markdown",
      "metadata": {
        "id": "statutory-stone"
      },
      "source": [
        "We can then load an image and check what are the values contained in the 150 by 150 Numpy array.\n",
        "And finally, we can display said image on screen."
      ],
      "id": "statutory-stone"
    },
    {
      "cell_type": "code",
      "metadata": {
        "colab": {
          "base_uri": "https://localhost:8080/"
        },
        "id": "talented-guyana",
        "outputId": "0d9d06a7-bcb8-4a53-dbe0-ee8ead827e15"
      },
      "source": [
        "im = ld.open_img('train', 'normal', 1)\n",
        "print(im.shape)\n",
        "print(im)"
      ],
      "id": "talented-guyana",
      "execution_count": 14,
      "outputs": [
        {
          "output_type": "stream",
          "text": [
            "(150, 150)\n",
            "[[0.05882353 0.09803922 0.12941176 ... 0.11764706 0.10196078 0.0745098 ]\n",
            " [0.0627451  0.09803922 0.12941176 ... 0.11764706 0.09803922 0.0745098 ]\n",
            " [0.06666667 0.10196078 0.13333333 ... 0.11372549 0.09803922 0.0745098 ]\n",
            " ...\n",
            " [0.         0.         0.         ... 0.         0.         0.        ]\n",
            " [0.         0.         0.         ... 0.         0.         0.        ]\n",
            " [0.         0.         0.         ... 0.         0.         0.        ]]\n"
          ],
          "name": "stdout"
        }
      ]
    },
    {
      "cell_type": "code",
      "metadata": {
        "colab": {
          "base_uri": "https://localhost:8080/",
          "height": 268
        },
        "id": "pleasant-lingerie",
        "outputId": "6556350b-4556-46c9-8611-731d14e1e49a"
      },
      "source": [
        "ld.show_img('train', 'normal', 1)"
      ],
      "id": "pleasant-lingerie",
      "execution_count": 15,
      "outputs": [
        {
          "output_type": "display_data",
          "data": {
            "image/png": "[encoded data removed]",
            "text/plain": [
              "<Figure size 432x288 with 1 Axes>"
            ]
          },
          "metadata": {
            "tags": [],
            "needs_background": "light"
          }
        }
      ]
    },
    {
      "cell_type": "markdown",
      "metadata": {
        "id": "narrow-principle"
      },
      "source": [
        "### 2.b. Creating a train Dataset object\n",
        "\n",
        "In practice however, one likes to define several datasets, for each subgroup (train, test, validation). This class however, will only be used to load images from the ./dataset_demo/train/ folder. It woks roughly as the previous Lung_Dataset class. In practice, we could have inherited Lung_Train_Dataset from Lung_Dataset, but we normally do not bother creating a general Dataset object like Lung_Dataset in Section 2.a.\n",
        "\n",
        "The Lung_Train_Dataset object resembles to the Lung_Dataset as it contains restricted versions of the same attributes we had in the Lung_Dataset object.\n",
        "\n",
        "It however contains two additional (special) methods, which need to be defined if we want to transform our Lung_Train_Dataset object into a dataloader later on.\n",
        "\n",
        "The first method is the special length method ( __ len __ ), which should return the number of images present in the dataset. Lucky for us, it can be easily computed using the dataset_numbers attribute of our object.\n",
        "\n",
        "The second one is the special getitem method ( __ getitem __ ), which is used to fetch an image and its label, using a single index value.\n",
        "\n",
        "By convention here, we have decided to open the image in ./dataset_demo/train/normal/XXX.jpg, if the value in XXX is strictly lower than 36, which is the number of images in the ./dataset_demo/train/normal/ folder.\n",
        "\n",
        "Otherwise, we open the image in ./dataset_demo/train/infected/YYY.jpg, where YYY is simply defined as YYY = XXX - 36.\n",
        "\n",
        "Note that if the value in XXX is larger than the length of the dataset, i.e. 36 + 34 = 70, then no image will be opened and the getitem will display an error, based on the asserts we have in the open_img method.\n",
        "\n",
        "Finally, the getitem method will return the image, along with a one-hot vector corresponding to the class of the object, i.e. [1, 0] for normal class and [0, 1] for infected class. Both returned parameters will be torch tensors."
      ],
      "id": "narrow-principle"
    },
    {
      "cell_type": "code",
      "metadata": {
        "id": "random-crime"
      },
      "source": [
        "class Lung_Train_Dataset(Dataset):\n",
        "    \n",
        "    def __init__(self):\n",
        "        \"\"\"\n",
        "        Constructor for generic Dataset class - simply assembles\n",
        "        the important parameters in attributes.\n",
        "        \"\"\"\n",
        "        \n",
        "        # All images are of size 150 x 150\n",
        "        self.img_size = (150, 150)\n",
        "        \n",
        "        # Only two classes will be considered here (normal and infected)\n",
        "        self.classes = {0: 'normal', 1: 'infected'}\n",
        "        \n",
        "        # The dataset consists only of training images\n",
        "        self.groups = 'train'\n",
        "        \n",
        "        # Number of images in each part of the dataset\n",
        "        self.dataset_numbers = {'train_normal': 36,\\\n",
        "                                'train_infected': 34}\n",
        "        \n",
        "        # Path to images for different parts of the dataset\n",
        "        self.dataset_paths = {'train_normal': './dataset_demo/train/normal/',\\\n",
        "                              'train_infected': './dataset_demo/train/infected/'}\n",
        "        \n",
        "        \n",
        "    def describe(self):\n",
        "        \"\"\"\n",
        "        Descriptor function.\n",
        "        Will print details about the dataset when called.\n",
        "        \"\"\"\n",
        "        \n",
        "        # Generate description\n",
        "        msg = \"This is the training dataset of the Lung Dataset\"\n",
        "        msg += \" used for the Small Project Demo in the 50.039 Deep Learning class\"\n",
        "        msg += \" in Feb-March 2021. \\n\"\n",
        "        msg += \"It contains a total of {} images, \".format(sum(self.dataset_numbers.values()))\n",
        "        msg += \"of size {} by {}.\\n\".format(self.img_size[0], self.img_size[1])\n",
        "        msg += \"The images are stored in the following locations \"\n",
        "        msg += \"and each one contains the following number of images:\\n\"\n",
        "        for key, val in self.dataset_paths.items():\n",
        "            msg += \" - {}, in folder {}: {} images.\\n\".format(key, val, self.dataset_numbers[key])\n",
        "        print(msg)\n",
        "        \n",
        "    \n",
        "    def open_img(self, group_val, class_val, index_val):\n",
        "        \"\"\"\n",
        "        Opens image with specified parameters.\n",
        "        \n",
        "        Parameters:\n",
        "        - group_val should take values in 'train', 'test' or 'val'.\n",
        "        - class_val variable should be set to 'normal' or 'infected'.\n",
        "        - index_val should be an integer with values between 0 and the maximal number of images in dataset.\n",
        "        \n",
        "        Returns loaded image as a normalized Numpy array.\n",
        "        \"\"\"\n",
        "        \n",
        "        # Asserts checking for consistency in passed parameters\n",
        "        err_msg = \"Error - group_val variable should be set to 'train', 'test' or 'val'.\"\n",
        "        assert group_val in self.groups, err_msg\n",
        "        \n",
        "        err_msg = \"Error - class_val variable should be set to 'normal' or 'infected'.\"\n",
        "        assert class_val in self.classes.values(), err_msg\n",
        "        \n",
        "        max_val = self.dataset_numbers['{}_{}'.format(group_val, class_val)]\n",
        "        err_msg = \"Error - index_val variable should be an integer between 0 and the maximal number of images.\"\n",
        "        err_msg += \"\\n(In {}/{}, you have {} images.)\".format(group_val, class_val, max_val)\n",
        "        assert isinstance(index_val, int), err_msg\n",
        "        assert index_val >= 0 and index_val <= max_val, err_msg\n",
        "        \n",
        "        # Open file as before\n",
        "        path_to_file = '{}/{}.jpg'.format(self.dataset_paths['{}_{}'.format(group_val, class_val)], index_val)\n",
        "        with open(path_to_file, 'rb') as f:\n",
        "            im = np.asarray(Image.open(f))/255\n",
        "        f.close()\n",
        "        return im\n",
        "    \n",
        "    \n",
        "    def show_img(self, group_val, class_val, index_val):\n",
        "        \"\"\"\n",
        "        Opens, then displays image with specified parameters.\n",
        "        \n",
        "        Parameters:\n",
        "        - group_val should take values in 'train', 'test' or 'val'.\n",
        "        - class_val variable should be set to 'normal' or 'infected'.\n",
        "        - index_val should be an integer with values between 0 and the maximal number of images in dataset.\n",
        "        \"\"\"\n",
        "        \n",
        "        # Open image\n",
        "        im = self.open_img(group_val, class_val, index_val)\n",
        "        \n",
        "        # Display\n",
        "        plt.imshow(im)\n",
        "        \n",
        "        \n",
        "    def __len__(self):\n",
        "        \"\"\"\n",
        "        Length special method, returns the number of images in dataset.\n",
        "        \"\"\"\n",
        "        \n",
        "        # Length function\n",
        "        return sum(self.dataset_numbers.values())\n",
        "    \n",
        "    \n",
        "    def __getitem__(self, index):\n",
        "        \"\"\"\n",
        "        Getitem special method.\n",
        "        \n",
        "        Expects an integer value index, between 0 and len(self) - 1.\n",
        "        \n",
        "        Returns the image and its label as a one hot vector, both\n",
        "        in torch tensor format in dataset.\n",
        "        \"\"\"\n",
        "        \n",
        "        # Get item special method\n",
        "        first_val = int(list(self.dataset_numbers.values())[0])\n",
        "        if index < first_val:\n",
        "            class_val = 'normal'\n",
        "            label = torch.Tensor([1, 0])\n",
        "        else:\n",
        "            class_val = 'infected'\n",
        "            index = index - first_val\n",
        "            label = torch.Tensor([0, 1])\n",
        "        im = self.open_img(self.groups, class_val, index)\n",
        "        im = transforms.functional.to_tensor(np.array(im)).float()\n",
        "        return im, label"
      ],
      "id": "random-crime",
      "execution_count": 16,
      "outputs": []
    },
    {
      "cell_type": "markdown",
      "metadata": {
        "id": "sensitive-vault"
      },
      "source": [
        "We can then create our Dataset object as before and display a description of the dataset."
      ],
      "id": "sensitive-vault"
    },
    {
      "cell_type": "code",
      "metadata": {
        "scrolled": true,
        "colab": {
          "base_uri": "https://localhost:8080/"
        },
        "id": "premier-roads",
        "outputId": "c82f9bf1-6a05-4c48-c71c-b8e19c7fbe73"
      },
      "source": [
        "ld_train = Lung_Train_Dataset()\n",
        "ld_train.describe()"
      ],
      "id": "premier-roads",
      "execution_count": 17,
      "outputs": [
        {
          "output_type": "stream",
          "text": [
            "This is the training dataset of the Lung Dataset used for the Small Project Demo in the 50.039 Deep Learning class in Feb-March 2021. \n",
            "It contains a total of 70 images, of size 150 by 150.\n",
            "The images are stored in the following locations and each one contains the following number of images:\n",
            " - train_normal, in folder ./dataset_demo/train/normal/: 36 images.\n",
            " - train_infected, in folder ./dataset_demo/train/infected/: 34 images.\n",
            "\n"
          ],
          "name": "stdout"
        }
      ]
    },
    {
      "cell_type": "markdown",
      "metadata": {
        "id": "indian-lambda"
      },
      "source": [
        "The length function applied to our dataset indeed gives the total number of images in this train dataset, that is 70."
      ],
      "id": "indian-lambda"
    },
    {
      "cell_type": "code",
      "metadata": {
        "colab": {
          "base_uri": "https://localhost:8080/"
        },
        "id": "hundred-transsexual",
        "outputId": "f32b4889-e3bd-4c6e-de34-3f607f074c0d"
      },
      "source": [
        "print(len(ld_train))"
      ],
      "id": "hundred-transsexual",
      "execution_count": 18,
      "outputs": [
        {
          "output_type": "stream",
          "text": [
            "70\n"
          ],
          "name": "stdout"
        }
      ]
    },
    {
      "cell_type": "markdown",
      "metadata": {
        "id": "enormous-guide"
      },
      "source": [
        "Finally, using the getitem method (i.e. using square bracket indexing on our object) will produce a 150 by 150 torch tensor corresponding to our image, with normalize values. It also produces a one-hot vector, in torch tensor format as well."
      ],
      "id": "enormous-guide"
    },
    {
      "cell_type": "code",
      "metadata": {
        "colab": {
          "base_uri": "https://localhost:8080/"
        },
        "id": "increased-idaho",
        "outputId": "c2351b29-5633-4651-c97e-b332d1e571bf"
      },
      "source": [
        "im, class_oh = ld_train[64]\n",
        "print(im.shape)\n",
        "print(im)\n",
        "print(class_oh)"
      ],
      "id": "increased-idaho",
      "execution_count": 19,
      "outputs": [
        {
          "output_type": "stream",
          "text": [
            "torch.Size([1, 150, 150])\n",
            "tensor([[[0.1804, 0.6667, 0.1137,  ..., 0.5255, 0.5216, 0.5176],\n",
            "         [0.1490, 0.6706, 0.0039,  ..., 0.4196, 0.3922, 0.3765],\n",
            "         [0.1059, 0.7686, 0.3961,  ..., 0.2706, 0.2627, 0.2667],\n",
            "         ...,\n",
            "         [0.0196, 0.0118, 0.0000,  ..., 0.0000, 0.0078, 0.0235],\n",
            "         [0.0196, 0.0118, 0.0000,  ..., 0.0000, 0.0078, 0.0235],\n",
            "         [0.0118, 0.0078, 0.0000,  ..., 0.0000, 0.0000, 0.0000]]])\n",
            "tensor([0., 1.])\n"
          ],
          "name": "stdout"
        }
      ]
    },
    {
      "cell_type": "markdown",
      "metadata": {
        "id": "loved-pharmacology"
      },
      "source": [
        "### 2.c. Creating a test and val Dataset object\n",
        "\n",
        "Following the same logic in Section 2.b., we can create a Lung_Test_Dataset and a Lung_Val_Dataset object. They operate in the exact same manner as the Lung_Train_Dataset object from Section 2.b., but working on a different subfolder."
      ],
      "id": "loved-pharmacology"
    },
    {
      "cell_type": "code",
      "metadata": {
        "id": "talented-nigeria"
      },
      "source": [
        "class Lung_Test_Dataset(Dataset):\n",
        "    \n",
        "    def __init__(self):\n",
        "        \"\"\"\n",
        "        Constructor for generic Dataset class - simply assembles\n",
        "        the important parameters in attributes.\n",
        "        \"\"\"\n",
        "        \n",
        "        # All images are of size 150 x 150\n",
        "        self.img_size = (150, 150)\n",
        "        \n",
        "        # Only two classes will be considered here (normal and infected)\n",
        "        self.classes = {0: 'normal', 1: 'infected'}\n",
        "        \n",
        "        # The dataset consists only of test images\n",
        "        self.groups = 'test'\n",
        "        \n",
        "        # Number of images in each part of the dataset\n",
        "        self.dataset_numbers = {'test_normal': 14,\\\n",
        "                                'test_infected': 13}\n",
        "        \n",
        "        # Path to images for different parts of the dataset\n",
        "        self.dataset_paths = {'test_normal': './dataset_demo/test/normal/',\\\n",
        "                              'test_infected': './dataset_demo/test/infected/'}\n",
        "        \n",
        "        \n",
        "    def describe(self):\n",
        "        \"\"\"\n",
        "        Descriptor function.\n",
        "        Will print details about the dataset when called.\n",
        "        \"\"\"\n",
        "        \n",
        "        # Generate description\n",
        "        msg = \"This is the test dataset of the Lung Dataset\"\n",
        "        msg += \" used for the Small Project Demo in the 50.039 Deep Learning class\"\n",
        "        msg += \" in Feb-March 2021. \\n\"\n",
        "        msg += \"It contains a total of {} images, \".format(sum(self.dataset_numbers.values()))\n",
        "        msg += \"of size {} by {}.\\n\".format(self.img_size[0], self.img_size[1])\n",
        "        msg += \"The images are stored in the following locations \"\n",
        "        msg += \"and each one contains the following number of images:\\n\"\n",
        "        for key, val in self.dataset_paths.items():\n",
        "            msg += \" - {}, in folder {}: {} images.\\n\".format(key, val, self.dataset_numbers[key])\n",
        "        print(msg)\n",
        "        \n",
        "    \n",
        "    def open_img(self, group_val, class_val, index_val):\n",
        "        \"\"\"\n",
        "        Opens image with specified parameters.\n",
        "        \n",
        "        Parameters:\n",
        "        - group_val should take values in 'train', 'test' or 'val'.\n",
        "        - class_val variable should be set to 'normal' or 'infected'.\n",
        "        - index_val should be an integer with values between 0 and the maximal number of images in dataset.\n",
        "        \n",
        "        Returns loaded image as a normalized Numpy array.\n",
        "        \"\"\"\n",
        "        \n",
        "        # Asserts checking for consistency in passed parameters\n",
        "        err_msg = \"Error - group_val variable should be set to 'train', 'test' or 'val'.\"\n",
        "        assert group_val in self.groups, err_msg\n",
        "        \n",
        "        err_msg = \"Error - class_val variable should be set to 'normal' or 'infected'.\"\n",
        "        assert class_val in self.classes.values(), err_msg\n",
        "        \n",
        "        max_val = self.dataset_numbers['{}_{}'.format(group_val, class_val)]\n",
        "        err_msg = \"Error - index_val variable should be an integer between 0 and the maximal number of images.\"\n",
        "        err_msg += \"\\n(In {}/{}, you have {} images.)\".format(group_val, class_val, max_val)\n",
        "        assert isinstance(index_val, int), err_msg\n",
        "        assert index_val >= 0 and index_val <= max_val, err_msg\n",
        "        \n",
        "        # Open file as before\n",
        "        path_to_file = '{}/{}.jpg'.format(self.dataset_paths['{}_{}'.format(group_val, class_val)], index_val)\n",
        "        with open(path_to_file, 'rb') as f:\n",
        "            im = np.asarray(Image.open(f))/255\n",
        "        f.close()\n",
        "        return im\n",
        "    \n",
        "    \n",
        "    def show_img(self, group_val, class_val, index_val):\n",
        "        \"\"\"\n",
        "        Opens, then displays image with specified parameters.\n",
        "        \n",
        "        Parameters:\n",
        "        - group_val should take values in 'train', 'test' or 'val'.\n",
        "        - class_val variable should be set to 'normal' or 'infected'.\n",
        "        - index_val should be an integer with values between 0 and the maximal number of images in dataset.\n",
        "        \"\"\"\n",
        "        \n",
        "        # Open image\n",
        "        im = self.open_img(group_val, class_val, index_val)\n",
        "        \n",
        "        # Display\n",
        "        plt.imshow(im)\n",
        "        \n",
        "        \n",
        "    def __len__(self):\n",
        "        \"\"\"\n",
        "        Length special method, returns the number of images in dataset.\n",
        "        \"\"\"\n",
        "        \n",
        "        # Length function\n",
        "        return sum(self.dataset_numbers.values())\n",
        "    \n",
        "    \n",
        "    def __getitem__(self, index):\n",
        "        \"\"\"\n",
        "        Getitem special method.\n",
        "        \n",
        "        Expects an integer value index, between 0 and len(self) - 1.\n",
        "        \n",
        "        Returns the image and its label as a one hot vector, both\n",
        "        in torch tensor format in dataset.\n",
        "        \"\"\"\n",
        "        \n",
        "        # Get item special method\n",
        "        first_val = int(list(self.dataset_numbers.values())[0])\n",
        "        if index < first_val:\n",
        "            class_val = 'normal'\n",
        "            label = torch.Tensor([1, 0])\n",
        "        else:\n",
        "            class_val = 'infected'\n",
        "            index = index - first_val\n",
        "            label = torch.Tensor([0, 1])\n",
        "        im = self.open_img(self.groups, class_val, index)\n",
        "        im = transforms.functional.to_tensor(np.array(im)).float()\n",
        "        return im, label"
      ],
      "id": "talented-nigeria",
      "execution_count": 20,
      "outputs": []
    },
    {
      "cell_type": "code",
      "metadata": {
        "scrolled": true,
        "colab": {
          "base_uri": "https://localhost:8080/"
        },
        "id": "adequate-bubble",
        "outputId": "d10cff21-c414-43b5-bfe6-c2cdf924d920"
      },
      "source": [
        "ld_test = Lung_Test_Dataset()\n",
        "ld_test.describe()"
      ],
      "id": "adequate-bubble",
      "execution_count": 21,
      "outputs": [
        {
          "output_type": "stream",
          "text": [
            "This is the test dataset of the Lung Dataset used for the Small Project Demo in the 50.039 Deep Learning class in Feb-March 2021. \n",
            "It contains a total of 27 images, of size 150 by 150.\n",
            "The images are stored in the following locations and each one contains the following number of images:\n",
            " - test_normal, in folder ./dataset_demo/test/normal/: 14 images.\n",
            " - test_infected, in folder ./dataset_demo/test/infected/: 13 images.\n",
            "\n"
          ],
          "name": "stdout"
        }
      ]
    },
    {
      "cell_type": "code",
      "metadata": {
        "colab": {
          "base_uri": "https://localhost:8080/"
        },
        "id": "occasional-beginning",
        "outputId": "c48e60f4-db5f-487b-b4d0-15658e798fb7"
      },
      "source": [
        "print(len(ld_test))"
      ],
      "id": "occasional-beginning",
      "execution_count": 22,
      "outputs": [
        {
          "output_type": "stream",
          "text": [
            "27\n"
          ],
          "name": "stdout"
        }
      ]
    },
    {
      "cell_type": "code",
      "metadata": {
        "colab": {
          "base_uri": "https://localhost:8080/"
        },
        "id": "fixed-receptor",
        "outputId": "cf683f03-ef59-4398-925a-5af938e04ed0"
      },
      "source": [
        "im, class_oh = ld_test[18]\n",
        "print(im.shape)\n",
        "print(im)\n",
        "print(class_oh)"
      ],
      "id": "fixed-receptor",
      "execution_count": 23,
      "outputs": [
        {
          "output_type": "stream",
          "text": [
            "torch.Size([1, 150, 150])\n",
            "tensor([[[0.4196, 0.3294, 0.2824,  ..., 0.3373, 0.7451, 0.7216],\n",
            "         [0.4157, 0.3255, 0.2824,  ..., 0.3765, 0.7922, 0.7529],\n",
            "         [0.2980, 0.2078, 0.1686,  ..., 0.4275, 0.7961, 0.7216],\n",
            "         ...,\n",
            "         [0.1686, 0.1176, 0.0510,  ..., 0.1373, 0.1608, 0.2000],\n",
            "         [0.0667, 0.0471, 0.0157,  ..., 0.1216, 0.1020, 0.0902],\n",
            "         [0.0392, 0.0392, 0.0314,  ..., 0.1294, 0.1059, 0.0784]]])\n",
            "tensor([0., 1.])\n"
          ],
          "name": "stdout"
        }
      ]
    },
    {
      "cell_type": "code",
      "metadata": {
        "id": "respiratory-block"
      },
      "source": [
        "class Lung_Val_Dataset(Dataset):\n",
        "    \n",
        "    def __init__(self):\n",
        "        \"\"\"\n",
        "        Constructor for generic Dataset class - simply assembles\n",
        "        the important parameters in attributes.\n",
        "        \"\"\"\n",
        "        \n",
        "        # All images are of size 150 x 150\n",
        "        self.img_size = (150, 150)\n",
        "        \n",
        "        # Only two classes will be considered here (normal and infected)\n",
        "        self.classes = {0: 'normal', 1: 'infected'}\n",
        "        \n",
        "        # The dataset consists only of validation images\n",
        "        self.groups = 'val'\n",
        "        \n",
        "        # Number of images in each part of the dataset\n",
        "        self.dataset_numbers = {'val_normal': 4,\\\n",
        "                                'val_infected': 4}\n",
        "        \n",
        "        # Path to images for different parts of the dataset\n",
        "        self.dataset_paths = {'val_normal': './dataset_demo/val/normal/',\\\n",
        "                              'val_infected': './dataset_demo/val/infected/'}\n",
        "        \n",
        "        \n",
        "    def describe(self):\n",
        "        \"\"\"\n",
        "        Descriptor function.\n",
        "        Will print details about the dataset when called.\n",
        "        \"\"\"\n",
        "        \n",
        "        # Generate description\n",
        "        msg = \"This is the validation dataset of the Lung Dataset\"\n",
        "        msg += \" used for the Small Project Demo in the 50.039 Deep Learning class\"\n",
        "        msg += \" in Feb-March 2021. \\n\"\n",
        "        msg += \"It contains a total of {} images, \".format(sum(self.dataset_numbers.values()))\n",
        "        msg += \"of size {} by {}.\\n\".format(self.img_size[0], self.img_size[1])\n",
        "        msg += \"The images are stored in the following locations \"\n",
        "        msg += \"and each one contains the following number of images:\\n\"\n",
        "        for key, val in self.dataset_paths.items():\n",
        "            msg += \" - {}, in folder {}: {} images.\\n\".format(key, val, self.dataset_numbers[key])\n",
        "        print(msg)\n",
        "        \n",
        "    \n",
        "    def open_img(self, group_val, class_val, index_val):\n",
        "        \"\"\"\n",
        "        Opens image with specified parameters.\n",
        "        \n",
        "        Parameters:\n",
        "        - group_val should take values in 'train', 'test' or 'val'.\n",
        "        - class_val variable should be set to 'normal' or 'infected'.\n",
        "        - index_val should be an integer with values between 0 and the maximal number of images in dataset.\n",
        "        \n",
        "        Returns loaded image as a normalized Numpy array.\n",
        "        \"\"\"\n",
        "        \n",
        "        # Asserts checking for consistency in passed parameters\n",
        "        err_msg = \"Error - group_val variable should be set to 'train', 'test' or 'val'.\"\n",
        "        assert group_val in self.groups, err_msg\n",
        "        \n",
        "        err_msg = \"Error - class_val variable should be set to 'normal' or 'infected'.\"\n",
        "        assert class_val in self.classes.values(), err_msg\n",
        "        \n",
        "        max_val = self.dataset_numbers['{}_{}'.format(group_val, class_val)]\n",
        "        err_msg = \"Error - index_val variable should be an integer between 0 and the maximal number of images.\"\n",
        "        err_msg += \"\\n(In {}/{}, you have {} images.)\".format(group_val, class_val, max_val)\n",
        "        assert isinstance(index_val, int), err_msg\n",
        "        assert index_val >= 0 and index_val <= max_val, err_msg\n",
        "        \n",
        "        # Open file as before\n",
        "        path_to_file = '{}/{}.jpg'.format(self.dataset_paths['{}_{}'.format(group_val, class_val)], index_val)\n",
        "        with open(path_to_file, 'rb') as f:\n",
        "            im = np.asarray(Image.open(f))/255\n",
        "        f.close()\n",
        "        return im\n",
        "    \n",
        "    \n",
        "    def show_img(self, group_val, class_val, index_val):\n",
        "        \"\"\"\n",
        "        Opens, then displays image with specified parameters.\n",
        "        \n",
        "        Parameters:\n",
        "        - group_val should take values in 'train', 'test' or 'val'.\n",
        "        - class_val variable should be set to 'normal' or 'infected'.\n",
        "        - index_val should be an integer with values between 0 and the maximal number of images in dataset.\n",
        "        \"\"\"\n",
        "        \n",
        "        # Open image\n",
        "        im = self.open_img(group_val, class_val, index_val)\n",
        "        \n",
        "        # Display\n",
        "        plt.imshow(im)\n",
        "        \n",
        "        \n",
        "    def __len__(self):\n",
        "        \"\"\"\n",
        "        Length special method, returns the number of images in dataset.\n",
        "        \"\"\"\n",
        "        \n",
        "        # Length function\n",
        "        return sum(self.dataset_numbers.values())\n",
        "    \n",
        "    \n",
        "    def __getitem__(self, index):\n",
        "        \"\"\"\n",
        "        Getitem special method.\n",
        "        \n",
        "        Expects an integer value index, between 0 and len(self) - 1.\n",
        "        \n",
        "        Returns the image and its label as a one hot vector, both\n",
        "        in torch tensor format in dataset.\n",
        "        \"\"\"\n",
        "        \n",
        "        # Get item special method\n",
        "        first_val = int(list(self.dataset_numbers.values())[0])\n",
        "        if index < first_val:\n",
        "            class_val = 'normal'\n",
        "            label = torch.Tensor([1, 0])\n",
        "        else:\n",
        "            class_val = 'infected'\n",
        "            index = index - first_val\n",
        "            label = torch.Tensor([0, 1])\n",
        "        im = self.open_img(self.groups, class_val, index)\n",
        "        im = transforms.functional.to_tensor(np.array(im)).float()\n",
        "        return im, label"
      ],
      "id": "respiratory-block",
      "execution_count": 24,
      "outputs": []
    },
    {
      "cell_type": "code",
      "metadata": {
        "scrolled": true,
        "colab": {
          "base_uri": "https://localhost:8080/"
        },
        "id": "sixth-lottery",
        "outputId": "e9d00c54-9c9f-4cf1-aebc-1e99080138c9"
      },
      "source": [
        "ld_val = Lung_Val_Dataset()\n",
        "ld_val.describe()"
      ],
      "id": "sixth-lottery",
      "execution_count": 25,
      "outputs": [
        {
          "output_type": "stream",
          "text": [
            "This is the validation dataset of the Lung Dataset used for the Small Project Demo in the 50.039 Deep Learning class in Feb-March 2021. \n",
            "It contains a total of 8 images, of size 150 by 150.\n",
            "The images are stored in the following locations and each one contains the following number of images:\n",
            " - val_normal, in folder ./dataset_demo/val/normal/: 4 images.\n",
            " - val_infected, in folder ./dataset_demo/val/infected/: 4 images.\n",
            "\n"
          ],
          "name": "stdout"
        }
      ]
    },
    {
      "cell_type": "code",
      "metadata": {
        "colab": {
          "base_uri": "https://localhost:8080/"
        },
        "id": "cross-authentication",
        "outputId": "2a90888b-ce20-40dc-f61e-16d2b39eee0e"
      },
      "source": [
        "print(len(ld_val))"
      ],
      "id": "cross-authentication",
      "execution_count": 26,
      "outputs": [
        {
          "output_type": "stream",
          "text": [
            "8\n"
          ],
          "name": "stdout"
        }
      ]
    },
    {
      "cell_type": "code",
      "metadata": {
        "colab": {
          "base_uri": "https://localhost:8080/"
        },
        "id": "remarkable-animation",
        "outputId": "42282fe0-c6dc-4f83-ae14-f5507e9ed9d6"
      },
      "source": [
        "im, class_oh = ld_val[3]\n",
        "print(im.shape)\n",
        "print(im)\n",
        "print(class_oh)"
      ],
      "id": "remarkable-animation",
      "execution_count": 27,
      "outputs": [
        {
          "output_type": "stream",
          "text": [
            "torch.Size([1, 150, 150])\n",
            "tensor([[[0.2627, 0.2392, 0.3686,  ..., 0.0863, 0.0784, 0.0588],\n",
            "         [0.0784, 0.1255, 0.3725,  ..., 0.0745, 0.0745, 0.0627],\n",
            "         [0.2902, 0.2863, 0.4824,  ..., 0.0745, 0.0824, 0.0667],\n",
            "         ...,\n",
            "         [0.0000, 0.0000, 0.0039,  ..., 0.0000, 0.0000, 0.0000],\n",
            "         [0.0118, 0.0000, 0.0000,  ..., 0.0000, 0.0000, 0.0000],\n",
            "         [0.0314, 0.0000, 0.0000,  ..., 0.0000, 0.0000, 0.0000]]])\n",
            "tensor([1., 0.])\n"
          ],
          "name": "stdout"
        }
      ]
    },
    {
      "cell_type": "markdown",
      "metadata": {
        "id": "medium-carpet"
      },
      "source": [
        "## 3. Creating a Dataloader object\n",
        "\n",
        "The final step is to create Dataloaders, based on our previous Dataset objects. These Dataloaders will later be used for training, testing and evaluating our models in PyTorch.\n",
        "\n",
        "The dataloaders can be simply created by using the DataLoader object from the torch.utils.data library, and by simply passing it our Dataset object. Additional parameters such as the batch_size (set to 4 for demo here) can be specified. Another interesting parameter is the shuffle = True one, which will randomly shuffle the order in which the images are selected in the Dataset.\n",
        "\n",
        "Additional parameters for the DataLoader can be specified (see https://pytorch.org/docs/stable/data.html#torch.utils.data.DataLoader for details), but it will not be necessary for this small project."
      ],
      "id": "medium-carpet"
    },
    {
      "cell_type": "code",
      "metadata": {
        "id": "german-garbage"
      },
      "source": [
        "# Batch size value to be used (to be decided freely, but set to 4 for demo)\n",
        "bs_val = 4"
      ],
      "id": "german-garbage",
      "execution_count": 28,
      "outputs": []
    },
    {
      "cell_type": "code",
      "metadata": {
        "colab": {
          "base_uri": "https://localhost:8080/"
        },
        "id": "established-boston",
        "outputId": "3a40f25a-7db8-435b-f8db-4dca02e34a29"
      },
      "source": [
        "# Dataloader from dataset (train)\n",
        "train_loader = DataLoader(ld_train, batch_size = bs_val, shuffle = True)\n",
        "print(train_loader)"
      ],
      "id": "established-boston",
      "execution_count": 29,
      "outputs": [
        {
          "output_type": "stream",
          "text": [
            "<torch.utils.data.dataloader.DataLoader object at 0x7faa2a9e8810>\n"
          ],
          "name": "stdout"
        }
      ]
    },
    {
      "cell_type": "code",
      "metadata": {
        "colab": {
          "base_uri": "https://localhost:8080/"
        },
        "id": "excess-portugal",
        "outputId": "ffcdf337-c5be-42bf-c065-539c4d2d28b6"
      },
      "source": [
        "# Dataloader from dataset (test and val)\n",
        "test_loader = DataLoader(ld_test, batch_size = bs_val, shuffle = True)\n",
        "print(test_loader)\n",
        "val_loader = DataLoader(ld_val, batch_size = bs_val, shuffle = True)\n",
        "print(val_loader)"
      ],
      "id": "excess-portugal",
      "execution_count": 30,
      "outputs": [
        {
          "output_type": "stream",
          "text": [
            "<torch.utils.data.dataloader.DataLoader object at 0x7faa2a99d250>\n",
            "<torch.utils.data.dataloader.DataLoader object at 0x7faa2aa05190>\n"
          ],
          "name": "stdout"
        }
      ]
    },
    {
      "cell_type": "markdown",
      "metadata": {
        "id": "hybrid-riding"
      },
      "source": [
        "During the training, you will call for mini-batches using a for loop of some sort, probably similar to the one below.\n",
        "\n",
        "Notice how each iteration of the for loop below produces a torch tensor of size [1, bs_val, 150, 150] in v[0] containing the bs_val = 4 images in the current mini-batch. You also have, in v[1], a torch tensor of size [bs_val, 2], containing the one hot vectors for each of the bs_val = 4 images.\n",
        "\n",
        "We voluntarily interrupt it after one iteration of the mini-batch using an assert False."
      ],
      "id": "hybrid-riding"
    },
    {
      "cell_type": "code",
      "metadata": {
        "scrolled": false,
        "colab": {
          "base_uri": "https://localhost:8080/"
        },
        "id": "dependent-louisville",
        "outputId": "b41c9259-5dc8-4ed2-9afd-3b70f3942e03"
      },
      "source": [
        "# Typical mini-batch for loop on dataloader (train)\n",
        "for k, v in enumerate(train_loader):\n",
        "    print(\"-----\")\n",
        "    print(k)\n",
        "    print(v[0])\n",
        "    print(v[1])\n",
        "    # Forced stop\n",
        "    break\n",
        "    #assert False, \"Forced stop after one iteration of the for loop\""
      ],
      "id": "dependent-louisville",
      "execution_count": 31,
      "outputs": [
        {
          "output_type": "stream",
          "text": [
            "-----\n",
            "0\n",
            "tensor([[[[0.1804, 0.6667, 0.1137,  ..., 0.5255, 0.5216, 0.5176],\n",
            "          [0.1490, 0.6706, 0.0039,  ..., 0.4196, 0.3922, 0.3765],\n",
            "          [0.1059, 0.7686, 0.3961,  ..., 0.2706, 0.2627, 0.2667],\n",
            "          ...,\n",
            "          [0.0196, 0.0118, 0.0000,  ..., 0.0000, 0.0078, 0.0235],\n",
            "          [0.0196, 0.0118, 0.0000,  ..., 0.0000, 0.0078, 0.0235],\n",
            "          [0.0118, 0.0078, 0.0000,  ..., 0.0000, 0.0000, 0.0000]]],\n",
            "\n",
            "\n",
            "        [[[0.4392, 0.4588, 0.4941,  ..., 0.2784, 0.2510, 0.2314],\n",
            "          [0.2157, 0.2353, 0.2706,  ..., 0.2706, 0.2392, 0.2235],\n",
            "          [0.1529, 0.1765, 0.2157,  ..., 0.2627, 0.2275, 0.2078],\n",
            "          ...,\n",
            "          [0.0000, 0.0000, 0.0000,  ..., 0.0000, 0.0039, 0.0000],\n",
            "          [0.0000, 0.0000, 0.0000,  ..., 0.0039, 0.0039, 0.0000],\n",
            "          [0.0000, 0.0000, 0.0000,  ..., 0.0039, 0.0039, 0.0000]]],\n",
            "\n",
            "\n",
            "        [[[0.0000, 0.0000, 0.0000,  ..., 0.0000, 0.0000, 0.0000],\n",
            "          [0.0000, 0.0000, 0.0000,  ..., 0.0000, 0.0000, 0.0000],\n",
            "          [0.0000, 0.0000, 0.0000,  ..., 0.0000, 0.0000, 0.0000],\n",
            "          ...,\n",
            "          [0.0000, 0.0000, 0.0000,  ..., 0.0000, 0.0000, 0.0000],\n",
            "          [0.0000, 0.0000, 0.0000,  ..., 0.0000, 0.0000, 0.0000],\n",
            "          [0.0000, 0.0000, 0.0000,  ..., 0.0000, 0.0000, 0.0000]]],\n",
            "\n",
            "\n",
            "        [[[0.1843, 0.1882, 0.1961,  ..., 0.1922, 0.1843, 0.1725],\n",
            "          [0.1922, 0.2078, 0.2235,  ..., 0.2039, 0.2039, 0.1961],\n",
            "          [0.1961, 0.2118, 0.2314,  ..., 0.2235, 0.2314, 0.2314],\n",
            "          ...,\n",
            "          [0.0784, 0.0549, 0.0510,  ..., 0.0863, 0.0627, 0.0902],\n",
            "          [0.0784, 0.0549, 0.0510,  ..., 0.0863, 0.0627, 0.0902],\n",
            "          [0.0824, 0.0588, 0.0549,  ..., 0.0863, 0.0627, 0.0902]]]])\n",
            "tensor([[0., 1.],\n",
            "        [1., 0.],\n",
            "        [1., 0.],\n",
            "        [0., 1.]])\n"
          ],
          "name": "stdout"
        }
      ]
    },
    {
      "cell_type": "markdown",
      "metadata": {
        "id": "white-equipment"
      },
      "source": [
        "## 4. Using our dataloader for training a model\n",
        "\n",
        "We can then use our custom dataloader for training a model.\n",
        "If we decide to create a model as a subclass of the nn.Module of PyTorch, and later write a train function, as in this Notebook shown in class (https://colab.research.google.com/drive/1zhDmMfSFBy3clH-NRp9nXruQXnckZ3X1#scrollTo=KZd049wKyFT8), then our train_loader object defined in Section 3., can be directly fed to our train function in place of the train_loader.\n",
        "\n",
        "We could for instance, define a simple (probably too simple!) model below."
      ],
      "id": "white-equipment"
    },
    {
      "cell_type": "code",
      "metadata": {
        "id": "laughing-joint"
      },
      "source": [
        "# A simple mode\n",
        "class Net(nn.Module):\n",
        "    def __init__(self):\n",
        "        super(Net, self).__init__()\n",
        "        # Conv2D: 1 input channel, 8 output channels, 3 by 3 kernel, stride of 1.\n",
        "        self.conv1 = nn.Conv2d(1, 4, 3, 1)\n",
        "        self.fc1 = nn.Linear(87616, 2)\n",
        "\n",
        "    def forward(self, x):\n",
        "        x = self.conv1(x)\n",
        "        x = torch.flatten(x, 1)\n",
        "        x = self.fc1(x)\n",
        "        output = F.log_softmax(x, dim = 1)\n",
        "        return output"
      ],
      "id": "laughing-joint",
      "execution_count": 32,
      "outputs": []
    },
    {
      "cell_type": "code",
      "metadata": {
        "id": "reserved-treasury"
      },
      "source": [
        "# Create model\n",
        "model = Net()"
      ],
      "id": "reserved-treasury",
      "execution_count": 33,
      "outputs": []
    },
    {
      "cell_type": "markdown",
      "metadata": {
        "id": "funded-casting"
      },
      "source": [
        "Later on, we will probably have to write a train function, which will implement a mini-batch loop, which resembles the one below. It will simply iterate on the DataLoader we have defined earlier."
      ],
      "id": "funded-casting"
    },
    {
      "cell_type": "code",
      "metadata": {
        "colab": {
          "base_uri": "https://localhost:8080/"
        },
        "id": "related-newman",
        "outputId": "56cba7b5-4671-4af5-ab14-603d53e47ed4"
      },
      "source": [
        "# Try model on one mini-batch\n",
        "for batch_idx, (images_data, target_labels) in enumerate(train_loader):\n",
        "    predicted_labels = model(images_data)\n",
        "    print(predicted_labels)\n",
        "    print(target_labels)\n",
        "    # Forced stop\n",
        "    break\n",
        "    #assert False, \"Forced stop after one iteration of the mini-batch for loop\""
      ],
      "id": "related-newman",
      "execution_count": 34,
      "outputs": [
        {
          "output_type": "stream",
          "text": [
            "tensor([[-0.6203, -0.7717],\n",
            "        [-0.6281, -0.7627],\n",
            "        [-0.6213, -0.7706],\n",
            "        [-0.5939, -0.8034]], grad_fn=<LogSoftmaxBackward>)\n",
            "tensor([[1., 0.],\n",
            "        [1., 0.],\n",
            "        [1., 0.],\n",
            "        [1., 0.]])\n"
          ],
          "name": "stdout"
        }
      ]
    },
    {
      "cell_type": "markdown",
      "metadata": {
        "id": "improving-syndication"
      },
      "source": [
        "## 5. What is next?\n",
        "\n",
        "You will have to download the full pictures repository, as specified in the Small Project instruction PDF. It will contain a much larger dataset, for which you will have to write a DataLoader. You may reuse parts of the codes presented in this notebook to come up with your custom DataLoader, if necessary.\n",
        "\n",
        "Later on, you will have to train a model for classification, as suggested in the Small Project PDF!\n",
        "Good luck!"
      ],
      "id": "improving-syndication"
    },
    {
      "cell_type": "code",
      "metadata": {
        "id": "elect-indonesian"
      },
      "source": [
        ""
      ],
      "id": "elect-indonesian",
      "execution_count": 34,
      "outputs": []
    }
  ]
}