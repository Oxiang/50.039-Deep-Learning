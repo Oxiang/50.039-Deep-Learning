{
  "nbformat": 4,
  "nbformat_minor": 5,
  "metadata": {
    "kernelspec": {
      "display_name": "Python 3",
      "language": "python",
      "name": "python3"
    },
    "language_info": {
      "codemirror_mode": {
        "name": "ipython",
        "version": 3
      },
      "file_extension": ".py",
      "mimetype": "text/x-python",
      "name": "python",
      "nbconvert_exporter": "python",
      "pygments_lexer": "ipython3",
      "version": "3.8.3"
    },
    "colab": {
      "name": "custom_dataset_dataloader.ipynb",
      "provenance": [],
      "collapsed_sections": [],
      "toc_visible": true
    }
  },
  "cells": [
    {
      "cell_type": "markdown",
      "metadata": {
        "id": "moral-rebound"
      },
      "source": [
        "# Boilerplate notebook"
      ],
      "id": "moral-rebound"
    },
    {
      "cell_type": "code",
      "metadata": {
        "id": "crude-waste"
      },
      "source": [
        "# Matplotlib\n",
        "import matplotlib.pyplot as plt\n",
        "# Numpy\n",
        "import numpy as np\n",
        "# Pillow\n",
        "from PIL import Image\n",
        "# Torch\n",
        "import torch\n",
        "from torch.utils.data import Dataset, DataLoader\n",
        "import torch.nn as nn\n",
        "import torch.optim as optim\n",
        "import torch.nn.functional as F\n",
        "from torchvision import transforms"
      ],
      "id": "crude-waste",
      "execution_count": null,
      "outputs": []
    },
    {
      "cell_type": "markdown",
      "metadata": {
        "id": "R4gBSNDrcfGl"
      },
      "source": [
        "# 1. Download dataset"
      ],
      "id": "R4gBSNDrcfGl"
    },
    {
      "cell_type": "code",
      "metadata": {
        "id": "lcHbRtuHcd-N"
      },
      "source": [
        "!git clone -b data https://github.com/Oxiang/50.039-Deep-Learning.git"
      ],
      "id": "lcHbRtuHcd-N",
      "execution_count": null,
      "outputs": []
    },
    {
      "cell_type": "code",
      "metadata": {
        "id": "J3ElMDwpU831"
      },
      "source": [
        "!sudo apt-get install tree"
      ],
      "id": "J3ElMDwpU831",
      "execution_count": null,
      "outputs": []
    },
    {
      "cell_type": "code",
      "metadata": {
        "id": "g4-h2B3OVCRe"
      },
      "source": [
        "cd 50.039-Deep-Learning"
      ],
      "id": "g4-h2B3OVCRe",
      "execution_count": null,
      "outputs": []
    },
    {
      "cell_type": "code",
      "metadata": {
        "id": "DW2ZD2afqdmF"
      },
      "source": [
        "%%bash\r\n",
        "\r\n",
        "(\r\n",
        "tree dataset -d\r\n",
        ") "
      ],
      "id": "DW2ZD2afqdmF",
      "execution_count": null,
      "outputs": []
    },
    {
      "cell_type": "markdown",
      "metadata": {
        "id": "aWQTRVbAVkPQ"
      },
      "source": [
        "# 2. Dataset high-level info\r\n",
        "\r\n",
        "The images stored in the **./dataset** folder and its subfolder consists of 150 by 150 pixels greyscale images, representing X-Ray pictures of lungs.\r\n",
        "\r\n",
        "The images, consists of X-ray pictures of the following:\r\n",
        "\r\n",
        "| Description                              | Class index | Tensor  | Class label        |\r\n",
        "| ---------------------------------------- | ----------- | ------- | ------------------ |\r\n",
        "| People with no infection diagnosis       | 0           | [1 0 0] | normal             |\r\n",
        "| People with infected lungs and non-covid | 1           | [0 1 0] | infected_non_covid |\r\n",
        "| People with infected lungs and covid     | 2           | [0 0 1] | infected_covid     |\r\n",
        "\r\n"
      ],
      "id": "aWQTRVbAVkPQ"
    },
    {
      "cell_type": "code",
      "metadata": {
        "id": "NZhr10rHVlIj"
      },
      "source": [
        "classes = {0: 'normal', 1: 'infected_non_covid', 2: 'infected_covid'}\r\n",
        "groups = ['train', 'test', 'val']\r\n",
        "dataset_numbers = {\r\n",
        "    'train_normal': 1341,\r\n",
        "    'train_infected_non_covid': 2530,\r\n",
        "    'train_infected_covid': 1345,\r\n",
        "    'val_normal': 8,\r\n",
        "    'val_infected_non_covid': 8,\r\n",
        "    'val_infected_covid': 8,    \r\n",
        "    'test_normal': 234,\r\n",
        "    'test_infected_non_covid': 242,\r\n",
        "    'test_infected_covid': 138,\r\n",
        "}\r\n",
        "dataset_paths = {\r\n",
        "    'train_normal': './dataset/train/normal/',\r\n",
        "    'train_infected_non_covid': './dataset/train/infected/non-covid/',\r\n",
        "    'train_infected_covid': './dataset/train/infected/covid/',\r\n",
        "    'val_normal': './dataset/val/normal/',\r\n",
        "    'val_infected_non_covid': './dataset/val/infected/non-covid/',\r\n",
        "    'val_infected_covid': './dataset/val/infected/covid/',    \r\n",
        "    'test_normal': './dataset/test/normal/',\r\n",
        "    'test_infected_non_covid': './dataset/test/infected/non-covid/',\r\n",
        "    'test_infected_covid': './dataset/test/infected/covid/',    \r\n",
        "}"
      ],
      "id": "NZhr10rHVlIj",
      "execution_count": null,
      "outputs": []
    },
    {
      "cell_type": "markdown",
      "metadata": {
        "id": "_kakruEOWFn2"
      },
      "source": [
        "View one of the images and its properties. These images consist of a Numpy array, with values ranging between 0 and 255. These values will be normalized."
      ],
      "id": "_kakruEOWFn2"
    },
    {
      "cell_type": "code",
      "metadata": {
        "id": "THPZFpETWAWK"
      },
      "source": [
        "path_to_file = './dataset/train/normal/1.jpg'\r\n",
        "with open(path_to_file, 'rb') as f:\r\n",
        "    im = np.asarray(Image.open(f))\r\n",
        "    plt.imshow(im)\r\n",
        "f.close()\r\n",
        "print('Image shape is: {}'.format(im.shape))\r\n",
        "# Images are defined as a Numpy array of values between 0 and 256\r\n",
        "print('Image as a numpy array is:\\n {}'.format(im))"
      ],
      "id": "THPZFpETWAWK",
      "execution_count": null,
      "outputs": []
    },
    {
      "cell_type": "markdown",
      "metadata": {
        "id": "Jcs9foiNXKY1"
      },
      "source": [
        "# 3. Creating a Dataset object"
      ],
      "id": "Jcs9foiNXKY1"
    },
    {
      "cell_type": "markdown",
      "metadata": {
        "id": "LKLCcIvxXLHu"
      },
      "source": [
        "## 3.1 General Dataset object that is custom made for train, val, test to individually use\r\n",
        "\r\n",
        "length method ( __ len __ )\r\n",
        "\r\n",
        "> return the number of images present in the dataset\r\n",
        "\r\n",
        "getitem method ( __ getitem __ )\r\n",
        "\r\n",
        "> fetch an image and its label, using a single index value. Returns the image, along with a one-hot vector corresponding to the class of the object. Both returned parameters will be torch tensors.\r\n",
        "- [1, 0,0] for normal class\r\n",
        "- [0, 1, 0] for infected_non_covid class\r\n",
        "- [0, 0, 1] for infected_covid class"
      ],
      "id": "LKLCcIvxXLHu"
    },
    {
      "cell_type": "code",
      "metadata": {
        "id": "LtNXQwKbXNfY"
      },
      "source": [
        "class Lung_Dataset(Dataset):\r\n",
        "    \"\"\"\r\n",
        "    Generic Dataset class.\r\n",
        "    \"\"\"\r\n",
        "    \r\n",
        "    def __init__(self, groups, dataset_numbers, dataset_paths):\r\n",
        "        \"\"\"\r\n",
        "        Constructor for generic Dataset class - assembles\r\n",
        "        the important parameters in attributes.\r\n",
        "\r\n",
        "        Parameters\r\n",
        "        ----------\r\n",
        "        groups : str\r\n",
        "            Allowed values: train, val, test\r\n",
        "        dataset_numbers : dict\r\n",
        "            Count of each class within specified group\r\n",
        "        dataset_paths : dict\r\n",
        "            Path to each class within specified group\r\n",
        "        \"\"\"\r\n",
        "\r\n",
        "        self.img_size = (150, 150)\r\n",
        "        self.classes = {\r\n",
        "            0: 'normal',\r\n",
        "            1: 'infected_non_covid',\r\n",
        "            2: 'infected_covid'\r\n",
        "        }        \r\n",
        "        self.groups = groups\r\n",
        "        self.dataset_numbers = dataset_numbers\r\n",
        "        self.dataset_paths = dataset_paths\r\n",
        "        \r\n",
        "        \r\n",
        "    def describe(self):\r\n",
        "        \"\"\"\r\n",
        "        Descriptor function.\r\n",
        "        Will print details about the dataset when called.\r\n",
        "        \"\"\"\r\n",
        "        \r\n",
        "        # Generate description\r\n",
        "        msg = \"This is the {} dataset of the Lung Dataset\".format(self.groups)\r\n",
        "        msg += \" used for the Small Project Demo in the 50.039 Deep Learning class\"\r\n",
        "        msg += \" in March 2021. \\n\"\r\n",
        "        msg += \"It contains a total of {} images, \".format(sum(self.dataset_numbers.values()))\r\n",
        "        msg += \"of size {} by {}.\\n\".format(self.img_size[0], self.img_size[1])\r\n",
        "        msg += \"The images are stored in the following locations \"\r\n",
        "        msg += \"and each one contains the following number of images:\\n\"\r\n",
        "        for key, val in self.dataset_paths.items():\r\n",
        "            msg += \" - {}, in folder {}: {} images.\\n\".format(key, val, self.dataset_numbers[key])\r\n",
        "        print(msg)\r\n",
        "        \r\n",
        "    \r\n",
        "    def open_img(self, group_val, class_val, index_val):\r\n",
        "        \"\"\"\r\n",
        "        Opens image with specified parameters.\r\n",
        "        \r\n",
        "        Parameters:\r\n",
        "        - group_val should take values in 'train', 'test' or 'val'.\r\n",
        "        - class_val variable should be set to 'normal' or 'infected_non_covid' or 'infected_covid'.\r\n",
        "        - index_val should be an integer with values between 0 and the maximal number of images in dataset.\r\n",
        "        \r\n",
        "        Returns loaded image as a normalized Numpy array.\r\n",
        "        \"\"\"\r\n",
        "        \r\n",
        "        # Asserts checking for consistency in passed parameters\r\n",
        "        err_msg = \"Error - group_val variable should be set to 'train', 'test' or 'val'.\"\r\n",
        "        assert group_val in self.groups, err_msg\r\n",
        "        \r\n",
        "        err_msg = \"Error - class_val variable should be set to 'normal' or 'infected_non_covid' or 'infected_covid.\"\r\n",
        "        assert class_val in self.classes.values(), err_msg\r\n",
        "        \r\n",
        "        max_val = self.dataset_numbers['{}_{}'.format(group_val, class_val)]\r\n",
        "        err_msg = \"Error - index_val variable should be an integer between 0 and the maximal number of images.\"\r\n",
        "        err_msg += \"\\n(In {}/{}, you have {} images.)\".format(group_val, class_val, max_val)\r\n",
        "        assert isinstance(index_val, int), err_msg\r\n",
        "        assert index_val >= 0 and index_val <= max_val, err_msg\r\n",
        "        \r\n",
        "        # Open file as before\r\n",
        "        path_to_file = '{}/{}.jpg'.format(self.dataset_paths['{}_{}'.format(group_val, class_val)], index_val)\r\n",
        "        with open(path_to_file, 'rb') as f:\r\n",
        "            # Convert to Numpy array and normalize pixel values by dividing by 255.\r\n",
        "            im = np.asarray(Image.open(f))/255\r\n",
        "        f.close()\r\n",
        "        return im\r\n",
        "    \r\n",
        "    \r\n",
        "    def show_img(self, group_val, class_val, index_val):\r\n",
        "        \"\"\"\r\n",
        "        Opens, then displays image with specified parameters.\r\n",
        "        \r\n",
        "        Parameters:\r\n",
        "        - group_val should take values in 'train', 'test' or 'val'.\r\n",
        "        - class_val variable should be set to 'normal' or 'infected'.\r\n",
        "        - index_val should be an integer with values between 0 and the maximal number of images in dataset.\r\n",
        "        \"\"\"\r\n",
        "        \r\n",
        "        # Open image\r\n",
        "        im = self.open_img(group_val, class_val, index_val)\r\n",
        "        \r\n",
        "        # Display\r\n",
        "        plt.imshow(im)\r\n",
        "\r\n",
        "    def __len__(self):\r\n",
        "        \"\"\"\r\n",
        "        Length special method, returns the number of images in dataset.\r\n",
        "        \"\"\"\r\n",
        "        \r\n",
        "        # Length function\r\n",
        "        return sum(self.dataset_numbers.values())\r\n",
        "    \r\n",
        "    \r\n",
        "    def __getitem__(self, index):\r\n",
        "        \"\"\"\r\n",
        "        Getitem special method.\r\n",
        "        \r\n",
        "        Expects an integer value index, between 0 and len(self) - 1.\r\n",
        "        \r\n",
        "        Returns the image and its label as a one hot vector, both\r\n",
        "        in torch tensor format in dataset.\r\n",
        "        \"\"\"\r\n",
        "        \r\n",
        "        # Get item special method\r\n",
        "        first_val = int(list(self.dataset_numbers.values())[0])\r\n",
        "        second_val = int(list(self.dataset_numbers.values())[1])\r\n",
        "        if index < first_val:\r\n",
        "            class_val = 'normal'\r\n",
        "            label = torch.Tensor([1, 0, 0])\r\n",
        "        elif index < (first_val+second_val):\r\n",
        "            class_val = 'infected_non_covid'\r\n",
        "            index = index - first_val\r\n",
        "            label = torch.Tensor([0, 1, 0])\r\n",
        "        else:\r\n",
        "            class_val = \"infected_covid\"\r\n",
        "            index = index - (first_val+second_val)\r\n",
        "            label = torch.Tensor([0, 0, 1])\r\n",
        "        im = self.open_img(self.groups, class_val, index)\r\n",
        "        im = transforms.functional.to_tensor(np.array(im)).float()\r\n",
        "        return im, label"
      ],
      "id": "LtNXQwKbXNfY",
      "execution_count": null,
      "outputs": []
    },
    {
      "cell_type": "code",
      "metadata": {
        "id": "dcOYB7aYX9O-"
      },
      "source": [
        "dataset_numbers = {\r\n",
        "    'train': {\r\n",
        "        'train_normal': 1341,\r\n",
        "        'train_infected_non_covid': 2530,\r\n",
        "        'train_infected_covid': 1345,\r\n",
        "    },\r\n",
        "    'val': {\r\n",
        "        'val_normal': 8,\r\n",
        "        'val_infected_non_covid': 8,\r\n",
        "        'val_infected_covid': 8,\r\n",
        "    },\r\n",
        "    'test': {\r\n",
        "        'test_normal': 234,\r\n",
        "        'test_infected_non_covid': 242,\r\n",
        "        'test_infected_covid': 138,\r\n",
        "    }\r\n",
        "}\r\n",
        "dataset_paths = {\r\n",
        "    'train': {\r\n",
        "        'train_normal': './dataset/train/normal/',\r\n",
        "        'train_infected_non_covid': './dataset/train/infected/non-covid/',\r\n",
        "        'train_infected_covid': './dataset/train/infected/covid/',\r\n",
        "    },\r\n",
        "    'val': {\r\n",
        "        'val_normal': './dataset/val/normal/',\r\n",
        "        'val_infected_non_covid': './dataset/val/infected/non-covid/',\r\n",
        "        'val_infected_covid': './dataset/val/infected/covid/',\r\n",
        "    },\r\n",
        "    'test': {\r\n",
        "        'test_normal': './dataset/test/normal/',\r\n",
        "        'test_infected_non_covid': './dataset/test/infected/non-covid/',\r\n",
        "        'test_infected_covid': './dataset/test/infected/covid/',\r\n",
        "    }\r\n",
        "}"
      ],
      "id": "dcOYB7aYX9O-",
      "execution_count": null,
      "outputs": []
    },
    {
      "cell_type": "code",
      "metadata": {
        "id": "lS4ivSxsYKgl"
      },
      "source": [
        "def verify_dataset(group,dataset,image_overall_index=7,class_val='normal',\r\n",
        "                   image_specific_dataset_index=1):\r\n",
        "  print('Verify the special methods __len__ and __get_item__')\r\n",
        "  print('Number of images in {} dataset: {}'.format(group, len(dataset)))\r\n",
        "  print('Details for image id {} from the {} dataset'.format(\r\n",
        "      image_overall_index,\r\n",
        "      group\r\n",
        "  ))\r\n",
        "  im, class_oh = dataset[image_overall_index]\r\n",
        "  print('Sample image shape: {}'.format(im.shape))\r\n",
        "  print('Sample image: {}'.format(im))\r\n",
        "  print('Sample image class: {}'.format(class_oh))\r\n",
        "\r\n",
        "  print('\\nVerify the open_img and show_img functions')\r\n",
        "  print('Open and show image {} from the {}_{} dataset'.format(\r\n",
        "      image_specific_dataset_index,\r\n",
        "      group,\r\n",
        "      class_val\r\n",
        "  ))\r\n",
        "  im = dataset.open_img(group, class_val, image_specific_dataset_index)\r\n",
        "  print('Same sample image shape: {}'.format(im.shape))\r\n",
        "  print('Same sample image: {}'.format(im))\r\n",
        "  dataset.show_img(group, class_val, image_specific_dataset_index)"
      ],
      "id": "lS4ivSxsYKgl",
      "execution_count": null,
      "outputs": []
    },
    {
      "cell_type": "markdown",
      "metadata": {
        "id": "s9CO29iBYHs-"
      },
      "source": [
        "## 3.2 Train dataset"
      ],
      "id": "s9CO29iBYHs-"
    },
    {
      "cell_type": "code",
      "metadata": {
        "id": "LBI4uwQqYiWI"
      },
      "source": [
        "train_group = 'train'\r\n",
        "ld_train = Lung_Dataset(\r\n",
        "    train_group,\r\n",
        "    dataset_numbers[train_group],\r\n",
        "    dataset_paths[train_group]\r\n",
        ")\r\n",
        "ld_train.describe()"
      ],
      "id": "LBI4uwQqYiWI",
      "execution_count": null,
      "outputs": []
    },
    {
      "cell_type": "code",
      "metadata": {
        "id": "jo4ZJTwpYjw4"
      },
      "source": [
        "verify_dataset(train_group,ld_train,1)"
      ],
      "id": "jo4ZJTwpYjw4",
      "execution_count": null,
      "outputs": []
    },
    {
      "cell_type": "markdown",
      "metadata": {
        "id": "YMz0d7zfY5W7"
      },
      "source": [
        "## 3.3 Validation dataset"
      ],
      "id": "YMz0d7zfY5W7"
    },
    {
      "cell_type": "code",
      "metadata": {
        "id": "w4Sju4KFY5p8"
      },
      "source": [
        "val_group = 'val'\r\n",
        "ld_val = Lung_Dataset(\r\n",
        "    val_group,\r\n",
        "    dataset_numbers[val_group],\r\n",
        "    dataset_paths[val_group]\r\n",
        ")\r\n",
        "ld_val.describe()"
      ],
      "id": "w4Sju4KFY5p8",
      "execution_count": null,
      "outputs": []
    },
    {
      "cell_type": "code",
      "metadata": {
        "id": "PzhsBRE4Y_F_"
      },
      "source": [
        "verify_dataset(val_group,ld_val,1)"
      ],
      "id": "PzhsBRE4Y_F_",
      "execution_count": null,
      "outputs": []
    },
    {
      "cell_type": "markdown",
      "metadata": {
        "id": "Ojan7nynZILA"
      },
      "source": [
        "## 3.4 Test dataset"
      ],
      "id": "Ojan7nynZILA"
    },
    {
      "cell_type": "code",
      "metadata": {
        "id": "XdxD1NzmZIvq"
      },
      "source": [
        "test_group = 'test'\r\n",
        "ld_test = Lung_Dataset(\r\n",
        "    test_group,\r\n",
        "    dataset_numbers[test_group],\r\n",
        "    dataset_paths[test_group]\r\n",
        ")\r\n",
        "ld_test.describe()"
      ],
      "id": "XdxD1NzmZIvq",
      "execution_count": null,
      "outputs": []
    },
    {
      "cell_type": "code",
      "metadata": {
        "id": "49ohnFncZJJD"
      },
      "source": [
        "verify_dataset(test_group,ld_test,1)"
      ],
      "id": "49ohnFncZJJD",
      "execution_count": null,
      "outputs": []
    }
  ]
}