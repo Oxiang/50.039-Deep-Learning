{
  "nbformat": 4,
  "nbformat_minor": 5,
  "metadata": {
    "kernelspec": {
      "display_name": "Python 3",
      "language": "python",
      "name": "python3"
    },
    "language_info": {
      "codemirror_mode": {
        "name": "ipython",
        "version": 3
      },
      "file_extension": ".py",
      "mimetype": "text/x-python",
      "name": "python",
      "nbconvert_exporter": "python",
      "pygments_lexer": "ipython3",
      "version": "3.8.3"
    },
    "colab": {
      "name": "custom_dataset_dataloader.ipynb",
      "provenance": [],
      "collapsed_sections": [],
      "toc_visible": true
    }
  },
  "cells": [
    {
      "cell_type": "markdown",
      "metadata": {
        "id": "moral-rebound"
      },
      "source": [
        "# Boilerplate notebook"
      ],
      "id": "moral-rebound"
    },
    {
      "cell_type": "code",
      "metadata": {
        "id": "crude-waste"
      },
      "source": [
        "# Matplotlib\n",
        "import matplotlib.pyplot as plt\n",
        "# Numpy\n",
        "import numpy as np\n",
        "# Pillow\n",
        "from PIL import Image\n",
        "# Torch\n",
        "import torch\n",
        "from torch.utils.data import Dataset, DataLoader\n",
        "import torch.nn as nn\n",
        "import torch.optim as optim\n",
        "import torch.nn.functional as F\n",
        "from torchvision import transforms"
      ],
      "id": "crude-waste",
      "execution_count": null,
      "outputs": []
    },
    {
      "cell_type": "markdown",
      "metadata": {
        "id": "R4gBSNDrcfGl"
      },
      "source": [
        "# 1. Download dataset"
      ],
      "id": "R4gBSNDrcfGl"
    },
    {
      "cell_type": "code",
      "metadata": {
        "id": "lcHbRtuHcd-N"
      },
      "source": [
        "!git clone -b data https://github.com/Oxiang/50.039-Deep-Learning.git"
      ],
      "id": "lcHbRtuHcd-N",
      "execution_count": null,
      "outputs": []
    },
    {
      "cell_type": "code",
      "metadata": {
        "id": "J3ElMDwpU831"
      },
      "source": [
        "!sudo apt-get install tree"
      ],
      "id": "J3ElMDwpU831",
      "execution_count": null,
      "outputs": []
    },
    {
      "cell_type": "code",
      "metadata": {
        "id": "g4-h2B3OVCRe"
      },
      "source": [
        "cd 50.039-Deep-Learning"
      ],
      "id": "g4-h2B3OVCRe",
      "execution_count": null,
      "outputs": []
    },
    {
      "cell_type": "code",
      "metadata": {
        "id": "DW2ZD2afqdmF"
      },
      "source": [
        "%%bash\r\n",
        "\r\n",
        "(\r\n",
        "tree dataset -d\r\n",
        ") "
      ],
      "id": "DW2ZD2afqdmF",
      "execution_count": null,
      "outputs": []
    },
    {
      "cell_type": "markdown",
      "metadata": {
        "id": "aWQTRVbAVkPQ"
      },
      "source": [
        "# 2. Dataset high-level info\r\n",
        "\r\n",
        "The images stored in the **./dataset** folder and its subfolder consists of 150 by 150 pixels greyscale images, representing X-Ray pictures of lungs.\r\n",
        "\r\n",
        "The images, consists of X-ray pictures of the following:\r\n",
        "\r\n",
        "| Description                              | Class index | Tensor  | Class label        |\r\n",
        "| ---------------------------------------- | ----------- | ------- | ------------------ |\r\n",
        "| People with no infection diagnosis       | 0           | [1 0 0] | normal             |\r\n",
        "| People with infected lungs and non-covid | 1           | [0 1 0] | infected_non_covid |\r\n",
        "| People with infected lungs and covid     | 2           | [0 0 1] | infected_covid     |\r\n",
        "\r\n"
      ],
      "id": "aWQTRVbAVkPQ"
    },
    {
      "cell_type": "code",
      "metadata": {
        "id": "NZhr10rHVlIj"
      },
      "source": [
        "classes = {0: 'normal', 1: 'infected_non_covid', 2: 'infected_covid'}\r\n",
        "groups = ['train', 'test', 'val']\r\n",
        "dataset_numbers = {\r\n",
        "    'train_normal': 1341,\r\n",
        "    'train_infected_non_covid': 2530,\r\n",
        "    'train_infected_covid': 1345,\r\n",
        "    'val_normal': 8,\r\n",
        "    'val_infected_non_covid': 8,\r\n",
        "    'val_infected_covid': 8,    \r\n",
        "    'test_normal': 234,\r\n",
        "    'test_infected_non_covid': 242,\r\n",
        "    'test_infected_covid': 138,\r\n",
        "}\r\n",
        "dataset_paths = {\r\n",
        "    'train_normal': './dataset/train/normal/',\r\n",
        "    'train_infected_non_covid': './dataset/train/infected/non-covid/',\r\n",
        "    'train_infected_covid': './dataset/train/infected/covid/',\r\n",
        "    'val_normal': './dataset/val/normal/',\r\n",
        "    'val_infected_non_covid': './dataset/val/infected/non-covid/',\r\n",
        "    'val_infected_covid': './dataset/val/infected/covid/',    \r\n",
        "    'test_normal': './dataset/test/normal/',\r\n",
        "    'test_infected_non_covid': './dataset/test/infected/non-covid/',\r\n",
        "    'test_infected_covid': './dataset/test/infected/covid/',    \r\n",
        "}"
      ],
      "id": "NZhr10rHVlIj",
      "execution_count": null,
      "outputs": []
    },
    {
      "cell_type": "markdown",
      "metadata": {
        "id": "_kakruEOWFn2"
      },
      "source": [
        "View one of the images and its properties. These images consist of a Numpy array, with values ranging between 0 and 255. These values will be normalized."
      ],
      "id": "_kakruEOWFn2"
    },
    {
      "cell_type": "code",
      "metadata": {
        "id": "THPZFpETWAWK"
      },
      "source": [
        "path_to_file = './dataset/train/normal/1.jpg'\r\n",
        "with open(path_to_file, 'rb') as f:\r\n",
        "    im = np.asarray(Image.open(f))\r\n",
        "    plt.imshow(im)\r\n",
        "f.close()\r\n",
        "print('Image shape is: {}'.format(im.shape))\r\n",
        "# Images are defined as a Numpy array of values between 0 and 256\r\n",
        "print('Image as a numpy array is:\\n {}'.format(im))"
      ],
      "id": "THPZFpETWAWK",
      "execution_count": null,
      "outputs": []
    }
  ]
}