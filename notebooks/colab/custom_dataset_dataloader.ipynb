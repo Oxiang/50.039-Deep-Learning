{
  "nbformat": 4,
  "nbformat_minor": 5,
  "metadata": {
    "kernelspec": {
      "display_name": "Python 3",
      "language": "python",
      "name": "python3"
    },
    "language_info": {
      "codemirror_mode": {
        "name": "ipython",
        "version": 3
      },
      "file_extension": ".py",
      "mimetype": "text/x-python",
      "name": "python",
      "nbconvert_exporter": "python",
      "pygments_lexer": "ipython3",
      "version": "3.8.3"
    },
    "colab": {
      "name": "custom_dataset_dataloader.ipynb",
      "provenance": [],
      "collapsed_sections": [],
      "toc_visible": true
    }
  },
  "cells": [
    {
      "cell_type": "markdown",
      "metadata": {
        "id": "moral-rebound"
      },
      "source": [
        "# Boilerplate notebook"
      ],
      "id": "moral-rebound"
    },
    {
      "cell_type": "code",
      "metadata": {
        "id": "crude-waste"
      },
      "source": [
        "# Matplotlib\n",
        "import matplotlib.pyplot as plt\n",
        "# Numpy\n",
        "import numpy as np\n",
        "# Pillow\n",
        "from PIL import Image\n",
        "# Torch\n",
        "import torch\n",
        "from torch.utils.data import Dataset, DataLoader\n",
        "import torch.nn as nn\n",
        "import torch.optim as optim\n",
        "import torch.nn.functional as F\n",
        "from torchvision import transforms"
      ],
      "id": "crude-waste",
      "execution_count": null,
      "outputs": []
    },
    {
      "cell_type": "markdown",
      "metadata": {
        "id": "R4gBSNDrcfGl"
      },
      "source": [
        "# 1. Download dataset"
      ],
      "id": "R4gBSNDrcfGl"
    },
    {
      "cell_type": "code",
      "metadata": {
        "id": "lcHbRtuHcd-N"
      },
      "source": [
        "!git clone -b data https://github.com/Oxiang/50.039-Deep-Learning.git"
      ],
      "id": "lcHbRtuHcd-N",
      "execution_count": null,
      "outputs": []
    },
    {
      "cell_type": "code",
      "metadata": {
        "id": "J3ElMDwpU831"
      },
      "source": [
        "!sudo apt-get install tree"
      ],
      "id": "J3ElMDwpU831",
      "execution_count": null,
      "outputs": []
    },
    {
      "cell_type": "code",
      "metadata": {
        "id": "g4-h2B3OVCRe"
      },
      "source": [
        "cd 50.039-Deep-Learning"
      ],
      "id": "g4-h2B3OVCRe",
      "execution_count": null,
      "outputs": []
    },
    {
      "cell_type": "code",
      "metadata": {
        "id": "DW2ZD2afqdmF"
      },
      "source": [
        "%%bash\r\n",
        "\r\n",
        "(\r\n",
        "tree dataset -d\r\n",
        ") "
      ],
      "id": "DW2ZD2afqdmF",
      "execution_count": null,
      "outputs": []
    }
  ]
}