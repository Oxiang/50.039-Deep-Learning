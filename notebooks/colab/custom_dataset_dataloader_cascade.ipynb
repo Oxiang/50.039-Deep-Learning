{
  "nbformat": 4,
  "nbformat_minor": 5,
  "metadata": {
    "kernelspec": {
      "display_name": "Python 3",
      "language": "python",
      "name": "python3"
    },
    "language_info": {
      "codemirror_mode": {
        "name": "ipython",
        "version": 3
      },
      "file_extension": ".py",
      "mimetype": "text/x-python",
      "name": "python",
      "nbconvert_exporter": "python",
      "pygments_lexer": "ipython3",
      "version": "3.8.3"
    },
    "colab": {
      "name": "custom_dataset_dataloader_cascade.ipynb",
      "provenance": [],
      "collapsed_sections": [],
      "toc_visible": true
    }
  },
  "cells": [
    {
      "cell_type": "markdown",
      "metadata": {
        "id": "moral-rebound"
      },
      "source": [
        "# Boilerplate notebook"
      ],
      "id": "moral-rebound"
    },
    {
      "cell_type": "code",
      "metadata": {
        "id": "crude-waste"
      },
      "source": [
        "# Matplotlib\n",
        "import matplotlib.pyplot as plt\n",
        "# Numpy\n",
        "import numpy as np\n",
        "# Pillow\n",
        "from PIL import Image\n",
        "# Torch\n",
        "import torch\n",
        "from torch.utils.data import Dataset, DataLoader\n",
        "import torch.nn as nn\n",
        "import torch.optim as optim\n",
        "import torch.nn.functional as F\n",
        "from torchvision import transforms\n",
        "from torchsummary import summary\n",
        "# Misc\n",
        "import time\n",
        "from datetime import datetime"
      ],
      "id": "crude-waste",
      "execution_count": null,
      "outputs": []
    },
    {
      "cell_type": "markdown",
      "metadata": {
        "id": "R4gBSNDrcfGl"
      },
      "source": [
        "# 1. Download dataset"
      ],
      "id": "R4gBSNDrcfGl"
    },
    {
      "cell_type": "code",
      "metadata": {
        "id": "lcHbRtuHcd-N"
      },
      "source": [
        "!git clone -b data https://github.com/Oxiang/50.039-Deep-Learning.git"
      ],
      "id": "lcHbRtuHcd-N",
      "execution_count": null,
      "outputs": []
    },
    {
      "cell_type": "code",
      "metadata": {
        "id": "J3ElMDwpU831"
      },
      "source": [
        "!sudo apt-get install tree"
      ],
      "id": "J3ElMDwpU831",
      "execution_count": null,
      "outputs": []
    },
    {
      "cell_type": "code",
      "metadata": {
        "id": "g4-h2B3OVCRe"
      },
      "source": [
        "cd 50.039-Deep-Learning"
      ],
      "id": "g4-h2B3OVCRe",
      "execution_count": null,
      "outputs": []
    },
    {
      "cell_type": "code",
      "metadata": {
        "id": "DW2ZD2afqdmF"
      },
      "source": [
        "%%bash\r\n",
        "\r\n",
        "(\r\n",
        "tree dataset -d\r\n",
        ") "
      ],
      "id": "DW2ZD2afqdmF",
      "execution_count": null,
      "outputs": []
    },
    {
      "cell_type": "markdown",
      "metadata": {
        "id": "aWQTRVbAVkPQ"
      },
      "source": [
        "# 2. Dataset high-level info\r\n",
        "\r\n",
        "The images stored in the **./dataset** folder and its subfolder consists of 150 by 150 pixels greyscale images, representing X-Ray pictures of lungs.\r\n",
        "\r\n",
        "We treat the problem as a cascading problem where we first predict normal vs infected then infected_non_covid vs infected_covid there will\r\n",
        "\r\n",
        "For normal vs infected\r\n",
        "\r\n",
        "| Description                | Class index | Tensor | Class label |\r\n",
        "| -------------------------- | ----------- | ------ | ----------- |\r\n",
        "| Normal                     | 0           | [1 0]  | normal      |\r\n",
        "| People with infected lungs | 1           | [0 1]  | infected    |\r\n",
        "\r\n",
        "For infected_covid vs infected_non_covid\r\n",
        "\r\n",
        "| Description                              | Class index | Tensor | Class label        |\r\n",
        "| ---------------------------------------- | ----------- | ------ | ------------------ |\r\n",
        "| People with infected lungs and covid     | 0           | [1 0]  | covid |\r\n",
        "| People with infected lungs and non-covid | 1           | [0 1]  | non_covid     |\r\n"
      ],
      "id": "aWQTRVbAVkPQ"
    },
    {
      "cell_type": "code",
      "metadata": {
        "id": "NZhr10rHVlIj"
      },
      "source": [
        "classes_n_c = {0: 'normal', 1: 'infected'}\r\n",
        "classes_inc_ic = {0: 'infected_non_covid', 1: 'infected_covid'}\r\n",
        "groups = ['train', 'test', 'val']\r\n",
        "dataset_numbers = {\r\n",
        "    'train_normal': 1341,\r\n",
        "    'train_infected_non_covid': 2530,\r\n",
        "    'train_infected_covid': 1345,\r\n",
        "    'val_normal': 8,\r\n",
        "    'val_infected_non_covid': 8,\r\n",
        "    'val_infected_covid': 8,    \r\n",
        "    'test_normal': 234,\r\n",
        "    'test_infected_non_covid': 242,\r\n",
        "    'test_infected_covid': 138,\r\n",
        "}\r\n",
        "dataset_paths = {\r\n",
        "    'train_normal': './dataset/train/normal/',\r\n",
        "    'train_infected_non_covid': './dataset/train/infected/non-covid/',\r\n",
        "    'train_infected_covid': './dataset/train/infected/covid/',\r\n",
        "    'val_normal': './dataset/val/normal/',\r\n",
        "    'val_infected_non_covid': './dataset/val/infected/non-covid/',\r\n",
        "    'val_infected_covid': './dataset/val/infected/covid/',    \r\n",
        "    'test_normal': './dataset/test/normal/',\r\n",
        "    'test_infected_non_covid': './dataset/test/infected/non-covid/',\r\n",
        "    'test_infected_covid': './dataset/test/infected/covid/',    \r\n",
        "}"
      ],
      "id": "NZhr10rHVlIj",
      "execution_count": null,
      "outputs": []
    },
    {
      "cell_type": "markdown",
      "metadata": {
        "id": "_kakruEOWFn2"
      },
      "source": [
        "View one of the images and its properties. These images consist of a Numpy array, with values ranging between 0 and 255. These values will be normalized."
      ],
      "id": "_kakruEOWFn2"
    },
    {
      "cell_type": "code",
      "metadata": {
        "id": "THPZFpETWAWK"
      },
      "source": [
        "path_to_file = './dataset/train/normal/1.jpg'\r\n",
        "with open(path_to_file, 'rb') as f:\r\n",
        "    im = np.asarray(Image.open(f))\r\n",
        "    plt.imshow(im)\r\n",
        "f.close()\r\n",
        "print('Image shape is: {}'.format(im.shape))\r\n",
        "# Images are defined as a Numpy array of values between 0 and 256\r\n",
        "print('Image as a numpy array is:\\n {}'.format(im))"
      ],
      "id": "THPZFpETWAWK",
      "execution_count": null,
      "outputs": []
    },
    {
      "cell_type": "markdown",
      "metadata": {
        "id": "Jcs9foiNXKY1"
      },
      "source": [
        "# 3. Creating a Dataset object"
      ],
      "id": "Jcs9foiNXKY1"
    },
    {
      "cell_type": "markdown",
      "metadata": {
        "id": "Pyf61XksuJjY"
      },
      "source": [
        "## 3.1 Common variables"
      ],
      "id": "Pyf61XksuJjY"
    },
    {
      "cell_type": "code",
      "metadata": {
        "id": "1Z0B8tOLuI-D"
      },
      "source": [
        "binary_dataset_paths = {\r\n",
        "    'layer_0': {\r\n",
        "        'train': {\r\n",
        "            'train_normal':'./dataset/train/normal',\r\n",
        "            'train_infected': './dataset/train/infected'\r\n",
        "        },\r\n",
        "        'val': {\r\n",
        "            'val_normal':'./dataset/val/normal',\r\n",
        "            'val_infected': './dataset/val/infected'\r\n",
        "        },\r\n",
        "        'test': {\r\n",
        "            'test_normal':'./dataset/test/normal',\r\n",
        "            'test_infected': './dataset/test/infected'\r\n",
        "        }\r\n",
        "    },\r\n",
        "    'layer_1':{\r\n",
        "        'train': {\r\n",
        "            'train_covid': './dataset/train/infected/covid',\r\n",
        "            'train_non_covid' : './dataset/train/infected/non-covid'\r\n",
        "        },\r\n",
        "        'val': {\r\n",
        "            'val_covid': './dataset/val/infected/covid',\r\n",
        "            'val_non_covid' : './dataset/val/infected/non-covid'\r\n",
        "        },\r\n",
        "        'test': {\r\n",
        "            'test_covid': './dataset/test/infected/covid',\r\n",
        "            'test_non_covid' : './dataset/test/infected/non-covid'            \r\n",
        "        }\r\n",
        "    }\r\n",
        "}\r\n",
        "\r\n",
        "binary_dataset_numbers = {\r\n",
        "    'layer_0': {\r\n",
        "        'train': {\r\n",
        "            'train_normal': 1341,\r\n",
        "            'train_infected': 3875\r\n",
        "        },\r\n",
        "        'val': {\r\n",
        "            'val_normal': 8,\r\n",
        "            'val_infected': 16\r\n",
        "        },\r\n",
        "        'test': {\r\n",
        "            'test_normal': 234,\r\n",
        "            'test_infected': 380\r\n",
        "        }\r\n",
        "    },\r\n",
        "    'layer_1':{\r\n",
        "        'train': {\r\n",
        "            'train_covid': 1345,\r\n",
        "            'train_non_covid' : 2530\r\n",
        "        },\r\n",
        "        'val': {\r\n",
        "            'val_covid': 8,\r\n",
        "            'val_non_covid': 8\r\n",
        "        },\r\n",
        "        'test': {\r\n",
        "            'test_covid': 138,\r\n",
        "            'test_non_covid': 242            \r\n",
        "        }\r\n",
        "    }\r\n",
        "}"
      ],
      "id": "1Z0B8tOLuI-D",
      "execution_count": null,
      "outputs": []
    },
    {
      "cell_type": "markdown",
      "metadata": {
        "id": "LKLCcIvxXLHu"
      },
      "source": [
        "## 3.2 Layer 0 General Dataset object that is custom made for train, val, test to individually use\r\n",
        "\r\n",
        "length method ( __ len __ )\r\n",
        "\r\n",
        "> return the number of images present in the dataset\r\n",
        "\r\n",
        "getitem method ( __ getitem __ )\r\n",
        "\r\n",
        "> fetch an image and its label, using a single index value. Returns the image, along with a one-hot vector corresponding to the class of the object. Both returned parameters will be torch tensors.\r\n",
        "- [1, 0] for normal class\r\n",
        "- [0, 1] for infected class"
      ],
      "id": "LKLCcIvxXLHu"
    },
    {
      "cell_type": "code",
      "metadata": {
        "id": "LtNXQwKbXNfY"
      },
      "source": [
        "class L0_Lung_Dataset(Dataset):\r\n",
        "    \"\"\"\r\n",
        "    Generic Dataset class for Layer 0\r\n",
        "    \"\"\"\r\n",
        "    \r\n",
        "    def __init__(self, groups, dataset_numbers, dataset_paths, infected_sub_class_numbers):\r\n",
        "        \"\"\"\r\n",
        "        Constructor for generic Dataset class for Layer0 - assembles\r\n",
        "        the important parameters in attributes.\r\n",
        "\r\n",
        "        Parameters\r\n",
        "        ----------\r\n",
        "        groups : str\r\n",
        "            Allowed values: train, val, test\r\n",
        "        dataset_numbers : dict\r\n",
        "            Count of each class within specified group (e.g. normal, infected)\r\n",
        "        dataset_paths : dict\r\n",
        "            Path to each class within specified group (infected has 2 sub-class dir)\r\n",
        "        \"\"\"\r\n",
        "\r\n",
        "        self.img_size = (150, 150)\r\n",
        "        self.classes = { 0: 'normal', 1: 'infected' }\r\n",
        "        self.covid_status = {0: '', 1: 'covid', 2: 'non-covid'} \r\n",
        "        self.groups = groups\r\n",
        "        self.dataset_numbers = dataset_numbers\r\n",
        "        self.dataset_paths = dataset_paths\r\n",
        "        self.infected_sub_class_numbers = infected_sub_class_numbers\r\n",
        "\r\n",
        "        \r\n",
        "    def describe(self):\r\n",
        "        \"\"\"\r\n",
        "        Descriptor function.\r\n",
        "        Will print details about the dataset when called.\r\n",
        "        \"\"\"\r\n",
        "        \r\n",
        "        # Generate description\r\n",
        "        msg = \"This is the {} dataset of the Lung Dataset\".format(self.groups)\r\n",
        "        msg += \" used for the Small Project Demo in the 50.039 Deep Learning class\"\r\n",
        "        msg += \" in March 2021. \\n\"\r\n",
        "        msg += \"It contains a total of {} images, \".format(sum(self.dataset_numbers.values()))\r\n",
        "        msg += \"of size {} by {}.\\n\".format(self.img_size[0], self.img_size[1])\r\n",
        "        msg += \"The images are stored in the following locations \"\r\n",
        "        msg += \"and each one contains the following number of images:\\n\"\r\n",
        "        for key, val in self.dataset_paths.items():\r\n",
        "            msg += \" - {}, in folder {}: {} images.\\n\".format(key, val, self.dataset_numbers[key])\r\n",
        "        print(msg)\r\n",
        "        \r\n",
        "    \r\n",
        "    def open_img(self, group_val, class_val, covid_status, index_val):\r\n",
        "        \"\"\"\r\n",
        "        Opens image with specified parameters.\r\n",
        "        \r\n",
        "        Parameters:\r\n",
        "        - group_val should take values in 'train', 'test' or 'val'.\r\n",
        "        - class_val variable should be set to 'normal' or 'infected_non_covid' or 'infected_covid'.\r\n",
        "        - covid_status should take values in '', 'covid' or 'non_covid'.\r\n",
        "        - index_val should be an integer with values between 0 and the maximal number of images in dataset.\r\n",
        "        \r\n",
        "        Returns loaded image as a normalized Numpy array.\r\n",
        "        \"\"\"\r\n",
        "        \r\n",
        "        # Asserts checking for consistency in passed parameters\r\n",
        "        err_msg = \"Error - group_val variable should be set to 'train', 'test' or 'val'.\"\r\n",
        "        assert group_val in self.groups, err_msg\r\n",
        "        \r\n",
        "        err_msg = \"Error - class_val variable should be set to 'normal' or 'infected_non_covid' or 'infected_covid.\"\r\n",
        "        assert class_val in self.classes.values(), err_msg\r\n",
        "\r\n",
        "        err_msg = \"Error - covid_status variable should be set to '', 'covid' or 'non-covid'.\"\r\n",
        "        assert covid_status in self.covid_status.values(), err_msg\r\n",
        "        \r\n",
        "        max_val = self.dataset_numbers['{}_{}'.format(group_val, class_val)]\r\n",
        "        err_msg = \"Error - index_val variable should be an integer between 0 and the maximal number of images.\"\r\n",
        "        err_msg += \"\\n(In {}/{}, you have {} images.)\".format(group_val, class_val, max_val)\r\n",
        "        assert isinstance(index_val, int), err_msg\r\n",
        "        assert index_val >= 0 and index_val <= max_val, err_msg\r\n",
        "        \r\n",
        "        # 'normal' - example path: /dataset/train/normal/1.jpg\r\n",
        "        if covid_status == \"\":\r\n",
        "            path_to_file = '{}/{}.jpg'.format(self.dataset_paths['{}_{}'.format(group_val, class_val)], index_val)\r\n",
        "        # 'covid' or 'non_covid' - example path: './dataset/train/infected/covid/1.jpg',\r\n",
        "        else:\r\n",
        "            path_to_file = '{}/{}/{}.jpg'.format(self.dataset_paths['{}_{}'.format(group_val, class_val)], covid_status, index_val)\r\n",
        "\r\n",
        "        with open(path_to_file, 'rb') as f:\r\n",
        "            # Convert to Numpy array and normalize pixel values by dividing by 255.\r\n",
        "            im = np.asarray(Image.open(f))/255\r\n",
        "        f.close()\r\n",
        "        return im\r\n",
        "    \r\n",
        "    \r\n",
        "    def show_img(self, group_val, class_val, covid_status, index_val):\r\n",
        "        \"\"\"\r\n",
        "        Opens, then displays image with specified parameters.\r\n",
        "        \r\n",
        "        Parameters:\r\n",
        "        - group_val should take values in 'train', 'test' or 'val'.\r\n",
        "        - class_val variable should be set to 'normal' or 'infected'.\r\n",
        "        - covid_status should take values in '', 'covid' or 'non-covid'.\r\n",
        "        - index_val should be an integer with values between 0 and the maximal number of images in dataset.\r\n",
        "        \"\"\"\r\n",
        "        \r\n",
        "        # Open image\r\n",
        "        im = self.open_img(group_val, class_val, covid_status, index_val)\r\n",
        "        \r\n",
        "        # Display\r\n",
        "        plt.imshow(im)\r\n",
        "\r\n",
        "    def __len__(self):\r\n",
        "        \"\"\"\r\n",
        "        Length special method, returns the number of images in dataset.\r\n",
        "        \"\"\"\r\n",
        "        \r\n",
        "        # Length function\r\n",
        "        return sum(self.dataset_numbers.values())\r\n",
        "    \r\n",
        "    \r\n",
        "    def __getitem__(self, index):\r\n",
        "        \"\"\"\r\n",
        "        Getitem special method.\r\n",
        "        \r\n",
        "        Expects an integer value index, between 0 and len(self) - 1.\r\n",
        "        \r\n",
        "        Returns the image and its label as a one hot vector, both\r\n",
        "        in torch tensor format in dataset.\r\n",
        "        \"\"\"\r\n",
        "        \r\n",
        "        # Get item special method\r\n",
        "        first_val = int(list(self.dataset_numbers.values())[0])\r\n",
        "        if index < first_val:\r\n",
        "            class_val = 'normal'\r\n",
        "            label = torch.Tensor([1, 0])\r\n",
        "            covid_status = \"\"\r\n",
        "        else:\r\n",
        "            class_val = 'infected'\r\n",
        "            index = index - first_val\r\n",
        "            label = torch.Tensor([0, 1])\r\n",
        "            infected_covid_numbers = int(list(self.infected_sub_class_numbers.values())[0]) # covid\r\n",
        "            if index < infected_covid_numbers:\r\n",
        "                class_val = 'infected'\r\n",
        "                covid_status = 'covid'\r\n",
        "            else:\r\n",
        "                class_val = 'infected'\r\n",
        "                index = index - infected_covid_numbers\r\n",
        "                covid_status = 'non-covid'\r\n",
        "        im = self.open_img(self.groups, class_val, covid_status, index)\r\n",
        "        im = transforms.functional.to_tensor(np.array(im)).float()\r\n",
        "        return im, label"
      ],
      "id": "LtNXQwKbXNfY",
      "execution_count": null,
      "outputs": []
    },
    {
      "cell_type": "code",
      "metadata": {
        "id": "V714D12V5qgY"
      },
      "source": [
        "def verify_l0_dataset(group,dataset,image_overall_index,class_val,covid_status,\r\n",
        "                   image_specific_dataset_index=1):\r\n",
        "  \"\"\"\r\n",
        "  Helper function to verify that the classes are implemented correctly\r\n",
        "\r\n",
        "  Parameters\r\n",
        "  ----------\r\n",
        "  group : str\r\n",
        "      Allowed values: train, val, test\r\n",
        "  dataset: object\r\n",
        "      Object instantiated from the class\r\n",
        "  image_overall_index: int\r\n",
        "      Overall index in the full dataset across all classes\r\n",
        "  class_val: str\r\n",
        "      Image label. Example: normal, infected\r\n",
        "  covid_status: str\r\n",
        "      If class_val is 'infected', set this to either 'covid' or 'non-covid'\r\n",
        "  image_specific_dataset_index : int\r\n",
        "      image id in the specific nested directory\r\n",
        "  \"\"\"\r\n",
        "  print('Verify the special methods __len__ and __get_item__')\r\n",
        "  print('Number of images in {} dataset: {}'.format(group, len(dataset)))\r\n",
        "  print('Details for image id {} from the {} dataset'.format(\r\n",
        "      image_overall_index,\r\n",
        "      group\r\n",
        "  ))\r\n",
        "  im, class_oh = dataset[image_overall_index]\r\n",
        "  print('Sample image shape: {}'.format(im.shape))\r\n",
        "  print('Sample image: {}'.format(im))\r\n",
        "  print('Sample image class: {}'.format(class_oh))\r\n",
        "\r\n",
        "  print('\\nVerify the open_img and show_img functions')\r\n",
        "  print('Open and show image {} from the {}_{} dataset'.format(\r\n",
        "      image_specific_dataset_index,\r\n",
        "      group,\r\n",
        "      class_val\r\n",
        "  ))\r\n",
        "  im = dataset.open_img(group, class_val, covid_status, image_specific_dataset_index)\r\n",
        "  print('Sample image shape: {}'.format(im.shape))\r\n",
        "  print('Sample image: {}'.format(im))\r\n",
        "  dataset.show_img(group, class_val, covid_status, image_specific_dataset_index)"
      ],
      "id": "V714D12V5qgY",
      "execution_count": null,
      "outputs": []
    },
    {
      "cell_type": "markdown",
      "metadata": {
        "id": "s9CO29iBYHs-"
      },
      "source": [
        "### 3.2.1 Layer 0 Train dataset"
      ],
      "id": "s9CO29iBYHs-"
    },
    {
      "cell_type": "code",
      "metadata": {
        "id": "LBI4uwQqYiWI"
      },
      "source": [
        "train_group = 'train'\r\n",
        "l0_ld_train = L0_Lung_Dataset(groups = train_group,\r\n",
        "                              dataset_numbers = binary_dataset_numbers['layer_0'][train_group],\r\n",
        "                              dataset_paths = binary_dataset_paths['layer_0'][train_group],\r\n",
        "                              infected_sub_class_numbers = binary_dataset_numbers['layer_1'][train_group])\r\n",
        "l0_ld_train.describe()"
      ],
      "id": "LBI4uwQqYiWI",
      "execution_count": null,
      "outputs": []
    },
    {
      "cell_type": "code",
      "metadata": {
        "id": "jo4ZJTwpYjw4"
      },
      "source": [
        "verify_l0_dataset(train_group,l0_ld_train,1340,'normal','',1340)"
      ],
      "id": "jo4ZJTwpYjw4",
      "execution_count": null,
      "outputs": []
    },
    {
      "cell_type": "markdown",
      "metadata": {
        "id": "YMz0d7zfY5W7"
      },
      "source": [
        "### 3.2.2 Layer 0 Validation dataset"
      ],
      "id": "YMz0d7zfY5W7"
    },
    {
      "cell_type": "code",
      "metadata": {
        "id": "w4Sju4KFY5p8"
      },
      "source": [
        "val_group = 'val'\r\n",
        "l0_ld_val = L0_Lung_Dataset(groups = val_group,\r\n",
        "                            dataset_numbers = binary_dataset_numbers['layer_0'][val_group],\r\n",
        "                            dataset_paths = binary_dataset_paths['layer_0'][val_group],\r\n",
        "                            infected_sub_class_numbers = binary_dataset_numbers['layer_1'][val_group])\r\n",
        "l0_ld_val.describe()"
      ],
      "id": "w4Sju4KFY5p8",
      "execution_count": null,
      "outputs": []
    },
    {
      "cell_type": "code",
      "metadata": {
        "id": "PzhsBRE4Y_F_"
      },
      "source": [
        "verify_l0_dataset(val_group,l0_ld_val,9,'infected','covid',1)"
      ],
      "id": "PzhsBRE4Y_F_",
      "execution_count": null,
      "outputs": []
    },
    {
      "cell_type": "markdown",
      "metadata": {
        "id": "Ojan7nynZILA"
      },
      "source": [
        "### 3.2.3 Layer 0 Test dataset"
      ],
      "id": "Ojan7nynZILA"
    },
    {
      "cell_type": "code",
      "metadata": {
        "id": "XdxD1NzmZIvq"
      },
      "source": [
        "test_group = 'test'\r\n",
        "l0_ld_test = L0_Lung_Dataset(groups = test_group, \r\n",
        "                              dataset_numbers = binary_dataset_numbers['layer_0'][test_group], \r\n",
        "                              dataset_paths = binary_dataset_paths['layer_0'][test_group],\r\n",
        "                              infected_sub_class_numbers = binary_dataset_numbers['layer_1'][test_group])\r\n",
        "l0_ld_test.describe()"
      ],
      "id": "XdxD1NzmZIvq",
      "execution_count": null,
      "outputs": []
    },
    {
      "cell_type": "code",
      "metadata": {
        "id": "49ohnFncZJJD"
      },
      "source": [
        "verify_l0_dataset(test_group,l0_ld_test,613,'infected','non-covid',241)"
      ],
      "id": "49ohnFncZJJD",
      "execution_count": null,
      "outputs": []
    },
    {
      "cell_type": "markdown",
      "metadata": {
        "id": "QRmEfd3Z2ccn"
      },
      "source": [
        "## 3.3 Layer 1 General Dataset object that is custom made for train, val, test to individually use"
      ],
      "id": "QRmEfd3Z2ccn"
    },
    {
      "cell_type": "code",
      "metadata": {
        "id": "lWR5VOpK2pan"
      },
      "source": [
        "class L1_Lung_Dataset(Dataset):\r\n",
        "    \"\"\"\r\n",
        "    Generic Dataset class for Layer 1\r\n",
        "    \"\"\"\r\n",
        "    \r\n",
        "    def __init__(self, groups, dataset_numbers, dataset_paths):\r\n",
        "        \"\"\"\r\n",
        "        Constructor for generic Dataset class for Layer0 - assembles\r\n",
        "        the important parameters in attributes.\r\n",
        "\r\n",
        "        Parameters\r\n",
        "        ----------\r\n",
        "        groups : str\r\n",
        "            Allowed values: train, val, test\r\n",
        "        dataset_numbers : dict\r\n",
        "            Count of each class within specified group (e.g. covid, non_covid)\r\n",
        "        dataset_paths : dict\r\n",
        "            Path to each class within specified group (infected has 2 sub-class dir)\r\n",
        "        \"\"\"\r\n",
        "\r\n",
        "        self.img_size = (150, 150)\r\n",
        "        self.classes = {0: 'covid', 1: 'non_covid'}\r\n",
        "        self.groups = groups\r\n",
        "        self.dataset_numbers = dataset_numbers\r\n",
        "        self.dataset_paths = dataset_paths\r\n",
        "\r\n",
        "        \r\n",
        "    def describe(self):\r\n",
        "        \"\"\"\r\n",
        "        Descriptor function.\r\n",
        "        Will print details about the dataset when called.\r\n",
        "        \"\"\"\r\n",
        "        \r\n",
        "        # Generate description\r\n",
        "        msg = \"This is the {} dataset of the Lung Dataset\".format(self.groups)\r\n",
        "        msg += \" used for the Small Project Demo in the 50.039 Deep Learning class\"\r\n",
        "        msg += \" in March 2021. \\n\"\r\n",
        "        msg += \"It contains a total of {} images, \".format(sum(self.dataset_numbers.values()))\r\n",
        "        msg += \"of size {} by {}.\\n\".format(self.img_size[0], self.img_size[1])\r\n",
        "        msg += \"The images are stored in the following locations \"\r\n",
        "        msg += \"and each one contains the following number of images:\\n\"\r\n",
        "        for key, val in self.dataset_paths.items():\r\n",
        "            msg += \" - {}, in folder {}: {} images.\\n\".format(key, val, self.dataset_numbers[key])\r\n",
        "        print(msg)\r\n",
        "        \r\n",
        "    \r\n",
        "    def open_img(self, group_val, class_val, index_val):\r\n",
        "        \"\"\"\r\n",
        "        Opens image with specified parameters.\r\n",
        "        \r\n",
        "        Parameters:\r\n",
        "        - group_val should take values in 'train', 'test' or 'val'.\r\n",
        "        - class_val variable should be set to 'covid' or 'non-covid'.\r\n",
        "        - index_val should be an integer with values between 0 and the maximal number of images in dataset.\r\n",
        "        \r\n",
        "        Returns loaded image as a normalized Numpy array.\r\n",
        "        \"\"\"\r\n",
        "        \r\n",
        "        # Asserts checking for consistency in passed parameters\r\n",
        "        err_msg = \"Error - group_val variable should be set to 'train', 'test' or 'val'.\"\r\n",
        "        assert group_val in self.groups, err_msg\r\n",
        "        \r\n",
        "        err_msg = \"Error - class_val variable should be set to 'covid' or 'non-covid'.\"\r\n",
        "        assert class_val in self.classes.values(), err_msg     \r\n",
        "        \r\n",
        "        max_val = self.dataset_numbers['{}_{}'.format(group_val, class_val)]\r\n",
        "        err_msg = \"Error - index_val variable should be an integer between 0 and the maximal number of images.\"\r\n",
        "        err_msg += \"\\n(In {}/{}, you have {} images.)\".format(group_val, class_val, max_val)\r\n",
        "        assert isinstance(index_val, int), err_msg\r\n",
        "        assert index_val >= 0 and index_val <= max_val, err_msg\r\n",
        "        \r\n",
        "        # Open file as before\r\n",
        "        path_to_file = '{}/{}.jpg'.format(self.dataset_paths['{}_{}'.format(group_val, class_val)], index_val)\r\n",
        "        with open(path_to_file, 'rb') as f:\r\n",
        "            im = np.asarray(Image.open(f))/255\r\n",
        "        f.close()\r\n",
        "        return im\r\n",
        "    \r\n",
        "    \r\n",
        "    def show_img(self, group_val, class_val, index_val):\r\n",
        "        \"\"\"\r\n",
        "        Opens, then displays image with specified parameters.\r\n",
        "        \r\n",
        "        Parameters:\r\n",
        "        - group_val should take values in 'train', 'test' or 'val'.\r\n",
        "        - class_val variable should be set to 'covid' or 'non-covid'.\r\n",
        "        - index_val should be an integer with values between 0 and the maximal number of images in dataset.\r\n",
        "        \"\"\"\r\n",
        "        \r\n",
        "        # Open image\r\n",
        "        im = self.open_img(group_val, class_val, index_val)\r\n",
        "        \r\n",
        "        # Display\r\n",
        "        plt.imshow(im)\r\n",
        "        \r\n",
        "        \r\n",
        "    def __len__(self):\r\n",
        "        \"\"\"\r\n",
        "        Length special method, returns the number of images in dataset.\r\n",
        "        \"\"\"\r\n",
        "        \r\n",
        "        # Length function\r\n",
        "        return sum(self.dataset_numbers.values())\r\n",
        "    \r\n",
        "    \r\n",
        "    def __getitem__(self, index):\r\n",
        "        \"\"\"\r\n",
        "        Getitem special method.\r\n",
        "        \r\n",
        "        Expects an integer value index, between 0 and len(self) - 1.\r\n",
        "        \r\n",
        "        Returns the image and its label as a one hot vector, both\r\n",
        "        in torch tensor format in dataset.\r\n",
        "        \"\"\"\r\n",
        "        \r\n",
        "        # Get item special method\r\n",
        "        first_val = int(list(self.dataset_numbers.values())[0])\r\n",
        "        if index < first_val:\r\n",
        "            class_val = 'covid'\r\n",
        "            label = torch.Tensor([1, 0])\r\n",
        "        else:\r\n",
        "            class_val = 'non_covid'\r\n",
        "            index = index - first_val\r\n",
        "            label = torch.Tensor([0, 1])\r\n",
        "\r\n",
        "        im = self.open_img(self.groups, class_val, index)\r\n",
        "        im = transforms.functional.to_tensor(np.array(im)).float()\r\n",
        "        return im, label"
      ],
      "id": "lWR5VOpK2pan",
      "execution_count": null,
      "outputs": []
    },
    {
      "cell_type": "code",
      "metadata": {
        "id": "MB6wqXUN5wMd"
      },
      "source": [
        "def verify_l1_dataset(group,dataset,image_overall_index,class_val,\r\n",
        "                   image_specific_dataset_index=1):\r\n",
        "  \"\"\"\r\n",
        "  Helper function to verify that the classes are implemented correctly\r\n",
        "\r\n",
        "  Parameters\r\n",
        "  ----------\r\n",
        "  group : str\r\n",
        "      Allowed values: train, val, test\r\n",
        "  dataset: object\r\n",
        "      Object instantiated from the class\r\n",
        "  image_overall_index: int\r\n",
        "      Overall index in the full dataset across all classes\r\n",
        "  class_val: str\r\n",
        "      Image label. Example: covid, non-covid\r\n",
        "  image_specific_dataset_index : int\r\n",
        "      image id in the specific nested directory\r\n",
        "  \"\"\"\r\n",
        "  print('Verify the special methods __len__ and __get_item__')\r\n",
        "  print('Number of images in {} dataset: {}'.format(group, len(dataset)))\r\n",
        "  print('Details for image id {} from the {} dataset'.format(\r\n",
        "      image_overall_index,\r\n",
        "      group\r\n",
        "  ))\r\n",
        "  im, class_oh = dataset[image_overall_index]\r\n",
        "  print('Sample image shape: {}'.format(im.shape))\r\n",
        "  print('Sample image: {}'.format(im))\r\n",
        "  print('Sample image class: {}'.format(class_oh))\r\n",
        "\r\n",
        "  print('\\nVerify the open_img and show_img functions')\r\n",
        "  print('Open and show image {} from the {}_{} dataset'.format(\r\n",
        "      image_specific_dataset_index,\r\n",
        "      group,\r\n",
        "      class_val\r\n",
        "  ))\r\n",
        "  im = dataset.open_img(group, class_val, image_specific_dataset_index)\r\n",
        "  print('Sample image shape: {}'.format(im.shape))\r\n",
        "  print('Sample image: {}'.format(im))\r\n",
        "  dataset.show_img(group, class_val, image_specific_dataset_index)"
      ],
      "id": "MB6wqXUN5wMd",
      "execution_count": null,
      "outputs": []
    },
    {
      "cell_type": "markdown",
      "metadata": {
        "id": "vIeOkWaC2n3U"
      },
      "source": [
        "### 3.2.1 Layer 1 Train dataset"
      ],
      "id": "vIeOkWaC2n3U"
    },
    {
      "cell_type": "code",
      "metadata": {
        "id": "McMnU4Jm6X58"
      },
      "source": [
        "train_group = 'train'\r\n",
        "l1_ld_train = L1_Lung_Dataset(groups = train_group, \r\n",
        "                              dataset_numbers = binary_dataset_numbers['layer_1'][train_group], \r\n",
        "                              dataset_paths = binary_dataset_paths['layer_1'][train_group])\r\n",
        "l1_ld_train.describe()"
      ],
      "id": "McMnU4Jm6X58",
      "execution_count": null,
      "outputs": []
    },
    {
      "cell_type": "code",
      "metadata": {
        "id": "Z1lsv9yE6Y3g"
      },
      "source": [
        "verify_l1_dataset(train_group,l1_ld_train,1,'covid',1)"
      ],
      "id": "Z1lsv9yE6Y3g",
      "execution_count": null,
      "outputs": []
    },
    {
      "cell_type": "markdown",
      "metadata": {
        "id": "TZt-Y09H2gcy"
      },
      "source": [
        "### 3.2.2 Layer 1 Validation dataset"
      ],
      "id": "TZt-Y09H2gcy"
    },
    {
      "cell_type": "code",
      "metadata": {
        "id": "UP8YEmM48GAs"
      },
      "source": [
        "val_group = 'val'\r\n",
        "l1_ld_val = L1_Lung_Dataset(groups = val_group, \r\n",
        "                              dataset_numbers = binary_dataset_numbers['layer_1'][val_group], \r\n",
        "                              dataset_paths = binary_dataset_paths['layer_1'][val_group])\r\n",
        "l1_ld_val.describe()"
      ],
      "id": "UP8YEmM48GAs",
      "execution_count": null,
      "outputs": []
    },
    {
      "cell_type": "code",
      "metadata": {
        "id": "qnTb6R989Kc-"
      },
      "source": [
        "verify_l1_dataset(val_group,l1_ld_val,15,'non_covid',7)"
      ],
      "id": "qnTb6R989Kc-",
      "execution_count": null,
      "outputs": []
    },
    {
      "cell_type": "markdown",
      "metadata": {
        "id": "CSZCUuuS6RLL"
      },
      "source": [
        "### 3.2.3 Layer 1 Test dataset"
      ],
      "id": "CSZCUuuS6RLL"
    },
    {
      "cell_type": "code",
      "metadata": {
        "id": "cx5IOpZN8Gws"
      },
      "source": [
        "test_group = 'test'\r\n",
        "l1_ld_test = L1_Lung_Dataset(groups = test_group, \r\n",
        "                              dataset_numbers = binary_dataset_numbers['layer_1'][test_group], \r\n",
        "                              dataset_paths = binary_dataset_paths['layer_1'][test_group])\r\n",
        "l1_ld_test.describe()"
      ],
      "id": "cx5IOpZN8Gws",
      "execution_count": null,
      "outputs": []
    },
    {
      "cell_type": "code",
      "metadata": {
        "id": "R-5moiDN9fAJ"
      },
      "source": [
        "verify_l1_dataset(test_group,l1_ld_test,379,'non_covid',241)"
      ],
      "id": "R-5moiDN9fAJ",
      "execution_count": null,
      "outputs": []
    },
    {
      "cell_type": "markdown",
      "metadata": {
        "id": "0XwbFL6DbSxg"
      },
      "source": [
        "# 4. Data visualization\r\n",
        "\r\n",
        "This requires a `grouped bar chart`. Refer to [matplotlib Grouped bar chart with labels](https://matplotlib.org/stable/gallery/lines_bars_and_markers/barchart.html) for starter code"
      ],
      "id": "0XwbFL6DbSxg"
    },
    {
      "cell_type": "code",
      "metadata": {
        "id": "V6BuWE6vDGMW"
      },
      "source": [
        "def plot_grouped_bar_chart(labels, train, val, test):\r\n",
        "  '''\r\n",
        "  Plots a grouped bar chart\r\n",
        "  '''\r\n",
        "  x = np.arange(len(labels))  # the label locations\r\n",
        "  width = 0.25  # the width of the bars\r\n",
        "\r\n",
        "  fig, ax = plt.subplots(figsize=(10,10))\r\n",
        "  rects1 = ax.bar(x - width, train, width, label='train')\r\n",
        "  rects2 = ax.bar(x + width, val, width, label='val')\r\n",
        "  rects3 = ax.bar(x, test, width, label='test')\r\n",
        "\r\n",
        "  ax.set_ylabel('Number of datapoints')\r\n",
        "  ax.set_title('Number of datapoints with respect to each dataset and class')\r\n",
        "  ax.set_xticks(x)\r\n",
        "  ax.set_xticklabels(labels)\r\n",
        "  ax.legend()\r\n",
        "\r\n",
        "  def autolabel(rects):\r\n",
        "      \"\"\"Attach a text label above each bar in *rects*, displaying its height.\"\"\"\r\n",
        "      for rect in rects:\r\n",
        "          height = rect.get_height()\r\n",
        "          ax.annotate('{}'.format(height),\r\n",
        "                      xy=(rect.get_x() + rect.get_width() / 2, height),\r\n",
        "                      xytext=(0, 3),  # 3 points vertical offset\r\n",
        "                      textcoords=\"offset points\",\r\n",
        "                      ha='center', va='bottom')\r\n",
        "\r\n",
        "  autolabel(rects1)\r\n",
        "  autolabel(rects2)\r\n",
        "  autolabel(rects3)\r\n",
        "\r\n",
        "  fig.tight_layout()\r\n",
        "  plt.show()"
      ],
      "id": "V6BuWE6vDGMW",
      "execution_count": null,
      "outputs": []
    },
    {
      "cell_type": "markdown",
      "metadata": {
        "id": "kAt9MHTVDGaw"
      },
      "source": [
        "## 4.1 Overall\r\n",
        "\r\n",
        "<u>**Discuss whether or not the dataset is balanced between classes, uniformly distributed, etc.**</u>\r\n",
        "\r\n",
        "**Training set**\r\n",
        "\r\n",
        "The train data for the different classes are imbalanced. From the graph plotted below, the `infected_non_covid` class has significantly more data points than the other classes. Overall, the ratio `normal:infected_non_covid:infected_covid` is approximately `1:2:1`.\r\n",
        "\r\n",
        "This could present more complications if the model is trained in a stacking manner by first training normal vs infected. The ratio of `normal:infected` would be a ratio of `1:3` which is more imbalanced. However, if there are distinct differences in the data of the normal and infected then this large difference could be negated. Alternatively, data augmentation techniques could be used to increase the size of the training data for the `normal` class.\r\n",
        "\r\n",
        "**Testing set**\r\n",
        "\r\n",
        "The test set is also slightly imbalanced with the ratio `normal:infected_non_covid:infected_covid` being approximately `2:2:1`. However, this is not as bad as an imbalanced training set because the test set will not only be used to get a gauge of the model's performance after each epoch and will not directly affect the model's parameter tuning.\r\n",
        "\r\n",
        "**Validation set**\r\n",
        "\r\n",
        "The val set is uniformly distributed between the three classes. However, it is glaring that there are only 8 validation samples for the 3 classes. However, this is acceptable as it is used only for validation and will not affect the model's parameter tuning"
      ],
      "id": "kAt9MHTVDGaw"
    },
    {
      "cell_type": "code",
      "metadata": {
        "id": "V7ySGoEpAFwl"
      },
      "source": [
        "labels = ['normal', 'infected_covid', 'infected_non_covid']\r\n",
        "\r\n",
        "train_normal = [l0_ld_train.dataset_numbers['train_normal']]\r\n",
        "val_normal = [l0_ld_val.dataset_numbers['val_normal']]\r\n",
        "test_normal = [l0_ld_test.dataset_numbers['test_normal']]\r\n",
        "\r\n",
        "train_covid_non_covid = list(l1_ld_train.dataset_numbers.values())\r\n",
        "val_covid_non_covid = list(l1_ld_val.dataset_numbers.values())\r\n",
        "test_covid_non_covid = list(l1_ld_test.dataset_numbers.values())\r\n",
        "\r\n",
        "train_normal_inc_ic = train_normal + train_covid_non_covid\r\n",
        "val_normal_inc_ic = val_normal + val_covid_non_covid\r\n",
        "test_normal_inc_ic = test_normal + test_covid_non_covid\r\n",
        "\r\n",
        "plot_grouped_bar_chart(labels, train_normal_inc_ic, val_normal_inc_ic, test_normal_inc_ic)"
      ],
      "id": "V7ySGoEpAFwl",
      "execution_count": null,
      "outputs": []
    },
    {
      "cell_type": "markdown",
      "metadata": {
        "id": "_YfpYP7lDwWe"
      },
      "source": [
        "## 4.2 Layer 0\r\n",
        "\r\n",
        "The graph below gives a Clearer idea about the training imbalance where the ratio of `normal:infected` would be a ratio of `1:3` which are the ratios used when training the binary classifier for Layer 0."
      ],
      "id": "_YfpYP7lDwWe"
    },
    {
      "cell_type": "code",
      "metadata": {
        "id": "x-DIZ_jPbVFh"
      },
      "source": [
        "labels = ['normal', 'infected']\r\n",
        "\r\n",
        "train_normal_infected = list(l0_ld_train.dataset_numbers.values())\r\n",
        "val_normal_infected = list(l0_ld_val.dataset_numbers.values())\r\n",
        "test_normal_infected = list(l0_ld_test.dataset_numbers.values())\r\n",
        "\r\n",
        "plot_grouped_bar_chart(labels, train_normal_infected, val_normal_infected, test_normal_infected)"
      ],
      "id": "x-DIZ_jPbVFh",
      "execution_count": null,
      "outputs": []
    },
    {
      "cell_type": "markdown",
      "metadata": {
        "id": "l7BThBfXEZmU"
      },
      "source": [
        "## 4.3 Layer 1\r\n",
        "\r\n",
        "The class distribution for infected_covid vs infected_non_covid is imbalanced by about 1:2. This represents what is likely in reality. Covid is new and will probably not have as many data samples as the common infected non-covid X rays. Again, possible data augmentations techniques like mirroring could potentially be used to increase the number of training samples for covid"
      ],
      "id": "l7BThBfXEZmU"
    },
    {
      "cell_type": "code",
      "metadata": {
        "id": "OO2nrsCI_gt9"
      },
      "source": [
        "labels = ['covid', 'non-covid']\r\n",
        "\r\n",
        "train_covid_non_covid = list(l1_ld_train.dataset_numbers.values())\r\n",
        "val_covid_non_covid = list(l1_ld_val.dataset_numbers.values())\r\n",
        "test_covid_non_covid = list(l1_ld_test.dataset_numbers.values())\r\n",
        "\r\n",
        "plot_grouped_bar_chart(labels, train_covid_non_covid, val_covid_non_covid, test_covid_non_covid)"
      ],
      "id": "OO2nrsCI_gt9",
      "execution_count": null,
      "outputs": []
    },
    {
      "cell_type": "markdown",
      "metadata": {
        "id": "BFl4rsh5p1rX"
      },
      "source": [
        "# 4. Why normalize the data?\r\n",
        "\r\n",
        "To recap the normalization can be found in the `Lung_Dataset` class' `open_img` function which did the following normalization.\r\n",
        "\r\n",
        "```python\r\n",
        "# Convert to Numpy array and normalize pixel values by dividing by 255.\r\n",
        "im = np.asarray(Image.open(f))/255\r\n",
        "```\r\n",
        "\r\n",
        "Images have RGB ranges from 0-255. Considering various activation functions like `sigmoid` such a large range would mean that for vastly different values like 100 and 255, not much difference can be seen when passed into the `sigmoid` activation function. Both would produce a value that is close to 1.\r\n",
        "\r\n",
        "Taking the same values as reference, if we divide by 255, for a value of 100,  $\\frac{100}{255}$ we get approximately 0.39. Then for a value of 255, $\\frac{255}{255}$ we get 1. For the initial value of 100 that becomes 0.39 after the division, passing it into `sigmoid(0.39)` produces a value of 0.596. Meanwhile for the initial value of 255 that becomes 1 after division, passing it into `sigmoid(1)` produces a value of 0.731. This difference in value allows us to extract meaningful differences in the pixel values.\r\n"
      ],
      "id": "BFl4rsh5p1rX"
    },
    {
      "cell_type": "markdown",
      "metadata": {
        "id": "d6jfWGpZqCIU"
      },
      "source": [
        "# 5. Other possible pre-processing\r\n",
        "\r\n",
        "Form the plot below, which is based on the Training set for normal images as reference, it is evident that there are several differences in the photo dimensions and photo environment. \r\n",
        "\r\n",
        "For example, comparing image_index 1 and image_index 28 there is a clear difference in the lighting, Image_index 28 is a lot brighter. One pre-processing step could be to use histogram normalization. There is a paper that recommends 14 possible normalization algorithms that can be performed (Leszczynski, 2010)\r\n",
        "\r\n",
        "Aother example is comparing \"skinny\" images like image_index 1 and image_index 31 where there is significantly more dark backgrounds at the side compares to images like image_index 12. Perhaps a edge detection algorithm can be applied to just filter the relevant parts of the image which are the lungs."
      ],
      "id": "d6jfWGpZqCIU"
    },
    {
      "cell_type": "code",
      "metadata": {
        "id": "lgyLkZ9xp2GH"
      },
      "source": [
        "row = 2\r\n",
        "col = 2\r\n",
        "\r\n",
        "selected_indices = [1,12,28,31]\r\n",
        "f, axarr = plt.subplots(row,col,figsize=(10,7))\r\n",
        "counter = 0\r\n",
        "for row_index in range(row):\r\n",
        "  for col_index in range(col):\r\n",
        "    image_index = selected_indices[counter]\r\n",
        "    im = l0_ld_train.open_img('train', 'normal', '', image_index)\r\n",
        "    axarr[row_index,col_index].set_title('Image index: {}'.format(image_index))\r\n",
        "    axarr[row_index,col_index].imshow(im)\r\n",
        "    counter += 1"
      ],
      "id": "lgyLkZ9xp2GH",
      "execution_count": null,
      "outputs": []
    },
    {
      "cell_type": "markdown",
      "metadata": {
        "id": "wC14yqAz2vSI"
      },
      "source": [
        "# 6. Creating a data loader object"
      ],
      "id": "wC14yqAz2vSI"
    },
    {
      "cell_type": "markdown",
      "metadata": {
        "id": "J5YY_qNrFUTw"
      },
      "source": [
        "## 6.1 Layer 0"
      ],
      "id": "J5YY_qNrFUTw"
    },
    {
      "cell_type": "code",
      "metadata": {
        "id": "uiftrqf62usb"
      },
      "source": [
        "l0_bs_train = 64\r\n",
        "l0_bs_test = 64\r\n",
        "l0_bs_val = 1\r\n",
        "l0_train_loader = DataLoader(l0_ld_train, batch_size = l0_bs_train, shuffle = True)\r\n",
        "l0_test_loader = DataLoader(l0_ld_test, batch_size = l0_bs_test, shuffle = True)\r\n",
        "l0_val_loader = DataLoader(l0_ld_val, batch_size = l0_bs_val, shuffle = True)"
      ],
      "id": "uiftrqf62usb",
      "execution_count": null,
      "outputs": []
    },
    {
      "cell_type": "markdown",
      "metadata": {
        "id": "B4Fv6HyVFsfa"
      },
      "source": [
        "## 6.2 Layer 1"
      ],
      "id": "B4Fv6HyVFsfa"
    },
    {
      "cell_type": "code",
      "metadata": {
        "id": "wpHtBlbSFTZW"
      },
      "source": [
        "l1_bs_train = 64\r\n",
        "l1_bs_test = 64\r\n",
        "l1_bs_val = 1\r\n",
        "l1_train_loader = DataLoader(l1_ld_train, batch_size = l1_bs_train, shuffle = True)\r\n",
        "l1_test_loader = DataLoader(l1_ld_test, batch_size = l1_bs_test, shuffle = True)\r\n",
        "l1_val_loader = DataLoader(l1_ld_val, batch_size = l1_bs_val, shuffle = True)"
      ],
      "id": "wpHtBlbSFTZW",
      "execution_count": null,
      "outputs": []
    },
    {
      "cell_type": "markdown",
      "metadata": {
        "id": "3x_-1Qe34U5w"
      },
      "source": [
        "# 7. Model\r\n",
        "\r\n"
      ],
      "id": "3x_-1Qe34U5w"
    },
    {
      "cell_type": "markdown",
      "metadata": {
        "id": "BVfcawPjF5sl"
      },
      "source": [
        "## 7.1 Layer 0"
      ],
      "id": "BVfcawPjF5sl"
    },
    {
      "cell_type": "code",
      "metadata": {
        "id": "-yJ7JTk04XIu"
      },
      "source": [
        "class L0_Net(nn.Module):\r\n",
        "    def __init__(self):\r\n",
        "        super(L0_Net, self).__init__()\r\n",
        "        # Conv2D: 1 input channel, 8 output channels, 3 by 3 kernel, stride of 1.\r\n",
        "        self.conv1 = nn.Conv2d(1, 4, 3, 1)\r\n",
        "        self.fc1 = nn.Linear(87616, 2)\r\n",
        "\r\n",
        "    def forward(self, x):\r\n",
        "        x = self.conv1(x)\r\n",
        "        x = torch.flatten(x, 1)\r\n",
        "        x = self.fc1(x)\r\n",
        "        output = F.log_softmax(x, dim = 1)\r\n",
        "        return output"
      ],
      "id": "-yJ7JTk04XIu",
      "execution_count": null,
      "outputs": []
    },
    {
      "cell_type": "code",
      "metadata": {
        "id": "EJKx7kXTQYQN"
      },
      "source": [
        "# Activate gpu\r\n",
        "if torch.cuda.is_available():  \r\n",
        "    print('using GPU')\r\n",
        "    device = \"cuda:0\" \r\n",
        "else:  \r\n",
        "    device = \"cpu\"\r\n",
        "l0_model = L0_Net().to(torch.device(device))"
      ],
      "id": "EJKx7kXTQYQN",
      "execution_count": null,
      "outputs": []
    },
    {
      "cell_type": "code",
      "metadata": {
        "id": "zoBbl4-OO417"
      },
      "source": [
        "summary(l0_model, (1, 150, 150))"
      ],
      "id": "zoBbl4-OO417",
      "execution_count": null,
      "outputs": []
    },
    {
      "cell_type": "markdown",
      "metadata": {
        "id": "UUtueamzGHp9"
      },
      "source": [
        "## 7.2 Layer 1"
      ],
      "id": "UUtueamzGHp9"
    },
    {
      "cell_type": "code",
      "metadata": {
        "id": "El3FLR03GJ5m"
      },
      "source": [
        "class L1_Net(nn.Module):\r\n",
        "    def __init__(self):\r\n",
        "        super(L1_Net, self).__init__()\r\n",
        "        # Conv2D: 1 input channel, 8 output channels, 3 by 3 kernel, stride of 1.\r\n",
        "        self.conv1 = nn.Conv2d(1, 4, 3, 1)\r\n",
        "        self.fc1 = nn.Linear(87616, 2)\r\n",
        "\r\n",
        "    def forward(self, x):\r\n",
        "        x = self.conv1(x)\r\n",
        "        x = torch.flatten(x, 1)\r\n",
        "        x = self.fc1(x)\r\n",
        "        output = F.log_softmax(x, dim = 1)\r\n",
        "        return output"
      ],
      "id": "El3FLR03GJ5m",
      "execution_count": null,
      "outputs": []
    },
    {
      "cell_type": "code",
      "metadata": {
        "id": "o3uSnZgeGKO-"
      },
      "source": [
        "# Activate gpu\r\n",
        "if torch.cuda.is_available():  \r\n",
        "    print('using GPU')\r\n",
        "    device = \"cuda:0\" \r\n",
        "else:  \r\n",
        "    device = \"cpu\"\r\n",
        "l1_model = L1_Net().to(torch.device(device))"
      ],
      "id": "o3uSnZgeGKO-",
      "execution_count": null,
      "outputs": []
    },
    {
      "cell_type": "code",
      "metadata": {
        "id": "2tRV7PJIGPTH"
      },
      "source": [
        "summary(l1_model, (1, 150, 150))"
      ],
      "id": "2tRV7PJIGPTH",
      "execution_count": null,
      "outputs": []
    },
    {
      "cell_type": "markdown",
      "metadata": {
        "id": "L1E4MDvTLdnP"
      },
      "source": [
        "# 8. Training the model\r\n",
        "\r\n",
        "Reference material: [Towards data science: PyTorch [Tabular] — Multiclass Classification](https://towardsdatascience.com/pytorch-tabular-multiclass-classification-9f8211a123ab)"
      ],
      "id": "L1E4MDvTLdnP"
    },
    {
      "cell_type": "code",
      "metadata": {
        "id": "98hO2OLpLdRK"
      },
      "source": [
        "def multi_acc(y_pred, y_test):\r\n",
        "    y_pred_softmax = torch.log_softmax(y_pred, dim = 1)\r\n",
        "    _, y_pred_tags = torch.max(y_pred_softmax, dim = 1)\r\n",
        "    correct_pred = (y_pred_tags == y_test).float()\r\n",
        "    acc = correct_pred.sum() / len(correct_pred)\r\n",
        "    \r\n",
        "    return acc"
      ],
      "id": "98hO2OLpLdRK",
      "execution_count": null,
      "outputs": []
    },
    {
      "cell_type": "markdown",
      "metadata": {
        "id": "IsnZg2ToGTfx"
      },
      "source": [
        "## 8.1 Layer 0"
      ],
      "id": "IsnZg2ToGTfx"
    },
    {
      "cell_type": "code",
      "metadata": {
        "id": "E7yVj4RlPNNV"
      },
      "source": [
        "# Define criterion and optimizer, epoch\r\n",
        "epochs = 3\r\n",
        "lr = 0.0001\r\n",
        "criterion = nn.CrossEntropyLoss()\r\n",
        "optimizer = optim.Adam(l0_model.parameters(), lr = lr)"
      ],
      "id": "E7yVj4RlPNNV",
      "execution_count": null,
      "outputs": []
    },
    {
      "cell_type": "code",
      "metadata": {
        "id": "lJxZ00RSPTBy"
      },
      "source": [
        "start = time.time()\r\n",
        "\r\n",
        "start_model_time = datetime.now().strftime(\"%d_%m_%Y_%H_%M_%S\")\r\n",
        "model_name = 'binary_L0_net'\r\n",
        "path = './checkpoint_model_{}_{}_{}'.format(epochs, model_name, start_model_time)\r\n",
        "\r\n",
        "l0_accuracy_stats_epoch = {\r\n",
        "    'train': [],\r\n",
        "    'test': [],\r\n",
        "    'epoch': [],\r\n",
        "}\r\n",
        "l0_loss_stats_epoch = {\r\n",
        "    'train': [],\r\n",
        "    'test': [],\r\n",
        "    'epoch': [],\r\n",
        "}\r\n",
        "\r\n",
        "for e in range(epochs):\r\n",
        "    train_epoch_loss = 0\r\n",
        "    train_epoch_acc = 0\r\n",
        "    \r\n",
        "    l0_model.train()\r\n",
        "    for X_train_batch, y_train_batch in l0_train_loader:\r\n",
        "        X_train_batch, y_train_batch = X_train_batch.to(device), y_train_batch.to(device)\r\n",
        "\r\n",
        "        optimizer.zero_grad()\r\n",
        "\r\n",
        "        output = l0_model.forward(X_train_batch)\r\n",
        "        train_loss  = criterion(output, torch.max(y_train_batch, 1)[1])\r\n",
        "        train_acc = multi_acc(output, torch.max(y_train_batch, 1)[1])\r\n",
        "        \r\n",
        "        train_loss.backward()\r\n",
        "        optimizer.step()\r\n",
        "\r\n",
        "        train_epoch_loss += train_loss.item()\r\n",
        "        train_epoch_acc += train_acc.item()\r\n",
        "\r\n",
        "    # testing\r\n",
        "    with torch.no_grad():\r\n",
        "        test_epoch_loss = 0\r\n",
        "        test_epoch_acc = 0\r\n",
        "        l0_model.eval()\r\n",
        "        for X_test_batch, y_test_batch in l0_test_loader:\r\n",
        "            X_test_batch, y_test_batch = X_test_batch.to(device), y_test_batch.to(device)\r\n",
        "\r\n",
        "            y_test_pred = l0_model.forward(X_test_batch)\r\n",
        "\r\n",
        "            test_loss = criterion(y_test_pred, torch.max(y_test_batch, 1)[1])\r\n",
        "            test_acc = multi_acc(y_test_pred, torch.max(y_test_batch, 1)[1])\r\n",
        "\r\n",
        "            test_epoch_loss += test_loss.item()\r\n",
        "            test_epoch_acc += test_acc.item()\r\n",
        "            \r\n",
        "    \r\n",
        "    # averaged\r\n",
        "    train_epoch_loss = train_epoch_loss/len(l0_train_loader)\r\n",
        "    train_epoch_acc = train_epoch_acc/len(l0_train_loader)\r\n",
        "    test_epoch_loss = test_epoch_loss/len(l0_test_loader)\r\n",
        "    test_epoch_acc = test_epoch_acc/len(l0_test_loader)\r\n",
        "    \r\n",
        "    # The step number corresponds to the number of batches seen\r\n",
        "    now = datetime.now().strftime(\"%d/%m/%Y %H:%M:%S\")\r\n",
        "    print(\"Epoch: {}/{} - {} - \".format(e+1, epochs, now),\r\n",
        "      \"Training Loss: {:.4f} - \".format(train_epoch_loss),\r\n",
        "      \"Training Accuracy: {:.4f}\".format(train_epoch_acc),\r\n",
        "      \"Test Loss: {:.4f} - \".format(test_epoch_loss),\r\n",
        "      \"Test Accuracy: {:.4f}\".format(test_epoch_acc))\r\n",
        "    l0_model.train()\r\n",
        "    \r\n",
        "    # Epoch metrics\r\n",
        "    l0_loss_stats_epoch['train'].append(train_epoch_loss)\r\n",
        "    l0_loss_stats_epoch['test'].append(test_epoch_loss)\r\n",
        "    l0_loss_stats_epoch['epoch'].append(e+1)\r\n",
        "    l0_accuracy_stats_epoch['train'].append(train_epoch_acc)\r\n",
        "    l0_accuracy_stats_epoch['test'].append(test_epoch_acc)\r\n",
        "    l0_accuracy_stats_epoch['epoch'].append(e+1)\r\n",
        "    \r\n",
        "    # auto-save a checkpoint at every epoch for evaluation and continual training. Overrides the previous checkpoint\r\n",
        "    checkpoint = {\r\n",
        "        'epochs': e+1,\r\n",
        "        'model_state_dict': l0_model.state_dict(),\r\n",
        "        'optimizer_state_dict': optimizer.state_dict(),\r\n",
        "        'train_loss': train_epoch_loss,\r\n",
        "        'test_loss': test_epoch_loss,\r\n",
        "        'test_accuracy': test_epoch_acc,\r\n",
        "        'training_accuracy': train_epoch_acc\r\n",
        "    }\r\n",
        "    torch.save(checkpoint, path)"
      ],
      "id": "lJxZ00RSPTBy",
      "execution_count": null,
      "outputs": []
    },
    {
      "cell_type": "markdown",
      "metadata": {
        "id": "WRYDiwdsL4vB"
      },
      "source": [
        "## 8.2 Layer 1"
      ],
      "id": "WRYDiwdsL4vB"
    },
    {
      "cell_type": "code",
      "metadata": {
        "id": "bSctEJ0tL49-"
      },
      "source": [
        "# Define criterion and optimizer, epoch\r\n",
        "epochs = 3\r\n",
        "lr = 0.0001\r\n",
        "criterion = nn.CrossEntropyLoss()\r\n",
        "optimizer = optim.Adam(l1_model.parameters(), lr = lr)"
      ],
      "id": "bSctEJ0tL49-",
      "execution_count": null,
      "outputs": []
    },
    {
      "cell_type": "code",
      "metadata": {
        "id": "-p-7XimOMBVF"
      },
      "source": [
        "start = time.time()\r\n",
        "\r\n",
        "start_model_time = datetime.now().strftime(\"%d_%m_%Y_%H_%M_%S\")\r\n",
        "model_name = 'binary_L1_net'\r\n",
        "path = './checkpoint_model_{}_{}_{}'.format(epochs, model_name, start_model_time)\r\n",
        "\r\n",
        "l1_accuracy_stats_epoch = {\r\n",
        "    'train': [],\r\n",
        "    'test': [],\r\n",
        "    'epoch': [],\r\n",
        "}\r\n",
        "l1_loss_stats_epoch = {\r\n",
        "    'train': [],\r\n",
        "    'test': [],\r\n",
        "    'epoch': [],\r\n",
        "}\r\n",
        "\r\n",
        "for e in range(epochs):\r\n",
        "    train_epoch_loss = 0\r\n",
        "    train_epoch_acc = 0\r\n",
        "    \r\n",
        "    l1_model.train()\r\n",
        "    for X_train_batch, y_train_batch in l1_train_loader:\r\n",
        "        X_train_batch, y_train_batch = X_train_batch.to(device), y_train_batch.to(device)\r\n",
        "\r\n",
        "        optimizer.zero_grad()\r\n",
        "\r\n",
        "        output = l1_model.forward(X_train_batch)\r\n",
        "        train_loss  = criterion(output, torch.max(y_train_batch, 1)[1])\r\n",
        "        train_acc = multi_acc(output, torch.max(y_train_batch, 1)[1])\r\n",
        "        \r\n",
        "        train_loss.backward()\r\n",
        "        optimizer.step()\r\n",
        "\r\n",
        "        train_epoch_loss += train_loss.item()\r\n",
        "        train_epoch_acc += train_acc.item()\r\n",
        "\r\n",
        "    # testing\r\n",
        "    with torch.no_grad():\r\n",
        "        test_epoch_loss = 0\r\n",
        "        test_epoch_acc = 0\r\n",
        "        l1_model.eval()\r\n",
        "        for X_test_batch, y_test_batch in l1_test_loader:\r\n",
        "            X_test_batch, y_test_batch = X_test_batch.to(device), y_test_batch.to(device)\r\n",
        "\r\n",
        "            y_test_pred = l1_model.forward(X_test_batch)\r\n",
        "\r\n",
        "            test_loss = criterion(y_test_pred, torch.max(y_test_batch, 1)[1])\r\n",
        "            test_acc = multi_acc(y_test_pred, torch.max(y_test_batch, 1)[1])\r\n",
        "\r\n",
        "            test_epoch_loss += test_loss.item()\r\n",
        "            test_epoch_acc += test_acc.item()\r\n",
        "            \r\n",
        "    \r\n",
        "    # averaged\r\n",
        "    train_epoch_loss = train_epoch_loss/len(l1_train_loader)\r\n",
        "    train_epoch_acc = train_epoch_acc/len(l1_train_loader)\r\n",
        "    test_epoch_loss = test_epoch_loss/len(l1_test_loader)\r\n",
        "    test_epoch_acc = test_epoch_acc/len(l1_test_loader)\r\n",
        "    \r\n",
        "    # The step number corresponds to the number of batches seen\r\n",
        "    now = datetime.now().strftime(\"%d/%m/%Y %H:%M:%S\")\r\n",
        "    print(\"Epoch: {}/{} - {} - \".format(e+1, epochs, now),\r\n",
        "      \"Training Loss: {:.4f} - \".format(train_epoch_loss),\r\n",
        "      \"Training Accuracy: {:.4f}\".format(train_epoch_acc),\r\n",
        "      \"Test Loss: {:.4f} - \".format(test_epoch_loss),\r\n",
        "      \"Test Accuracy: {:.4f}\".format(test_epoch_acc))\r\n",
        "    l1_model.train()\r\n",
        "    \r\n",
        "    # Epoch metrics\r\n",
        "    l1_loss_stats_epoch['train'].append(train_epoch_loss)\r\n",
        "    l1_loss_stats_epoch['test'].append(test_epoch_loss)\r\n",
        "    l1_loss_stats_epoch['epoch'].append(e+1)\r\n",
        "    l1_accuracy_stats_epoch['train'].append(train_epoch_acc)\r\n",
        "    l1_accuracy_stats_epoch['test'].append(test_epoch_acc)\r\n",
        "    l1_accuracy_stats_epoch['epoch'].append(e+1)\r\n",
        "    \r\n",
        "    # auto-save a checkpoint at every epoch for evaluation and continual training. Overrides the previous checkpoint\r\n",
        "    checkpoint = {\r\n",
        "        'epochs': e+1,\r\n",
        "        'model_state_dict': l1_model.state_dict(),\r\n",
        "        'optimizer_state_dict': optimizer.state_dict(),\r\n",
        "        'train_loss': train_epoch_loss,\r\n",
        "        'test_loss': test_epoch_loss, \r\n",
        "        'test_accuracy': test_epoch_acc,\r\n",
        "        'training_accuracy': train_epoch_acc\r\n",
        "    }\r\n",
        "    torch.save(checkpoint, path)"
      ],
      "id": "-p-7XimOMBVF",
      "execution_count": null,
      "outputs": []
    },
    {
      "cell_type": "markdown",
      "metadata": {
        "id": "cUG2wrXboT8T"
      },
      "source": [
        "# 9. Graph visualizations of learning curves\r\n",
        "\r\n",
        "Graphs covered\r\n",
        "\r\n",
        "1. Accuracy against steps\r\n",
        "2. Recall against steps\r\n",
        "3. Precision against steps\r\n",
        "4. F1 against steps\r\n",
        "5. Loss against steps"
      ],
      "id": "cUG2wrXboT8T"
    },
    {
      "cell_type": "code",
      "metadata": {
        "id": "JhUVlMGJoW0N"
      },
      "source": [
        "def plot_graph(data,datasets,y_axis,x_axis):\r\n",
        "  \"\"\"Plots a graph of y against x\r\n",
        "\r\n",
        "    Keyword arguments:\r\n",
        "    data -- dictionary with keys: train, val, epoch, steps\r\n",
        "    datasets -- list of datasets to plot: train, val\r\n",
        "    y_axis -- name of the y_axis. example: accuracy\r\n",
        "    x_axis -- either epoch or steps\r\n",
        "    \"\"\"\r\n",
        "  plt.figure(figsize=(17,8))\r\n",
        "  for dataset in datasets:\r\n",
        "    target_y = data[dataset]\r\n",
        "    target_x = data[x_axis]\r\n",
        "    plt.plot(target_x, target_y, label = dataset)\r\n",
        "  plt.xlabel(x_axis)\r\n",
        "  plt.ylabel(y_axis)\r\n",
        "  plt.title('Graph of {} against {}'.format(y_axis, x_axis))\r\n",
        "  plt.legend()\r\n",
        "  plt.show()"
      ],
      "id": "JhUVlMGJoW0N",
      "execution_count": null,
      "outputs": []
    },
    {
      "cell_type": "markdown",
      "metadata": {
        "id": "OZqZ2V9FMIsL"
      },
      "source": [
        "## 9.1 Layer 0"
      ],
      "id": "OZqZ2V9FMIsL"
    },
    {
      "cell_type": "code",
      "metadata": {
        "id": "UWJD3RFbcyxd"
      },
      "source": [
        "plot_graph(l0_accuracy_stats_epoch, ['train', 'test'], 'accuracy', 'epoch')\r\n",
        "plot_graph(l0_loss_stats_epoch, ['train', 'test'], 'loss', 'epoch')"
      ],
      "id": "UWJD3RFbcyxd",
      "execution_count": null,
      "outputs": []
    },
    {
      "cell_type": "markdown",
      "metadata": {
        "id": "jpBmQLzAMLmO"
      },
      "source": [
        "## 9.2 Layer 1"
      ],
      "id": "jpBmQLzAMLmO"
    },
    {
      "cell_type": "code",
      "metadata": {
        "id": "SFDVrasJMNEp"
      },
      "source": [
        "plot_graph(l1_accuracy_stats_epoch, ['train', 'test'], 'accuracy', 'epoch')\r\n",
        "plot_graph(l1_loss_stats_epoch, ['train', 'test'], 'loss', 'epoch')"
      ],
      "id": "SFDVrasJMNEp",
      "execution_count": null,
      "outputs": []
    },
    {
      "cell_type": "markdown",
      "metadata": {
        "id": "cGpqG8Y6es_7"
      },
      "source": [
        "# 10. Validation set performance"
      ],
      "id": "cGpqG8Y6es_7"
    },
    {
      "cell_type": "markdown",
      "metadata": {
        "id": "vbbJvYKcNIkd"
      },
      "source": [
        "## 10.1 Init dataset and data loader for 3 classes"
      ],
      "id": "vbbJvYKcNIkd"
    },
    {
      "cell_type": "code",
      "metadata": {
        "id": "HhLZ0u26NRB0"
      },
      "source": [
        "class Lung_Dataset(Dataset):\r\n",
        "    \"\"\"\r\n",
        "    Generic Dataset class.\r\n",
        "    \"\"\"\r\n",
        "    \r\n",
        "    def __init__(self, groups, dataset_numbers, dataset_paths):\r\n",
        "        \"\"\"\r\n",
        "        Constructor for generic Dataset class - assembles\r\n",
        "        the important parameters in attributes.\r\n",
        "\r\n",
        "        Parameters\r\n",
        "        ----------\r\n",
        "        groups : str\r\n",
        "            Allowed values: train, val, test\r\n",
        "        dataset_numbers : dict\r\n",
        "            Count of each class within specified group\r\n",
        "        dataset_paths : dict\r\n",
        "            Path to each class within specified group\r\n",
        "        \"\"\"\r\n",
        "\r\n",
        "        self.img_size = (150, 150)\r\n",
        "        self.classes = {\r\n",
        "            0: 'normal',\r\n",
        "            1: 'infected_covid',\r\n",
        "            2: 'infected_non_covid'\r\n",
        "        }        \r\n",
        "        self.groups = groups\r\n",
        "        self.dataset_numbers = dataset_numbers\r\n",
        "        self.dataset_paths = dataset_paths\r\n",
        "        \r\n",
        "        \r\n",
        "    def describe(self):\r\n",
        "        \"\"\"\r\n",
        "        Descriptor function.\r\n",
        "        Will print details about the dataset when called.\r\n",
        "        \"\"\"\r\n",
        "        \r\n",
        "        # Generate description\r\n",
        "        msg = \"This is the {} dataset of the Lung Dataset\".format(self.groups)\r\n",
        "        msg += \" used for the Small Project Demo in the 50.039 Deep Learning class\"\r\n",
        "        msg += \" in March 2021. \\n\"\r\n",
        "        msg += \"It contains a total of {} images, \".format(sum(self.dataset_numbers.values()))\r\n",
        "        msg += \"of size {} by {}.\\n\".format(self.img_size[0], self.img_size[1])\r\n",
        "        msg += \"The images are stored in the following locations \"\r\n",
        "        msg += \"and each one contains the following number of images:\\n\"\r\n",
        "        for key, val in self.dataset_paths.items():\r\n",
        "            msg += \" - {}, in folder {}: {} images.\\n\".format(key, val, self.dataset_numbers[key])\r\n",
        "        print(msg)\r\n",
        "        \r\n",
        "    \r\n",
        "    def open_img(self, group_val, class_val, index_val):\r\n",
        "        \"\"\"\r\n",
        "        Opens image with specified parameters.\r\n",
        "        \r\n",
        "        Parameters:\r\n",
        "        - group_val should take values in 'train', 'test' or 'val'.\r\n",
        "        - class_val variable should be set to 'normal' or 'infected_non_covid' or 'infected_covid'.\r\n",
        "        - index_val should be an integer with values between 0 and the maximal number of images in dataset.\r\n",
        "        \r\n",
        "        Returns loaded image as a normalized Numpy array.\r\n",
        "        \"\"\"\r\n",
        "        \r\n",
        "        # Asserts checking for consistency in passed parameters\r\n",
        "        err_msg = \"Error - group_val variable should be set to 'train', 'test' or 'val'.\"\r\n",
        "        assert group_val in self.groups, err_msg\r\n",
        "        \r\n",
        "        err_msg = \"Error - class_val variable should be set to 'normal' or 'infected_non_covid' or 'infected_covid.\"\r\n",
        "        assert class_val in self.classes.values(), err_msg\r\n",
        "        \r\n",
        "        max_val = self.dataset_numbers['{}_{}'.format(group_val, class_val)]\r\n",
        "        err_msg = \"Error - index_val variable should be an integer between 0 and the maximal number of images.\"\r\n",
        "        err_msg += \"\\n(In {}/{}, you have {} images.)\".format(group_val, class_val, max_val)\r\n",
        "        assert isinstance(index_val, int), err_msg\r\n",
        "        assert index_val >= 0 and index_val <= max_val, err_msg\r\n",
        "        \r\n",
        "        # Open file as before\r\n",
        "        path_to_file = '{}/{}.jpg'.format(self.dataset_paths['{}_{}'.format(group_val, class_val)], index_val)\r\n",
        "        with open(path_to_file, 'rb') as f:\r\n",
        "            # Convert to Numpy array and normalize pixel values by dividing by 255.\r\n",
        "            im = np.asarray(Image.open(f))/255\r\n",
        "        f.close()\r\n",
        "        return im\r\n",
        "    \r\n",
        "    \r\n",
        "    def show_img(self, group_val, class_val, index_val):\r\n",
        "        \"\"\"\r\n",
        "        Opens, then displays image with specified parameters.\r\n",
        "        \r\n",
        "        Parameters:\r\n",
        "        - group_val should take values in 'train', 'test' or 'val'.\r\n",
        "        - class_val variable should be set to 'normal' or 'infected'.\r\n",
        "        - index_val should be an integer with values between 0 and the maximal number of images in dataset.\r\n",
        "        \"\"\"\r\n",
        "        \r\n",
        "        # Open image\r\n",
        "        im = self.open_img(group_val, class_val, index_val)\r\n",
        "        \r\n",
        "        # Display\r\n",
        "        plt.imshow(im)\r\n",
        "\r\n",
        "    def __len__(self):\r\n",
        "        \"\"\"\r\n",
        "        Length special method, returns the number of images in dataset.\r\n",
        "        \"\"\"\r\n",
        "        \r\n",
        "        # Length function\r\n",
        "        return sum(self.dataset_numbers.values())\r\n",
        "    \r\n",
        "    \r\n",
        "    def __getitem__(self, index):\r\n",
        "        \"\"\"\r\n",
        "        Getitem special method.\r\n",
        "        \r\n",
        "        Expects an integer value index, between 0 and len(self) - 1.\r\n",
        "        \r\n",
        "        Returns the image and its label as a one hot vector, both\r\n",
        "        in torch tensor format in dataset.\r\n",
        "        \"\"\"\r\n",
        "        \r\n",
        "        # Get item special method\r\n",
        "        first_val = int(list(self.dataset_numbers.values())[0])\r\n",
        "        second_val = int(list(self.dataset_numbers.values())[1])\r\n",
        "        if index < first_val:\r\n",
        "            class_val = 'normal'\r\n",
        "            label = torch.Tensor([1, 0, 0])\r\n",
        "        elif index < (first_val+second_val):\r\n",
        "            class_val = 'infected_covid'\r\n",
        "            index = index - first_val\r\n",
        "            label = torch.Tensor([0, 1, 0])\r\n",
        "        else:\r\n",
        "            class_val = \"infected_non_covid\"\r\n",
        "            index = index - (first_val+second_val)\r\n",
        "            label = torch.Tensor([0, 0, 1])\r\n",
        "        im = self.open_img(self.groups, class_val, index)\r\n",
        "        im = transforms.functional.to_tensor(np.array(im)).float()\r\n",
        "        return im, label"
      ],
      "id": "HhLZ0u26NRB0",
      "execution_count": null,
      "outputs": []
    },
    {
      "cell_type": "code",
      "metadata": {
        "id": "OmF7BnwUNdxF"
      },
      "source": [
        "dataset_numbers_val = {\r\n",
        "    'val_normal': 8,\r\n",
        "    'val_infected_covid': 8,\r\n",
        "    'val_infected_non_covid': 8,\r\n",
        "}\r\n",
        "dataset_paths_val = {\r\n",
        "    'val_normal': './dataset/val/normal/',\r\n",
        "    'val_infected_covid': './dataset/val/infected/covid/',\r\n",
        "    'val_infected_non_covid': './dataset/val/infected/non-covid/',\r\n",
        "}\r\n",
        "val_group = 'val'\r\n",
        "ld_val = Lung_Dataset(\r\n",
        "    val_group,\r\n",
        "    dataset_numbers_val,\r\n",
        "    dataset_paths_val\r\n",
        ")\r\n",
        "ld_val.describe()"
      ],
      "id": "OmF7BnwUNdxF",
      "execution_count": null,
      "outputs": []
    },
    {
      "cell_type": "markdown",
      "metadata": {
        "id": "kSgP9-kDNOtu"
      },
      "source": [
        "## 10.2 Perform validation"
      ],
      "id": "kSgP9-kDNOtu"
    },
    {
      "cell_type": "code",
      "metadata": {
        "id": "8Ku1pIryfPga"
      },
      "source": [
        "def combinePred(l0_model, l1_model, val_batch):\r\n",
        "    '''\r\n",
        "    val_batch will be batch_size of 1 from\r\n",
        "\r\n",
        "    Keyword arguments:\r\n",
        "    l0_model -- L0_Net object\r\n",
        "    l1_model -- L1_Net object\r\n",
        "    val_batch -- DataLoader object\r\n",
        "    '''\r\n",
        "    l0_model.eval()\r\n",
        "    l0_pred = l0_model.forward(val_batch.to(device))\r\n",
        "    l0_pred = int(torch.max(l0_pred, 1)[1])\r\n",
        "    if l0_pred == 0:\r\n",
        "        # normal\r\n",
        "        return torch.Tensor([1, 0, 0])\r\n",
        "    else:\r\n",
        "        l1_model.eval()\r\n",
        "        l1_pred = l1_model.forward(val_batch.to(device))\r\n",
        "        l1_pred = int(torch.max(l1_pred, 1)[1])\r\n",
        "        if l1_pred == 0:\r\n",
        "            # covid\r\n",
        "            return torch.Tensor([0, 1, 0])\r\n",
        "        else:\r\n",
        "            # non-covid\r\n",
        "            return torch.Tensor([0, 0, 1])\r\n",
        "    \r\n",
        "\r\n",
        "def get_ground_truth_prediction(data_loader):\r\n",
        "    '''Gets the predicted & ground truth labels for each image in data_loader\r\n",
        "\r\n",
        "    Keyword arguments:\r\n",
        "    data_loader -- DataLoader object\r\n",
        "    '''\r\n",
        "    correct = 0\r\n",
        "    result = {\r\n",
        "        'im': [],\r\n",
        "        'ground_truth': [],\r\n",
        "        'prediction': [],\r\n",
        "        'index': []\r\n",
        "    }\r\n",
        "    for batch_idx, (X_val_batch, ground_truth) in enumerate(data_loader):\r\n",
        "        ground_truth = torch.max(ground_truth,1)[1].item()\r\n",
        "        ground_truth = ld_val.classes.get(ground_truth)\r\n",
        "        prediction = combinePred(l0_model, l1_model, X_val_batch)\r\n",
        "        prediction = torch.max(prediction,0)[1].item()\r\n",
        "        prediction = ld_val.classes.get(prediction)\r\n",
        "        if ground_truth == prediction:\r\n",
        "          correct += 1\r\n",
        "        im, class_oh = ld_val[batch_idx]\r\n",
        "        result['im'].append(im)\r\n",
        "        result['ground_truth'].append(ground_truth)\r\n",
        "        result['prediction'].append(prediction)\r\n",
        "        result['index'].append(batch_idx)\r\n",
        "    return result, correct\r\n",
        "\r\n",
        "def plot_ground_truth_prediction(row, col, result):\r\n",
        "    '''Plots the subplots of images with their ground truth and prediction\r\n",
        "\r\n",
        "    Keyword arguments:\r\n",
        "    row -- int value for number of rows of plot\r\n",
        "    col -- int value for number of columns of plot\r\n",
        "    result -- dict containing index, prediction, ground truth, image\r\n",
        "    '''\r\n",
        "    f, axarr = plt.subplots(row,col,figsize=(20,30))\r\n",
        "    f.suptitle('Validation set pictures, with predicted and ground truth labels.\\nAverage performance {}/{}={}%'.format(correct,total,accuracy))\r\n",
        "    counter = 0\r\n",
        "    for row_index in range(row):\r\n",
        "        for col_index in range(col):\r\n",
        "            axarr[row_index,col_index].set_title(\r\n",
        "                'Ground truth label: {}\\nPredicted label: {}'.format(\r\n",
        "                    result['ground_truth'][counter],\r\n",
        "                    result['prediction'][counter])\r\n",
        "                )\r\n",
        "            axarr[row_index,col_index].imshow(torch.squeeze(result['im'][counter]))\r\n",
        "            counter += 1\r\n",
        "\r\n",
        "val_loader = DataLoader(ld_val, batch_size = 1, shuffle = False)\r\n",
        "total = len(val_loader)\r\n",
        "result, correct = get_ground_truth_prediction(val_loader)\r\n",
        "accuracy = round(correct/total,3) * 100\r\n",
        "row = 6\r\n",
        "col = 4\r\n",
        "\r\n",
        "plot_ground_truth_prediction(row, col, result)"
      ],
      "id": "8Ku1pIryfPga",
      "execution_count": null,
      "outputs": []
    },
    {
      "cell_type": "markdown",
      "metadata": {
        "id": "k01aNmdgxVX-"
      },
      "source": [
        "# References\r\n",
        "\r\n",
        "Leszczynski, M. (2010). Image Preprocessing for Illumination Invariant Face \r\n",
        "Verification. Journal of telecommunications and information technology, 19-25."
      ],
      "id": "k01aNmdgxVX-"
    }
  ]
}