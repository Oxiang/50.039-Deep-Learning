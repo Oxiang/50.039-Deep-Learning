{
 "cells": [
  {
   "cell_type": "markdown",
   "metadata": {
    "id": "moral-rebound"
   },
   "source": [
    "# Boilerplate notebook"
   ]
  },
  {
   "cell_type": "code",
   "execution_count": null,
   "metadata": {
    "id": "crude-waste"
   },
   "outputs": [],
   "source": [
    "# Matplotlib\n",
    "import matplotlib.pyplot as plt\n",
    "# Numpy\n",
    "import numpy as np\n",
    "# Pillow\n",
    "from PIL import Image\n",
    "# Torch\n",
    "import torch\n",
    "from torch.utils.data import Dataset, DataLoader\n",
    "import torch.nn as nn\n",
    "import torch.optim as optim\n",
    "import torch.nn.functional as F\n",
    "import torch.optim.lr_scheduler as lr_scheduler\n",
    "from torchvision import transforms\n",
    "from torchsummary import summary\n",
    "# Misc\n",
    "import time\n",
    "from datetime import datetime"
   ]
  },
  {
   "cell_type": "markdown",
   "metadata": {
    "id": "R4gBSNDrcfGl"
   },
   "source": [
    "# 1. Download dataset"
   ]
  },
  {
   "cell_type": "code",
   "execution_count": null,
   "metadata": {
    "id": "lcHbRtuHcd-N"
   },
   "outputs": [],
   "source": [
    "!git clone -b data https://github.com/Oxiang/50.039-Deep-Learning.git"
   ]
  },
  {
   "cell_type": "code",
   "execution_count": null,
   "metadata": {
    "id": "J3ElMDwpU831"
   },
   "outputs": [],
   "source": [
    "!sudo apt-get install tree"
   ]
  },
  {
   "cell_type": "code",
   "execution_count": null,
   "metadata": {
    "id": "g4-h2B3OVCRe"
   },
   "outputs": [],
   "source": [
    "cd 50.039-Deep-Learning"
   ]
  },
  {
   "cell_type": "code",
   "execution_count": null,
   "metadata": {
    "id": "DW2ZD2afqdmF"
   },
   "outputs": [],
   "source": [
    "%%bash\n",
    "\n",
    "(\n",
    "tree dataset -d\n",
    ") "
   ]
  },
  {
   "cell_type": "markdown",
   "metadata": {
    "id": "aWQTRVbAVkPQ"
   },
   "source": [
    "# 2. Dataset high-level info\n",
    "\n",
    "The images stored in the **./dataset** folder and its subfolder consists of 150 by 150 pixels greyscale images, representing X-Ray pictures of lungs.\n",
    "\n",
    "We treat the problem as a cascading problem where we first predict normal vs infected then infected_non_covid vs infected_covid there will\n",
    "\n",
    "For normal vs infected\n",
    "\n",
    "| Description                | Class index | Tensor | Class label |\n",
    "| -------------------------- | ----------- | ------ | ----------- |\n",
    "| Normal                     | 0           | [1 0]  | normal      |\n",
    "| People with infected lungs | 1           | [0 1]  | infected    |\n",
    "\n",
    "For infected_covid vs infected_non_covid\n",
    "\n",
    "| Description                              | Class index | Tensor | Class label        |\n",
    "| ---------------------------------------- | ----------- | ------ | ------------------ |\n",
    "| People with infected lungs and covid     | 0           | [1 0]  | covid |\n",
    "| People with infected lungs and non-covid | 1           | [0 1]  | non_covid     |\n"
   ]
  },
  {
   "cell_type": "code",
   "execution_count": null,
   "metadata": {
    "id": "NZhr10rHVlIj"
   },
   "outputs": [],
   "source": [
    "classes_n_c = {0: 'normal', 1: 'infected'}\n",
    "classes_inc_ic = {0: 'infected_non_covid', 1: 'infected_covid'}\n",
    "groups = ['train', 'test', 'val']\n",
    "dataset_numbers = {\n",
    "    'train_normal': 1341,\n",
    "    'train_infected_non_covid': 2530,\n",
    "    'train_infected_covid': 1345,\n",
    "    'val_normal': 8,\n",
    "    'val_infected_non_covid': 8,\n",
    "    'val_infected_covid': 8,    \n",
    "    'test_normal': 234,\n",
    "    'test_infected_non_covid': 242,\n",
    "    'test_infected_covid': 138,\n",
    "}\n",
    "dataset_paths = {\n",
    "    'train_normal': './dataset/train/normal/',\n",
    "    'train_infected_non_covid': './dataset/train/infected/non-covid/',\n",
    "    'train_infected_covid': './dataset/train/infected/covid/',\n",
    "    'val_normal': './dataset/val/normal/',\n",
    "    'val_infected_non_covid': './dataset/val/infected/non-covid/',\n",
    "    'val_infected_covid': './dataset/val/infected/covid/',    \n",
    "    'test_normal': './dataset/test/normal/',\n",
    "    'test_infected_non_covid': './dataset/test/infected/non-covid/',\n",
    "    'test_infected_covid': './dataset/test/infected/covid/',    \n",
    "}"
   ]
  },
  {
   "cell_type": "markdown",
   "metadata": {
    "id": "_kakruEOWFn2"
   },
   "source": [
    "View one of the images and its properties. These images consist of a Numpy array, with values ranging between 0 and 255. These values will be normalized."
   ]
  },
  {
   "cell_type": "code",
   "execution_count": null,
   "metadata": {
    "id": "THPZFpETWAWK"
   },
   "outputs": [],
   "source": [
    "path_to_file = './dataset/train/normal/1.jpg'\n",
    "with open(path_to_file, 'rb') as f:\n",
    "    im = np.asarray(Image.open(f))\n",
    "    plt.imshow(im)\n",
    "f.close()\n",
    "print('Image shape is: {}'.format(im.shape))\n",
    "# Images are defined as a Numpy array of values between 0 and 256\n",
    "print('Image as a numpy array is:\\n {}'.format(im))"
   ]
  },
  {
   "cell_type": "markdown",
   "metadata": {
    "id": "Jcs9foiNXKY1"
   },
   "source": [
    "# 3. Creating a Dataset object"
   ]
  },
  {
   "cell_type": "markdown",
   "metadata": {
    "id": "Pyf61XksuJjY"
   },
   "source": [
    "## 3.1 Common variables"
   ]
  },
  {
   "cell_type": "code",
   "execution_count": null,
   "metadata": {
    "id": "1Z0B8tOLuI-D"
   },
   "outputs": [],
   "source": [
    "binary_dataset_paths = {\n",
    "    'layer_0': {\n",
    "        'train': {\n",
    "            'train_normal':'./dataset/train/normal',\n",
    "            'train_infected': './dataset/train/infected'\n",
    "        },\n",
    "        'val': {\n",
    "            'val_normal':'./dataset/val/normal',\n",
    "            'val_infected': './dataset/val/infected'\n",
    "        },\n",
    "        'test': {\n",
    "            'test_normal':'./dataset/test/normal',\n",
    "            'test_infected': './dataset/test/infected'\n",
    "        }\n",
    "    },\n",
    "    'layer_1':{\n",
    "        'train': {\n",
    "            'train_covid': './dataset/train/infected/covid',\n",
    "            'train_non_covid' : './dataset/train/infected/non-covid'\n",
    "        },\n",
    "        'val': {\n",
    "            'val_covid': './dataset/val/infected/covid',\n",
    "            'val_non_covid' : './dataset/val/infected/non-covid'\n",
    "        },\n",
    "        'test': {\n",
    "            'test_covid': './dataset/test/infected/covid',\n",
    "            'test_non_covid' : './dataset/test/infected/non-covid'            \n",
    "        }\n",
    "    }\n",
    "}\n",
    "\n",
    "binary_dataset_numbers = {\n",
    "    'layer_0': {\n",
    "        'train': {\n",
    "            'train_normal': 1341,\n",
    "            'train_infected': 3875\n",
    "        },\n",
    "        'val': {\n",
    "            'val_normal': 8,\n",
    "            'val_infected': 16\n",
    "        },\n",
    "        'test': {\n",
    "            'test_normal': 234,\n",
    "            'test_infected': 380\n",
    "        }\n",
    "    },\n",
    "    'layer_1':{\n",
    "        'train': {\n",
    "            'train_covid': 1345,\n",
    "            'train_non_covid' : 2530\n",
    "        },\n",
    "        'val': {\n",
    "            'val_covid': 8,\n",
    "            'val_non_covid': 8\n",
    "        },\n",
    "        'test': {\n",
    "            'test_covid': 138,\n",
    "            'test_non_covid': 242            \n",
    "        }\n",
    "    }\n",
    "}"
   ]
  },
  {
   "cell_type": "markdown",
   "metadata": {
    "id": "LKLCcIvxXLHu"
   },
   "source": [
    "## 3.2 Layer 0 General Dataset object that is custom made for train, val, test to individually use\n",
    "\n",
    "length method ( __ len __ )\n",
    "\n",
    "> return the number of images present in the dataset\n",
    "\n",
    "getitem method ( __ getitem __ )\n",
    "\n",
    "> fetch an image and its label, using a single index value. Returns the image, along with a one-hot vector corresponding to the class of the object. Both returned parameters will be torch tensors.\n",
    "- [1, 0] for normal class\n",
    "- [0, 1] for infected class"
   ]
  },
  {
   "cell_type": "code",
   "execution_count": null,
   "metadata": {
    "id": "LtNXQwKbXNfY"
   },
   "outputs": [],
   "source": [
    "class L0_Lung_Dataset(Dataset):\n",
    "    \"\"\"\n",
    "    Generic Dataset class for Layer 0\n",
    "    \"\"\"\n",
    "    \n",
    "    def __init__(self, groups, dataset_numbers, dataset_paths, infected_sub_class_numbers):\n",
    "        \"\"\"\n",
    "        Constructor for generic Dataset class for Layer0 - assembles\n",
    "        the important parameters in attributes.\n",
    "\n",
    "        Parameters\n",
    "        ----------\n",
    "        groups : str\n",
    "            Allowed values: train, val, test\n",
    "        dataset_numbers : dict\n",
    "            Count of each class within specified group (e.g. normal, infected)\n",
    "        dataset_paths : dict\n",
    "            Path to each class within specified group (infected has 2 sub-class dir)\n",
    "        \"\"\"\n",
    "\n",
    "        self.img_size = (150, 150)\n",
    "        self.classes = { 0: 'normal', 1: 'infected' }\n",
    "        self.covid_status = {0: '', 1: 'covid', 2: 'non-covid'} \n",
    "        self.groups = groups\n",
    "        self.dataset_numbers = dataset_numbers\n",
    "        self.dataset_paths = dataset_paths\n",
    "        self.infected_sub_class_numbers = infected_sub_class_numbers\n",
    "\n",
    "        \n",
    "    def describe(self):\n",
    "        \"\"\"\n",
    "        Descriptor function.\n",
    "        Will print details about the dataset when called.\n",
    "        \"\"\"\n",
    "        \n",
    "        # Generate description\n",
    "        msg = \"This is the {} dataset of the Lung Dataset\".format(self.groups)\n",
    "        msg += \" used for the Small Project Demo in the 50.039 Deep Learning class\"\n",
    "        msg += \" in March 2021. \\n\"\n",
    "        msg += \"It contains a total of {} images, \".format(sum(self.dataset_numbers.values()))\n",
    "        msg += \"of size {} by {}.\\n\".format(self.img_size[0], self.img_size[1])\n",
    "        msg += \"The images are stored in the following locations \"\n",
    "        msg += \"and each one contains the following number of images:\\n\"\n",
    "        for key, val in self.dataset_paths.items():\n",
    "            msg += \" - {}, in folder {}: {} images.\\n\".format(key, val, self.dataset_numbers[key])\n",
    "        print(msg)\n",
    "        \n",
    "    \n",
    "    def open_img(self, group_val, class_val, covid_status, index_val):\n",
    "        \"\"\"\n",
    "        Opens image with specified parameters.\n",
    "        \n",
    "        Parameters:\n",
    "        - group_val should take values in 'train', 'test' or 'val'.\n",
    "        - class_val variable should be set to 'normal' or 'infected_non_covid' or 'infected_covid'.\n",
    "        - covid_status should take values in '', 'covid' or 'non_covid'.\n",
    "        - index_val should be an integer with values between 0 and the maximal number of images in dataset.\n",
    "        \n",
    "        Returns loaded image as a normalized Numpy array.\n",
    "        \"\"\"\n",
    "        \n",
    "        # Asserts checking for consistency in passed parameters\n",
    "        err_msg = \"Error - group_val variable should be set to 'train', 'test' or 'val'.\"\n",
    "        assert group_val in self.groups, err_msg\n",
    "        \n",
    "        err_msg = \"Error - class_val variable should be set to 'normal' or 'infected_non_covid' or 'infected_covid.\"\n",
    "        assert class_val in self.classes.values(), err_msg\n",
    "\n",
    "        err_msg = \"Error - covid_status variable should be set to '', 'covid' or 'non-covid'.\"\n",
    "        assert covid_status in self.covid_status.values(), err_msg\n",
    "        \n",
    "        max_val = self.dataset_numbers['{}_{}'.format(group_val, class_val)]\n",
    "        err_msg = \"Error - index_val variable should be an integer between 0 and the maximal number of images.\"\n",
    "        err_msg += \"\\n(In {}/{}, you have {} images.)\".format(group_val, class_val, max_val)\n",
    "        assert isinstance(index_val, int), err_msg\n",
    "        assert index_val >= 0 and index_val <= max_val, err_msg\n",
    "        \n",
    "        # 'normal' - example path: /dataset/train/normal/1.jpg\n",
    "        if covid_status == \"\":\n",
    "            path_to_file = '{}/{}.jpg'.format(self.dataset_paths['{}_{}'.format(group_val, class_val)], index_val)\n",
    "        # 'covid' or 'non_covid' - example path: './dataset/train/infected/covid/1.jpg',\n",
    "        else:\n",
    "            path_to_file = '{}/{}/{}.jpg'.format(self.dataset_paths['{}_{}'.format(group_val, class_val)], covid_status, index_val)\n",
    "\n",
    "        with open(path_to_file, 'rb') as f:\n",
    "            # Convert to Numpy array and normalize pixel values by dividing by 255.\n",
    "            im = np.asarray(Image.open(f))/255\n",
    "        f.close()\n",
    "        return im\n",
    "    \n",
    "    \n",
    "    def show_img(self, group_val, class_val, covid_status, index_val):\n",
    "        \"\"\"\n",
    "        Opens, then displays image with specified parameters.\n",
    "        \n",
    "        Parameters:\n",
    "        - group_val should take values in 'train', 'test' or 'val'.\n",
    "        - class_val variable should be set to 'normal' or 'infected'.\n",
    "        - covid_status should take values in '', 'covid' or 'non-covid'.\n",
    "        - index_val should be an integer with values between 0 and the maximal number of images in dataset.\n",
    "        \"\"\"\n",
    "        \n",
    "        # Open image\n",
    "        im = self.open_img(group_val, class_val, covid_status, index_val)\n",
    "        \n",
    "        # Display\n",
    "        plt.imshow(im)\n",
    "\n",
    "    def __len__(self):\n",
    "        \"\"\"\n",
    "        Length special method, returns the number of images in dataset.\n",
    "        \"\"\"\n",
    "        \n",
    "        # Length function\n",
    "        return sum(self.dataset_numbers.values())\n",
    "    \n",
    "    \n",
    "    def __getitem__(self, index):\n",
    "        \"\"\"\n",
    "        Getitem special method.\n",
    "        \n",
    "        Expects an integer value index, between 0 and len(self) - 1.\n",
    "        \n",
    "        Returns the image and its label as a one hot vector, both\n",
    "        in torch tensor format in dataset.\n",
    "        \"\"\"\n",
    "        \n",
    "        # Get item special method\n",
    "        first_val = int(list(self.dataset_numbers.values())[0])\n",
    "        if index < first_val:\n",
    "            class_val = 'normal'\n",
    "            label = torch.Tensor([1, 0])\n",
    "            covid_status = \"\"\n",
    "        else:\n",
    "            class_val = 'infected'\n",
    "            index = index - first_val\n",
    "            label = torch.Tensor([0, 1])\n",
    "            infected_covid_numbers = int(list(self.infected_sub_class_numbers.values())[0]) # covid\n",
    "            if index < infected_covid_numbers:\n",
    "                class_val = 'infected'\n",
    "                covid_status = 'covid'\n",
    "            else:\n",
    "                class_val = 'infected'\n",
    "                index = index - infected_covid_numbers\n",
    "                covid_status = 'non-covid'\n",
    "        im = self.open_img(self.groups, class_val, covid_status, index)\n",
    "        im = transforms.functional.to_tensor(np.array(im)).float()\n",
    "        return im, label"
   ]
  },
  {
   "cell_type": "code",
   "execution_count": null,
   "metadata": {
    "id": "V714D12V5qgY"
   },
   "outputs": [],
   "source": [
    "def verify_l0_dataset(group,dataset,image_overall_index,class_val,covid_status,\n",
    "                   image_specific_dataset_index=1):\n",
    "  \"\"\"\n",
    "  Helper function to verify that the classes are implemented correctly\n",
    "\n",
    "  Parameters\n",
    "  ----------\n",
    "  group : str\n",
    "      Allowed values: train, val, test\n",
    "  dataset: object\n",
    "      Object instantiated from the class\n",
    "  image_overall_index: int\n",
    "      Overall index in the full dataset across all classes\n",
    "  class_val: str\n",
    "      Image label. Example: normal, infected\n",
    "  covid_status: str\n",
    "      If class_val is 'infected', set this to either 'covid' or 'non-covid'\n",
    "  image_specific_dataset_index : int\n",
    "      image id in the specific nested directory\n",
    "  \"\"\"\n",
    "  print('Verify the special methods __len__ and __get_item__')\n",
    "  print('Number of images in {} dataset: {}'.format(group, len(dataset)))\n",
    "  print('Details for image id {} from the {} dataset'.format(\n",
    "      image_overall_index,\n",
    "      group\n",
    "  ))\n",
    "  im, class_oh = dataset[image_overall_index]\n",
    "  print('Sample image shape: {}'.format(im.shape))\n",
    "  print('Sample image: {}'.format(im))\n",
    "  print('Sample image class: {}'.format(class_oh))\n",
    "\n",
    "  print('\\nVerify the open_img and show_img functions')\n",
    "  print('Open and show image {} from the {}_{} dataset'.format(\n",
    "      image_specific_dataset_index,\n",
    "      group,\n",
    "      class_val\n",
    "  ))\n",
    "  im = dataset.open_img(group, class_val, covid_status, image_specific_dataset_index)\n",
    "  print('Sample image shape: {}'.format(im.shape))\n",
    "  print('Sample image: {}'.format(im))\n",
    "  dataset.show_img(group, class_val, covid_status, image_specific_dataset_index)"
   ]
  },
  {
   "cell_type": "markdown",
   "metadata": {
    "id": "s9CO29iBYHs-"
   },
   "source": [
    "### 3.2.1 Layer 0 Train dataset"
   ]
  },
  {
   "cell_type": "code",
   "execution_count": null,
   "metadata": {
    "id": "LBI4uwQqYiWI"
   },
   "outputs": [],
   "source": [
    "train_group = 'train'\n",
    "l0_ld_train = L0_Lung_Dataset(groups = train_group,\n",
    "                              dataset_numbers = binary_dataset_numbers['layer_0'][train_group],\n",
    "                              dataset_paths = binary_dataset_paths['layer_0'][train_group],\n",
    "                              infected_sub_class_numbers = binary_dataset_numbers['layer_1'][train_group])\n",
    "l0_ld_train.describe()"
   ]
  },
  {
   "cell_type": "code",
   "execution_count": null,
   "metadata": {
    "id": "jo4ZJTwpYjw4"
   },
   "outputs": [],
   "source": [
    "verify_l0_dataset(train_group,l0_ld_train,1340,'normal','',1340)"
   ]
  },
  {
   "cell_type": "markdown",
   "metadata": {
    "id": "YMz0d7zfY5W7"
   },
   "source": [
    "### 3.2.2 Layer 0 Validation dataset"
   ]
  },
  {
   "cell_type": "code",
   "execution_count": null,
   "metadata": {
    "id": "w4Sju4KFY5p8"
   },
   "outputs": [],
   "source": [
    "val_group = 'val'\n",
    "l0_ld_val = L0_Lung_Dataset(groups = val_group,\n",
    "                            dataset_numbers = binary_dataset_numbers['layer_0'][val_group],\n",
    "                            dataset_paths = binary_dataset_paths['layer_0'][val_group],\n",
    "                            infected_sub_class_numbers = binary_dataset_numbers['layer_1'][val_group])\n",
    "l0_ld_val.describe()"
   ]
  },
  {
   "cell_type": "code",
   "execution_count": null,
   "metadata": {
    "id": "PzhsBRE4Y_F_"
   },
   "outputs": [],
   "source": [
    "verify_l0_dataset(val_group,l0_ld_val,9,'infected','covid',1)"
   ]
  },
  {
   "cell_type": "markdown",
   "metadata": {
    "id": "Ojan7nynZILA"
   },
   "source": [
    "### 3.2.3 Layer 0 Test dataset"
   ]
  },
  {
   "cell_type": "code",
   "execution_count": null,
   "metadata": {
    "id": "XdxD1NzmZIvq"
   },
   "outputs": [],
   "source": [
    "test_group = 'test'\n",
    "l0_ld_test = L0_Lung_Dataset(groups = test_group, \n",
    "                              dataset_numbers = binary_dataset_numbers['layer_0'][test_group], \n",
    "                              dataset_paths = binary_dataset_paths['layer_0'][test_group],\n",
    "                              infected_sub_class_numbers = binary_dataset_numbers['layer_1'][test_group])\n",
    "l0_ld_test.describe()"
   ]
  },
  {
   "cell_type": "code",
   "execution_count": null,
   "metadata": {
    "id": "49ohnFncZJJD"
   },
   "outputs": [],
   "source": [
    "verify_l0_dataset(test_group,l0_ld_test,613,'infected','non-covid',241)"
   ]
  },
  {
   "cell_type": "markdown",
   "metadata": {
    "id": "QRmEfd3Z2ccn"
   },
   "source": [
    "## 3.3 Layer 1 General Dataset object that is custom made for train, val, test to individually use"
   ]
  },
  {
   "cell_type": "code",
   "execution_count": null,
   "metadata": {
    "id": "lWR5VOpK2pan"
   },
   "outputs": [],
   "source": [
    "class L1_Lung_Dataset(Dataset):\n",
    "    \"\"\"\n",
    "    Generic Dataset class for Layer 1\n",
    "    \"\"\"\n",
    "    \n",
    "    def __init__(self, groups, dataset_numbers, dataset_paths):\n",
    "        \"\"\"\n",
    "        Constructor for generic Dataset class for Layer0 - assembles\n",
    "        the important parameters in attributes.\n",
    "\n",
    "        Parameters\n",
    "        ----------\n",
    "        groups : str\n",
    "            Allowed values: train, val, test\n",
    "        dataset_numbers : dict\n",
    "            Count of each class within specified group (e.g. covid, non_covid)\n",
    "        dataset_paths : dict\n",
    "            Path to each class within specified group (infected has 2 sub-class dir)\n",
    "        \"\"\"\n",
    "\n",
    "        self.img_size = (150, 150)\n",
    "        self.classes = {0: 'covid', 1: 'non_covid'}\n",
    "        self.groups = groups\n",
    "        self.dataset_numbers = dataset_numbers\n",
    "        self.dataset_paths = dataset_paths\n",
    "\n",
    "        \n",
    "    def describe(self):\n",
    "        \"\"\"\n",
    "        Descriptor function.\n",
    "        Will print details about the dataset when called.\n",
    "        \"\"\"\n",
    "        \n",
    "        # Generate description\n",
    "        msg = \"This is the {} dataset of the Lung Dataset\".format(self.groups)\n",
    "        msg += \" used for the Small Project Demo in the 50.039 Deep Learning class\"\n",
    "        msg += \" in March 2021. \\n\"\n",
    "        msg += \"It contains a total of {} images, \".format(sum(self.dataset_numbers.values()))\n",
    "        msg += \"of size {} by {}.\\n\".format(self.img_size[0], self.img_size[1])\n",
    "        msg += \"The images are stored in the following locations \"\n",
    "        msg += \"and each one contains the following number of images:\\n\"\n",
    "        for key, val in self.dataset_paths.items():\n",
    "            msg += \" - {}, in folder {}: {} images.\\n\".format(key, val, self.dataset_numbers[key])\n",
    "        print(msg)\n",
    "        \n",
    "    \n",
    "    def open_img(self, group_val, class_val, index_val):\n",
    "        \"\"\"\n",
    "        Opens image with specified parameters.\n",
    "        \n",
    "        Parameters:\n",
    "        - group_val should take values in 'train', 'test' or 'val'.\n",
    "        - class_val variable should be set to 'covid' or 'non-covid'.\n",
    "        - index_val should be an integer with values between 0 and the maximal number of images in dataset.\n",
    "        \n",
    "        Returns loaded image as a normalized Numpy array.\n",
    "        \"\"\"\n",
    "        \n",
    "        # Asserts checking for consistency in passed parameters\n",
    "        err_msg = \"Error - group_val variable should be set to 'train', 'test' or 'val'.\"\n",
    "        assert group_val in self.groups, err_msg\n",
    "        \n",
    "        err_msg = \"Error - class_val variable should be set to 'covid' or 'non-covid'.\"\n",
    "        assert class_val in self.classes.values(), err_msg     \n",
    "        \n",
    "        max_val = self.dataset_numbers['{}_{}'.format(group_val, class_val)]\n",
    "        err_msg = \"Error - index_val variable should be an integer between 0 and the maximal number of images.\"\n",
    "        err_msg += \"\\n(In {}/{}, you have {} images.)\".format(group_val, class_val, max_val)\n",
    "        assert isinstance(index_val, int), err_msg\n",
    "        assert index_val >= 0 and index_val <= max_val, err_msg\n",
    "        \n",
    "        # Open file as before\n",
    "        path_to_file = '{}/{}.jpg'.format(self.dataset_paths['{}_{}'.format(group_val, class_val)], index_val)\n",
    "        with open(path_to_file, 'rb') as f:\n",
    "            im = np.asarray(Image.open(f))/255\n",
    "        f.close()\n",
    "        return im\n",
    "    \n",
    "    \n",
    "    def show_img(self, group_val, class_val, index_val):\n",
    "        \"\"\"\n",
    "        Opens, then displays image with specified parameters.\n",
    "        \n",
    "        Parameters:\n",
    "        - group_val should take values in 'train', 'test' or 'val'.\n",
    "        - class_val variable should be set to 'covid' or 'non-covid'.\n",
    "        - index_val should be an integer with values between 0 and the maximal number of images in dataset.\n",
    "        \"\"\"\n",
    "        \n",
    "        # Open image\n",
    "        im = self.open_img(group_val, class_val, index_val)\n",
    "        \n",
    "        # Display\n",
    "        plt.imshow(im)\n",
    "        \n",
    "        \n",
    "    def __len__(self):\n",
    "        \"\"\"\n",
    "        Length special method, returns the number of images in dataset.\n",
    "        \"\"\"\n",
    "        \n",
    "        # Length function\n",
    "        return sum(self.dataset_numbers.values())\n",
    "    \n",
    "    \n",
    "    def __getitem__(self, index):\n",
    "        \"\"\"\n",
    "        Getitem special method.\n",
    "        \n",
    "        Expects an integer value index, between 0 and len(self) - 1.\n",
    "        \n",
    "        Returns the image and its label as a one hot vector, both\n",
    "        in torch tensor format in dataset.\n",
    "        \"\"\"\n",
    "        \n",
    "        # Get item special method\n",
    "        first_val = int(list(self.dataset_numbers.values())[0])\n",
    "        if index < first_val:\n",
    "            class_val = 'covid'\n",
    "            label = torch.Tensor([1, 0])\n",
    "        else:\n",
    "            class_val = 'non_covid'\n",
    "            index = index - first_val\n",
    "            label = torch.Tensor([0, 1])\n",
    "\n",
    "        im = self.open_img(self.groups, class_val, index)\n",
    "        im = transforms.functional.to_tensor(np.array(im)).float()\n",
    "        return im, label"
   ]
  },
  {
   "cell_type": "code",
   "execution_count": null,
   "metadata": {
    "id": "MB6wqXUN5wMd"
   },
   "outputs": [],
   "source": [
    "def verify_l1_dataset(group,dataset,image_overall_index,class_val,\n",
    "                   image_specific_dataset_index=1):\n",
    "  \"\"\"\n",
    "  Helper function to verify that the classes are implemented correctly\n",
    "\n",
    "  Parameters\n",
    "  ----------\n",
    "  group : str\n",
    "      Allowed values: train, val, test\n",
    "  dataset: object\n",
    "      Object instantiated from the class\n",
    "  image_overall_index: int\n",
    "      Overall index in the full dataset across all classes\n",
    "  class_val: str\n",
    "      Image label. Example: covid, non-covid\n",
    "  image_specific_dataset_index : int\n",
    "      image id in the specific nested directory\n",
    "  \"\"\"\n",
    "  print('Verify the special methods __len__ and __get_item__')\n",
    "  print('Number of images in {} dataset: {}'.format(group, len(dataset)))\n",
    "  print('Details for image id {} from the {} dataset'.format(\n",
    "      image_overall_index,\n",
    "      group\n",
    "  ))\n",
    "  im, class_oh = dataset[image_overall_index]\n",
    "  print('Sample image shape: {}'.format(im.shape))\n",
    "  print('Sample image: {}'.format(im))\n",
    "  print('Sample image class: {}'.format(class_oh))\n",
    "\n",
    "  print('\\nVerify the open_img and show_img functions')\n",
    "  print('Open and show image {} from the {}_{} dataset'.format(\n",
    "      image_specific_dataset_index,\n",
    "      group,\n",
    "      class_val\n",
    "  ))\n",
    "  im = dataset.open_img(group, class_val, image_specific_dataset_index)\n",
    "  print('Sample image shape: {}'.format(im.shape))\n",
    "  print('Sample image: {}'.format(im))\n",
    "  dataset.show_img(group, class_val, image_specific_dataset_index)"
   ]
  },
  {
   "cell_type": "markdown",
   "metadata": {
    "id": "vIeOkWaC2n3U"
   },
   "source": [
    "### 3.2.1 Layer 1 Train dataset"
   ]
  },
  {
   "cell_type": "code",
   "execution_count": null,
   "metadata": {
    "id": "McMnU4Jm6X58"
   },
   "outputs": [],
   "source": [
    "train_group = 'train'\n",
    "l1_ld_train = L1_Lung_Dataset(groups = train_group, \n",
    "                              dataset_numbers = binary_dataset_numbers['layer_1'][train_group], \n",
    "                              dataset_paths = binary_dataset_paths['layer_1'][train_group])\n",
    "l1_ld_train.describe()"
   ]
  },
  {
   "cell_type": "code",
   "execution_count": null,
   "metadata": {
    "id": "Z1lsv9yE6Y3g"
   },
   "outputs": [],
   "source": [
    "verify_l1_dataset(train_group,l1_ld_train,1,'covid',1)"
   ]
  },
  {
   "cell_type": "markdown",
   "metadata": {
    "id": "TZt-Y09H2gcy"
   },
   "source": [
    "### 3.2.2 Layer 1 Validation dataset"
   ]
  },
  {
   "cell_type": "code",
   "execution_count": null,
   "metadata": {
    "id": "UP8YEmM48GAs"
   },
   "outputs": [],
   "source": [
    "val_group = 'val'\n",
    "l1_ld_val = L1_Lung_Dataset(groups = val_group, \n",
    "                              dataset_numbers = binary_dataset_numbers['layer_1'][val_group], \n",
    "                              dataset_paths = binary_dataset_paths['layer_1'][val_group])\n",
    "l1_ld_val.describe()"
   ]
  },
  {
   "cell_type": "code",
   "execution_count": null,
   "metadata": {
    "id": "qnTb6R989Kc-"
   },
   "outputs": [],
   "source": [
    "verify_l1_dataset(val_group,l1_ld_val,15,'non_covid',7)"
   ]
  },
  {
   "cell_type": "markdown",
   "metadata": {
    "id": "CSZCUuuS6RLL"
   },
   "source": [
    "### 3.2.3 Layer 1 Test dataset"
   ]
  },
  {
   "cell_type": "code",
   "execution_count": null,
   "metadata": {
    "id": "cx5IOpZN8Gws"
   },
   "outputs": [],
   "source": [
    "test_group = 'test'\n",
    "l1_ld_test = L1_Lung_Dataset(groups = test_group, \n",
    "                              dataset_numbers = binary_dataset_numbers['layer_1'][test_group], \n",
    "                              dataset_paths = binary_dataset_paths['layer_1'][test_group])\n",
    "l1_ld_test.describe()"
   ]
  },
  {
   "cell_type": "code",
   "execution_count": null,
   "metadata": {
    "id": "R-5moiDN9fAJ"
   },
   "outputs": [],
   "source": [
    "verify_l1_dataset(test_group,l1_ld_test,379,'non_covid',241)"
   ]
  },
  {
   "cell_type": "markdown",
   "metadata": {
    "id": "0XwbFL6DbSxg"
   },
   "source": [
    "# 4. Data visualization\n",
    "\n",
    "This requires a `grouped bar chart`. Refer to [matplotlib Grouped bar chart with labels](https://matplotlib.org/stable/gallery/lines_bars_and_markers/barchart.html) for starter code"
   ]
  },
  {
   "cell_type": "code",
   "execution_count": null,
   "metadata": {
    "id": "V6BuWE6vDGMW"
   },
   "outputs": [],
   "source": [
    "def plot_grouped_bar_chart(labels, train, val, test):\n",
    "  '''\n",
    "  Plots a grouped bar chart\n",
    "  '''\n",
    "  x = np.arange(len(labels))  # the label locations\n",
    "  width = 0.25  # the width of the bars\n",
    "\n",
    "  fig, ax = plt.subplots(figsize=(10,10))\n",
    "  rects1 = ax.bar(x - width, train, width, label='train')\n",
    "  rects2 = ax.bar(x + width, val, width, label='val')\n",
    "  rects3 = ax.bar(x, test, width, label='test')\n",
    "\n",
    "  ax.set_ylabel('Number of datapoints')\n",
    "  ax.set_title('Number of datapoints with respect to each dataset and class')\n",
    "  ax.set_xticks(x)\n",
    "  ax.set_xticklabels(labels)\n",
    "  ax.legend()\n",
    "\n",
    "  def autolabel(rects):\n",
    "      \"\"\"Attach a text label above each bar in *rects*, displaying its height.\"\"\"\n",
    "      for rect in rects:\n",
    "          height = rect.get_height()\n",
    "          ax.annotate('{}'.format(height),\n",
    "                      xy=(rect.get_x() + rect.get_width() / 2, height),\n",
    "                      xytext=(0, 3),  # 3 points vertical offset\n",
    "                      textcoords=\"offset points\",\n",
    "                      ha='center', va='bottom')\n",
    "\n",
    "  autolabel(rects1)\n",
    "  autolabel(rects2)\n",
    "  autolabel(rects3)\n",
    "\n",
    "  fig.tight_layout()\n",
    "  plt.show()"
   ]
  },
  {
   "cell_type": "markdown",
   "metadata": {
    "id": "kAt9MHTVDGaw"
   },
   "source": [
    "## 4.1 Overall\n",
    "\n",
    "<u>**Discuss whether or not the dataset is balanced between classes, uniformly distributed, etc.**</u>\n",
    "\n",
    "**Training set**\n",
    "\n",
    "The train data for the different classes are imbalanced. From the graph plotted below, the `infected_non_covid` class has significantly more data points than the other classes. Overall, the ratio `normal:infected_non_covid:infected_covid` is approximately `1:2:1`.\n",
    "\n",
    "This could present more complications if the model is trained in a stacking manner by first training normal vs infected. The ratio of `normal:infected` would be a ratio of `1:3` which is more imbalanced. However, if there are distinct differences in the data of the normal and infected then this large difference could be negated. Alternatively, data augmentation techniques could be used to increase the size of the training data for the `normal` class.\n",
    "\n",
    "**Testing set**\n",
    "\n",
    "The test set is also slightly imbalanced with the ratio `normal:infected_non_covid:infected_covid` being approximately `2:2:1`. However, this is not as bad as an imbalanced training set because the test set will not only be used to get a gauge of the model's performance after each epoch and will not directly affect the model's parameter tuning.\n",
    "\n",
    "**Validation set**\n",
    "\n",
    "The val set is uniformly distributed between the three classes. However, it is glaring that there are only 8 validation samples for the 3 classes. However, this is acceptable as it is used only for validation and will not affect the model's parameter tuning"
   ]
  },
  {
   "cell_type": "code",
   "execution_count": null,
   "metadata": {
    "id": "V7ySGoEpAFwl"
   },
   "outputs": [],
   "source": [
    "labels = ['normal', 'infected_covid', 'infected_non_covid']\n",
    "\n",
    "train_normal = [l0_ld_train.dataset_numbers['train_normal']]\n",
    "val_normal = [l0_ld_val.dataset_numbers['val_normal']]\n",
    "test_normal = [l0_ld_test.dataset_numbers['test_normal']]\n",
    "\n",
    "train_covid_non_covid = list(l1_ld_train.dataset_numbers.values())\n",
    "val_covid_non_covid = list(l1_ld_val.dataset_numbers.values())\n",
    "test_covid_non_covid = list(l1_ld_test.dataset_numbers.values())\n",
    "\n",
    "train_normal_inc_ic = train_normal + train_covid_non_covid\n",
    "val_normal_inc_ic = val_normal + val_covid_non_covid\n",
    "test_normal_inc_ic = test_normal + test_covid_non_covid\n",
    "\n",
    "plot_grouped_bar_chart(labels, train_normal_inc_ic, val_normal_inc_ic, test_normal_inc_ic)"
   ]
  },
  {
   "cell_type": "markdown",
   "metadata": {
    "id": "_YfpYP7lDwWe"
   },
   "source": [
    "## 4.2 Layer 0\n",
    "\n",
    "The graph below gives a Clearer idea about the training imbalance where the ratio of `normal:infected` would be a ratio of `1:3` which are the ratios used when training the binary classifier for Layer 0."
   ]
  },
  {
   "cell_type": "code",
   "execution_count": null,
   "metadata": {
    "id": "x-DIZ_jPbVFh"
   },
   "outputs": [],
   "source": [
    "labels = ['normal', 'infected']\n",
    "\n",
    "train_normal_infected = list(l0_ld_train.dataset_numbers.values())\n",
    "val_normal_infected = list(l0_ld_val.dataset_numbers.values())\n",
    "test_normal_infected = list(l0_ld_test.dataset_numbers.values())\n",
    "\n",
    "plot_grouped_bar_chart(labels, train_normal_infected, val_normal_infected, test_normal_infected)"
   ]
  },
  {
   "cell_type": "markdown",
   "metadata": {
    "id": "l7BThBfXEZmU"
   },
   "source": [
    "## 4.3 Layer 1\n",
    "\n",
    "The class distribution for infected_covid vs infected_non_covid is imbalanced by about 1:2. This represents what is likely in reality. Covid is new and will probably not have as many data samples as the common infected non-covid X rays. Again, possible data augmentations techniques like mirroring could potentially be used to increase the number of training samples for covid"
   ]
  },
  {
   "cell_type": "code",
   "execution_count": null,
   "metadata": {
    "id": "OO2nrsCI_gt9"
   },
   "outputs": [],
   "source": [
    "labels = ['covid', 'non-covid']\n",
    "\n",
    "train_covid_non_covid = list(l1_ld_train.dataset_numbers.values())\n",
    "val_covid_non_covid = list(l1_ld_val.dataset_numbers.values())\n",
    "test_covid_non_covid = list(l1_ld_test.dataset_numbers.values())\n",
    "\n",
    "plot_grouped_bar_chart(labels, train_covid_non_covid, val_covid_non_covid, test_covid_non_covid)"
   ]
  },
  {
   "cell_type": "markdown",
   "metadata": {
    "id": "BFl4rsh5p1rX"
   },
   "source": [
    "# 4. Why normalize the data?\n",
    "\n",
    "To recap the normalization can be found in the `Lung_Dataset` class' `open_img` function which did the following normalization.\n",
    "\n",
    "```python\n",
    "# Convert to Numpy array and normalize pixel values by dividing by 255.\n",
    "im = np.asarray(Image.open(f))/255\n",
    "```\n",
    "\n",
    "Images have RGB ranges from 0-255. Considering various activation functions like `sigmoid` such a large range would mean that for vastly different values like 100 and 255, not much difference can be seen when passed into the `sigmoid` activation function. Both would produce a value that is close to 1.\n",
    "\n",
    "Taking the same values as reference, if we divide by 255, for a value of 100,  $\\frac{100}{255}$ we get approximately 0.39. Then for a value of 255, $\\frac{255}{255}$ we get 1. For the initial value of 100 that becomes 0.39 after the division, passing it into `sigmoid(0.39)` produces a value of 0.596. Meanwhile for the initial value of 255 that becomes 1 after division, passing it into `sigmoid(1)` produces a value of 0.731. This difference in value allows us to extract meaningful differences in the pixel values.\n"
   ]
  },
  {
   "cell_type": "markdown",
   "metadata": {
    "id": "d6jfWGpZqCIU"
   },
   "source": [
    "# 5. Other possible pre-processing\n",
    "\n",
    "Form the plot below, which is based on the Training set for normal images as reference, it is evident that there are several differences in the photo dimensions and photo environment. \n",
    "\n",
    "For example, comparing image_index 1 and image_index 28 there is a clear difference in the lighting, Image_index 28 is a lot brighter. One pre-processing step could be to use histogram normalization. There is a paper that recommends 14 possible normalization algorithms that can be performed (Leszczynski, 2010)\n",
    "\n",
    "Aother example is comparing \"skinny\" images like image_index 1 and image_index 31 where there is significantly more dark backgrounds at the side compares to images like image_index 12. Perhaps a edge detection algorithm can be applied to just filter the relevant parts of the image which are the lungs."
   ]
  },
  {
   "cell_type": "code",
   "execution_count": null,
   "metadata": {
    "id": "lgyLkZ9xp2GH"
   },
   "outputs": [],
   "source": [
    "row = 2\n",
    "col = 2\n",
    "\n",
    "selected_indices = [1,12,28,31]\n",
    "f, axarr = plt.subplots(row,col,figsize=(10,7))\n",
    "counter = 0\n",
    "for row_index in range(row):\n",
    "  for col_index in range(col):\n",
    "    image_index = selected_indices[counter]\n",
    "    im = l0_ld_train.open_img('train', 'normal', '', image_index)\n",
    "    axarr[row_index,col_index].set_title('Image index: {}'.format(image_index))\n",
    "    axarr[row_index,col_index].imshow(im)\n",
    "    counter += 1"
   ]
  },
  {
   "cell_type": "markdown",
   "metadata": {
    "id": "wC14yqAz2vSI"
   },
   "source": [
    "# 6. Creating a data loader object"
   ]
  },
  {
   "cell_type": "markdown",
   "metadata": {
    "id": "J5YY_qNrFUTw"
   },
   "source": [
    "## 6.1 Layer 0"
   ]
  },
  {
   "cell_type": "code",
   "execution_count": null,
   "metadata": {
    "id": "uiftrqf62usb"
   },
   "outputs": [],
   "source": [
    "l0_bs_train = 32\n",
    "l0_bs_test = 32\n",
    "l0_bs_val = 1\n",
    "l0_train_loader = DataLoader(l0_ld_train, batch_size = l0_bs_train, shuffle = True)\n",
    "l0_test_loader = DataLoader(l0_ld_test, batch_size = l0_bs_test, shuffle = True)\n",
    "l0_val_loader = DataLoader(l0_ld_val, batch_size = l0_bs_val, shuffle = True)"
   ]
  },
  {
   "cell_type": "markdown",
   "metadata": {
    "id": "B4Fv6HyVFsfa"
   },
   "source": [
    "## 6.2 Layer 1"
   ]
  },
  {
   "cell_type": "code",
   "execution_count": null,
   "metadata": {
    "id": "wpHtBlbSFTZW"
   },
   "outputs": [],
   "source": [
    "l1_bs_train = 32\n",
    "l1_bs_test = 32\n",
    "l1_bs_val = 1\n",
    "l1_train_loader = DataLoader(l1_ld_train, batch_size = l1_bs_train, shuffle = True)\n",
    "l1_test_loader = DataLoader(l1_ld_test, batch_size = l1_bs_test, shuffle = True)\n",
    "l1_val_loader = DataLoader(l1_ld_val, batch_size = l1_bs_val, shuffle = True)"
   ]
  },
  {
   "cell_type": "markdown",
   "metadata": {
    "id": "3x_-1Qe34U5w"
   },
   "source": [
    "# 7. Model\n",
    "\n"
   ]
  },
  {
   "cell_type": "markdown",
   "metadata": {
    "id": "BVfcawPjF5sl"
   },
   "source": [
    "## 7.1 Layer 0"
   ]
  },
  {
   "cell_type": "code",
   "execution_count": null,
   "metadata": {
    "id": "-yJ7JTk04XIu"
   },
   "outputs": [],
   "source": [
    "class L0_Net(nn.Module):\n",
    "    def __init__(self, num_layers=1):\n",
    "        super(L0_Net, self).__init__()\n",
    "        self.conv1 = nn.Conv2d(1, 8, 3, 1)\n",
    "        self.dropout1 = nn.Dropout2d(0.2)\n",
    "        self.relu = nn.ReLU()\n",
    "        self.conv2 = nn.Conv2d(8, 16, 3, 1)\n",
    "        self.conv3 = nn.Conv2d(16, 32, 3, 1)\n",
    "        self.avgpool = nn.AvgPool2d(3,3)\n",
    "        self.maxpool = nn.MaxPool2d(2)\n",
    "        self.fc1 = nn.Linear(16928, 2)\n",
    "\n",
    "    def forward(self, x):\n",
    "        x = self.conv1(x)\n",
    "        x = self.dropout1(x)\n",
    "        x = self.relu(x)\n",
    "        x = self.conv2(x)\n",
    "        x = self.relu(x)\n",
    "        x = self.maxpool(x)\n",
    "        x = self.dropout1(x)\n",
    "        x = self.conv3(x)\n",
    "        x = self.relu(x)\n",
    "        x = self.avgpool(x)\n",
    "        x = self.dropout1(x)\n",
    "        x = self.relu(x)\n",
    "        x = torch.flatten(x, 1)\n",
    "        x = self.fc1(x)\n",
    "        output = F.log_softmax(x, dim = 1)\n",
    "        return output"
   ]
  },
  {
   "cell_type": "code",
   "execution_count": null,
   "metadata": {
    "id": "EJKx7kXTQYQN"
   },
   "outputs": [],
   "source": [
    "# Activate gpu\n",
    "if torch.cuda.is_available():  \n",
    "    print('using GPU')\n",
    "    device = \"cuda:0\" \n",
    "else:  \n",
    "    device = \"cpu\"\n",
    "l0_model = L0_Net().to(torch.device(device))"
   ]
  },
  {
   "cell_type": "code",
   "execution_count": null,
   "metadata": {
    "id": "zoBbl4-OO417"
   },
   "outputs": [],
   "source": [
    "summary(l0_model, (1, 150, 150))"
   ]
  },
  {
   "cell_type": "markdown",
   "metadata": {
    "id": "UUtueamzGHp9"
   },
   "source": [
    "## 7.2 Layer 1"
   ]
  },
  {
   "cell_type": "code",
   "execution_count": null,
   "metadata": {
    "id": "El3FLR03GJ5m"
   },
   "outputs": [],
   "source": [
    "class L1_Net(nn.Module):\n",
    "    def __init__(self, num_layers=1):\n",
    "        super(L1_Net, self).__init__()\n",
    "        self.conv1 = nn.Conv2d(1, 8, 3, 1)\n",
    "        self.dropout1 = nn.Dropout2d(0.2)\n",
    "        self.relu = nn.ReLU()\n",
    "        self.conv2 = nn.Conv2d(8, 16, 3, 1)\n",
    "        self.conv3 = nn.Conv2d(16, 32, 3, 1)\n",
    "        self.avgpool = nn.AvgPool2d(3,3)\n",
    "        self.maxpool = nn.MaxPool2d(2, stride=2)\n",
    "        self.fc1 = nn.Linear(16928, 2)\n",
    "\n",
    "    def forward(self, x):\n",
    "        x = self.conv1(x)\n",
    "        x = self.dropout1(x)\n",
    "        x = self.relu(x)\n",
    "        x = self.conv2(x)\n",
    "        x = self.relu(x)\n",
    "        x = self.maxpool(x)\n",
    "        x = self.dropout1(x)\n",
    "        x = self.conv3(x)\n",
    "        x = self.relu(x)\n",
    "        x = self.avgpool(x)\n",
    "        x = self.dropout1(x)\n",
    "        x = self.relu(x)\n",
    "        x = torch.flatten(x, 1)\n",
    "        x = self.fc1(x)\n",
    "        output = F.log_softmax(x, dim = 1)\n",
    "        return output"
   ]
  },
  {
   "cell_type": "code",
   "execution_count": null,
   "metadata": {
    "id": "o3uSnZgeGKO-"
   },
   "outputs": [],
   "source": [
    "# Activate gpu\n",
    "if torch.cuda.is_available():  \n",
    "    print('using GPU')\n",
    "    device = \"cuda:0\" \n",
    "else:  \n",
    "    device = \"cpu\"\n",
    "l1_model = L1_Net().to(torch.device(device))"
   ]
  },
  {
   "cell_type": "code",
   "execution_count": null,
   "metadata": {
    "id": "2tRV7PJIGPTH"
   },
   "outputs": [],
   "source": [
    "summary(l1_model, (1, 150, 150))"
   ]
  },
  {
   "cell_type": "markdown",
   "metadata": {
    "id": "L1E4MDvTLdnP"
   },
   "source": [
    "# 8. Training the model\n",
    "\n",
    "Reference material: [Towards data science: PyTorch [Tabular] — Multiclass Classification](https://towardsdatascience.com/pytorch-tabular-multiclass-classification-9f8211a123ab)"
   ]
  },
  {
   "cell_type": "code",
   "execution_count": null,
   "metadata": {
    "id": "98hO2OLpLdRK"
   },
   "outputs": [],
   "source": [
    "def multi_acc(y_pred, y_test):\n",
    "    y_pred_softmax = torch.log_softmax(y_pred, dim = 1)\n",
    "    _, y_pred_tags = torch.max(y_pred_softmax, dim = 1)\n",
    "    correct_pred = (y_pred_tags == y_test).float()\n",
    "    acc = correct_pred.sum() / len(correct_pred)\n",
    "    \n",
    "    return acc"
   ]
  },
  {
   "cell_type": "markdown",
   "metadata": {
    "id": "IsnZg2ToGTfx"
   },
   "source": [
    "## 8.1 Layer 0\n",
    "\n",
    "**About Regularization using weight_decay**\n",
    "\n",
    "Reference link: https://pytorch.org/docs/stable/optim.html\n",
    "\n",
    "For Optimizers like Adam and AdamW, the L2 Regularization is implemented on the optimizer using `weight_decay`:\n",
    "\n",
    "weight_decay (float, optional) – weight decay (L2 penalty) (default: 0)\n",
    "\n",
    "The lectures from week 5 also mention that for SGD, the effect of weight decay is the same as doing l2-regularization. This can potentially help reduce overfitting.\n",
    "\n",
    "**Selecting appropriate values for weight_decay**\n",
    "\n",
    "Reference link: https://machinelearningmastery.com/how-to-reduce-overfitting-in-deep-learning-with-weight-regularization/#:~:text=The%20most%20common%20type%20of,range%20between%200%20and%200.1.\n",
    "\n",
    "The link summarizes the findings of papers and the key insights are:\n",
    "\n",
    "- \"The most common type of regularization is L2, also called simply “weight decay,” with values often on a logarithmic scale between 0 and 0.1, such as 0.1, 0.001, 0.0001, etc.\"\n",
    "- For CNNs: \"L2 weight regularization with very small regularization hyperparameters such as (e.g. 0.0005 or 5 x 10<sup>−4</sup>) may be a good starting point.\"\n",
    "- For CNNs: There are other papers that implemented a value of 1x10<sup>−5</sup>\n",
    "\n",
    "**Learning Rate Scheduling**\n",
    "\n",
    "Reference links: \n",
    "\n",
    "- For graphical visualization: https://www.kaggle.com/isbhargav/guide-to-pytorch-learning-rate-scheduling\n",
    "- Official documentation: https://pytorch.org/docs/stable/optim.html\n",
    "- Paper that talks about cosine warm restarts provided in SUTD lecture notes: https://arxiv.org/pdf/1810.13243.pdf\n",
    "- Another paper that talks about cosine warm restarts provided in SUTD lecture notes: https://arxiv.org/pdf/1704.00109.pdf\n",
    "\n",
    "Findings\n",
    "\n",
    "- Learning Rate Cosine Warm Restarts may not be helpful all the time\n",
    "- However, in some cases it can help to find a more stable local minima. When the Learning Rate is increased, this could help the model 'jump' from a local minima to another. This is akin to a 'restart'\n"
   ]
  },
  {
   "cell_type": "markdown",
   "metadata": {},
   "source": [
    "# 8.2.1 Load pre-trained model\n",
    "\n",
    "## Run the next 2 cells only if you would like to load model\n",
    "\n",
    "Load the pretrained model"
   ]
  },
  {
   "cell_type": "code",
   "execution_count": null,
   "metadata": {},
   "outputs": [],
   "source": [
    "# Load model layer 0 for evaluation\n",
    "\n",
    "checkpoint_path_l0 = '../checkpoint_model_5_binary_L0_net_21_03_2021_20_42_56'\n",
    "    \n",
    "checkpoint_l0 = torch.load(checkpoint_path_l0)\n",
    "\n",
    "l0_model = L0_Net().to(torch.device(device))\n",
    "l0_model.load_state_dict(checkpoint_l0['model_state_dict'])\n",
    "l0_model.eval()"
   ]
  },
  {
   "cell_type": "code",
   "execution_count": null,
   "metadata": {},
   "outputs": [],
   "source": [
    "# Load model layer 1 for evaluation\n",
    "\n",
    "checkpoint_path_l1 = '../checkpoint_model_10_binary_L1_net_21_03_2021_20_39_57'\n",
    "    \n",
    "checkpoint_l1 = torch.load(checkpoint_path_l1)\n",
    "\n",
    "l1_model = L1_Net().to(torch.device(device))\n",
    "l1_model.load_state_dict(checkpoint_l1['model_state_dict'])\n",
    "l1_model.eval()"
   ]
  },
  {
   "cell_type": "markdown",
   "metadata": {
    "id": "cGpqG8Y6es_7"
   },
   "source": [
    "# 9. Validation set performance"
   ]
  },
  {
   "cell_type": "markdown",
   "metadata": {
    "id": "vbbJvYKcNIkd"
   },
   "source": [
    "## 9.1 Init dataset and data loader for 3 classes"
   ]
  },
  {
   "cell_type": "code",
   "execution_count": null,
   "metadata": {
    "id": "HhLZ0u26NRB0"
   },
   "outputs": [],
   "source": [
    "class Lung_Dataset(Dataset):\n",
    "    \"\"\"\n",
    "    Generic Dataset class.\n",
    "    \"\"\"\n",
    "    \n",
    "    def __init__(self, groups, dataset_numbers, dataset_paths):\n",
    "        \"\"\"\n",
    "        Constructor for generic Dataset class - assembles\n",
    "        the important parameters in attributes.\n",
    "\n",
    "        Parameters\n",
    "        ----------\n",
    "        groups : str\n",
    "            Allowed values: train, val, test\n",
    "        dataset_numbers : dict\n",
    "            Count of each class within specified group\n",
    "        dataset_paths : dict\n",
    "            Path to each class within specified group\n",
    "        \"\"\"\n",
    "\n",
    "        self.img_size = (150, 150)\n",
    "        self.classes = {\n",
    "            0: 'normal',\n",
    "            1: 'infected_covid',\n",
    "            2: 'infected_non_covid'\n",
    "        }        \n",
    "        self.groups = groups\n",
    "        self.dataset_numbers = dataset_numbers\n",
    "        self.dataset_paths = dataset_paths\n",
    "        \n",
    "        \n",
    "    def describe(self):\n",
    "        \"\"\"\n",
    "        Descriptor function.\n",
    "        Will print details about the dataset when called.\n",
    "        \"\"\"\n",
    "        \n",
    "        # Generate description\n",
    "        msg = \"This is the {} dataset of the Lung Dataset\".format(self.groups)\n",
    "        msg += \" used for the Small Project Demo in the 50.039 Deep Learning class\"\n",
    "        msg += \" in March 2021. \\n\"\n",
    "        msg += \"It contains a total of {} images, \".format(sum(self.dataset_numbers.values()))\n",
    "        msg += \"of size {} by {}.\\n\".format(self.img_size[0], self.img_size[1])\n",
    "        msg += \"The images are stored in the following locations \"\n",
    "        msg += \"and each one contains the following number of images:\\n\"\n",
    "        for key, val in self.dataset_paths.items():\n",
    "            msg += \" - {}, in folder {}: {} images.\\n\".format(key, val, self.dataset_numbers[key])\n",
    "        print(msg)\n",
    "        \n",
    "    \n",
    "    def open_img(self, group_val, class_val, index_val):\n",
    "        \"\"\"\n",
    "        Opens image with specified parameters.\n",
    "        \n",
    "        Parameters:\n",
    "        - group_val should take values in 'train', 'test' or 'val'.\n",
    "        - class_val variable should be set to 'normal' or 'infected_non_covid' or 'infected_covid'.\n",
    "        - index_val should be an integer with values between 0 and the maximal number of images in dataset.\n",
    "        \n",
    "        Returns loaded image as a normalized Numpy array.\n",
    "        \"\"\"\n",
    "        \n",
    "        # Asserts checking for consistency in passed parameters\n",
    "        err_msg = \"Error - group_val variable should be set to 'train', 'test' or 'val'.\"\n",
    "        assert group_val in self.groups, err_msg\n",
    "        \n",
    "        err_msg = \"Error - class_val variable should be set to 'normal' or 'infected_non_covid' or 'infected_covid.\"\n",
    "        assert class_val in self.classes.values(), err_msg\n",
    "        \n",
    "        max_val = self.dataset_numbers['{}_{}'.format(group_val, class_val)]\n",
    "        err_msg = \"Error - index_val variable should be an integer between 0 and the maximal number of images.\"\n",
    "        err_msg += \"\\n(In {}/{}, you have {} images.)\".format(group_val, class_val, max_val)\n",
    "        assert isinstance(index_val, int), err_msg\n",
    "        assert index_val >= 0 and index_val <= max_val, err_msg\n",
    "        \n",
    "        # Open file as before\n",
    "        path_to_file = '{}/{}.jpg'.format(self.dataset_paths['{}_{}'.format(group_val, class_val)], index_val)\n",
    "        with open(path_to_file, 'rb') as f:\n",
    "            # Convert to Numpy array and normalize pixel values by dividing by 255.\n",
    "            im = np.asarray(Image.open(f))/255\n",
    "        f.close()\n",
    "        return im\n",
    "    \n",
    "    \n",
    "    def show_img(self, group_val, class_val, index_val):\n",
    "        \"\"\"\n",
    "        Opens, then displays image with specified parameters.\n",
    "        \n",
    "        Parameters:\n",
    "        - group_val should take values in 'train', 'test' or 'val'.\n",
    "        - class_val variable should be set to 'normal' or 'infected_covid' or 'infected_non_covid'\n",
    "        - index_val should be an integer with values between 0 and the maximal number of images in dataset.\n",
    "        \"\"\"\n",
    "        \n",
    "        # Open image\n",
    "        im = self.open_img(group_val, class_val, index_val)\n",
    "        \n",
    "        # Display\n",
    "        plt.imshow(im)\n",
    "\n",
    "    def __len__(self):\n",
    "        \"\"\"\n",
    "        Length special method, returns the number of images in dataset.\n",
    "        \"\"\"\n",
    "        \n",
    "        # Length function\n",
    "        return sum(self.dataset_numbers.values())\n",
    "    \n",
    "    \n",
    "    def __getitem__(self, index):\n",
    "        \"\"\"\n",
    "        Getitem special method.\n",
    "        \n",
    "        Expects an integer value index, between 0 and len(self) - 1.\n",
    "        \n",
    "        Returns the image and its label as a one hot vector, both\n",
    "        in torch tensor format in dataset.\n",
    "        \"\"\"\n",
    "        \n",
    "        # Get item special method\n",
    "        first_val = int(list(self.dataset_numbers.values())[0])\n",
    "        second_val = int(list(self.dataset_numbers.values())[1])\n",
    "        if index < first_val:\n",
    "            class_val = 'normal'\n",
    "            label = torch.Tensor([1, 0, 0])\n",
    "        elif index < (first_val+second_val):\n",
    "            class_val = 'infected_covid'\n",
    "            index = index - first_val\n",
    "            label = torch.Tensor([0, 1, 0])\n",
    "        else:\n",
    "            class_val = \"infected_non_covid\"\n",
    "            index = index - (first_val+second_val)\n",
    "            label = torch.Tensor([0, 0, 1])\n",
    "        im = self.open_img(self.groups, class_val, index)\n",
    "        im = transforms.functional.to_tensor(np.array(im)).float()\n",
    "        return im, label"
   ]
  },
  {
   "cell_type": "code",
   "execution_count": null,
   "metadata": {
    "id": "OmF7BnwUNdxF"
   },
   "outputs": [],
   "source": [
    "dataset_numbers_val = {\n",
    "    'val_normal': 8,\n",
    "    'val_infected_covid': 8,\n",
    "    'val_infected_non_covid': 8,\n",
    "}\n",
    "dataset_paths_val = {\n",
    "    'val_normal': './dataset/val/normal/',\n",
    "    'val_infected_covid': './dataset/val/infected/covid/',\n",
    "    'val_infected_non_covid': './dataset/val/infected/non-covid/',\n",
    "}\n",
    "val_group = 'val'\n",
    "ld_val = Lung_Dataset(\n",
    "    val_group,\n",
    "    dataset_numbers_val,\n",
    "    dataset_paths_val\n",
    ")\n",
    "ld_val.describe()"
   ]
  },
  {
   "cell_type": "markdown",
   "metadata": {
    "id": "kSgP9-kDNOtu"
   },
   "source": [
    "## 9.2 Perform validation"
   ]
  },
  {
   "cell_type": "code",
   "execution_count": null,
   "metadata": {
    "id": "8Ku1pIryfPga"
   },
   "outputs": [],
   "source": [
    "def combinePred(l0_model, l1_model, val_batch):\n",
    "    '''\n",
    "    val_batch will be batch_size of 1 from\n",
    "\n",
    "    Keyword arguments:\n",
    "    l0_model -- L0_Net object\n",
    "    l1_model -- L1_Net object\n",
    "    val_batch -- DataLoader object\n",
    "    '''\n",
    "    l0_model.eval()\n",
    "    l0_pred = l0_model.forward(val_batch.to(device))\n",
    "    l0_pred = int(torch.max(l0_pred, 1)[1])\n",
    "    if l0_pred == 0:\n",
    "        # normal\n",
    "        return torch.Tensor([1, 0, 0])\n",
    "    else:\n",
    "        l1_model.eval()\n",
    "        l1_pred = l1_model.forward(val_batch.to(device))\n",
    "        l1_pred = int(torch.max(l1_pred, 1)[1])\n",
    "        if l1_pred == 0:\n",
    "            # covid\n",
    "            return torch.Tensor([0, 1, 0])\n",
    "        else:\n",
    "            # non-covid\n",
    "            return torch.Tensor([0, 0, 1])\n",
    "    \n",
    "\n",
    "def get_ground_truth_prediction(data_loader):\n",
    "    '''Gets the predicted & ground truth labels for each image in data_loader\n",
    "\n",
    "    Keyword arguments:\n",
    "    data_loader -- DataLoader object\n",
    "    '''\n",
    "    correct = 0\n",
    "    result = {\n",
    "        'im': [],\n",
    "        'ground_truth': [],\n",
    "        'prediction': [],\n",
    "        'index': []\n",
    "    }\n",
    "    for batch_idx, (X_val_batch, ground_truth) in enumerate(data_loader):\n",
    "        ground_truth = torch.max(ground_truth,1)[1].item()\n",
    "        ground_truth = ld_val.classes.get(ground_truth)\n",
    "        prediction = combinePred(l0_model, l1_model, X_val_batch)\n",
    "        prediction = torch.max(prediction,0)[1].item()\n",
    "        prediction = ld_val.classes.get(prediction)\n",
    "        if ground_truth == prediction:\n",
    "          correct += 1\n",
    "        im, class_oh = ld_val[batch_idx]\n",
    "        result['im'].append(im)\n",
    "        result['ground_truth'].append(ground_truth)\n",
    "        result['prediction'].append(prediction)\n",
    "        result['index'].append(batch_idx)\n",
    "    return result, correct\n",
    "\n",
    "def plot_ground_truth_prediction(row, col, result):\n",
    "    '''Plots the subplots of images with their ground truth and prediction\n",
    "\n",
    "    Keyword arguments:\n",
    "    row -- int value for number of rows of plot\n",
    "    col -- int value for number of columns of plot\n",
    "    result -- dict containing index, prediction, ground truth, image\n",
    "    '''\n",
    "    f, axarr = plt.subplots(row,col,figsize=(20,30))\n",
    "    f.suptitle('Validation set pictures, with predicted and ground truth labels.\\nAverage performance {}/{}={}%'.format(correct,total,accuracy))\n",
    "    counter = 0\n",
    "    for row_index in range(row):\n",
    "        for col_index in range(col):\n",
    "            axarr[row_index,col_index].set_title(\n",
    "                'Ground truth label: {}\\nPredicted label: {}'.format(\n",
    "                    result['ground_truth'][counter],\n",
    "                    result['prediction'][counter])\n",
    "                )\n",
    "            axarr[row_index,col_index].imshow(torch.squeeze(result['im'][counter]))\n",
    "            counter += 1\n",
    "\n",
    "val_loader = DataLoader(ld_val, batch_size = 1, shuffle = False)\n",
    "total = len(val_loader)\n",
    "result, correct = get_ground_truth_prediction(val_loader)\n",
    "accuracy = round(correct/total,3) * 100\n",
    "row = 6\n",
    "col = 4\n",
    "\n",
    "plot_ground_truth_prediction(row, col, result)"
   ]
  },
  {
   "cell_type": "code",
   "execution_count": null,
   "metadata": {
    "id": "eZTINHs2qdMC"
   },
   "outputs": [],
   "source": [
    "from sklearn.metrics import confusion_matrix, ConfusionMatrixDisplay\n",
    "val_loader = DataLoader(ld_val, batch_size = 1, shuffle = False)\n",
    "\n",
    "acc = 0\n",
    "# row = truth, col = pred\n",
    "y_true = []\n",
    "y_pred = []\n",
    "for X_val_batch, y_val_batch in val_loader:\n",
    "    X_val_batch, y_val_batch = X_val_batch.to(device), y_val_batch.to(device)\n",
    "    \n",
    "    y_val_pred = combinePred(l0_model, l1_model, X_val_batch)\n",
    "    y_val_pred = y_val_pred.to(device)\n",
    "    batch_acc = int(torch.argmax(y_val_batch)) == int(torch.argmax(y_val_pred))\n",
    "    y_true.append(int(torch.argmax(y_val_batch)))\n",
    "    y_pred.append(int(torch.argmax(y_val_pred)))\n",
    "    acc += batch_acc\n",
    "    \n",
    "print('combined accuracy:', acc/len(val_loader))\n",
    "cm = confusion_matrix(y_true, y_pred)\n",
    "disp = ConfusionMatrixDisplay(confusion_matrix=cm, display_labels=np.array(['normal','covid','non-covid']))\n",
    "disp.plot()"
   ]
  },
  {
   "cell_type": "markdown",
   "metadata": {
    "id": "MP-BWTPBxk-s"
   },
   "source": [
    "# 10. Other useful metrics\n",
    "\n",
    "Precision = $\\frac{tp}{tp + fp}$\n",
    "\n",
    "Recall (also Sensitivity) = $\\frac{tp}{tp + fn}$\n",
    "\n",
    "Specificity = $\\frac{tn}{tn + fp}$\n",
    "\n",
    "For this project, the metrics can be applied differently considering the needs of different stakeholders.\n",
    "\n",
    "**Considering Covid, we cite 2 stakeholders who could have different concerns**\n",
    "\n",
    "For example, the general public could be concerned about the spread of the virus, hence, they could be more worried about Recall because false negatives could mean that people with the virus in the public space and mingling with others.\n",
    "\n",
    "On the other hand, the clinicans could be more concerned about Precision. This is because there are limited hospital beds and it would be a waste of resources to allocated scarce resource to people who do not have covid but were predicted to have covid. This can be a problem if there is a model that predicts everyone to have covid. While this model successfully identifies all covid cases, there will be a lot of people who do not actually have covid being admitted to the hospitals for tratement. This puts a strain on resources.\n",
    "\n",
    "Similarly, they would be interested in high specificity which is the percentage of people who are predicted negative among all the predicitions cases who are truly negative. A higher value for this would similarly reduce the strain of hospital resources as it implies that those who really do not have covid are likely predicted as not having covid and will not need treatment.\n",
    "\n",
    "For the analysis below we focus on `recall` as there was a time when the world was focused on containing the spread of covid which is aligned with the saying that \"prevention is better than cure\". We also output `precision` and the `f1` score to consider that other stakeholders are important as well."
   ]
  },
  {
   "cell_type": "code",
   "execution_count": null,
   "metadata": {
    "id": "FVcqyL_jtr1G"
   },
   "outputs": [],
   "source": [
    "import numpy as np\n",
    "from sklearn.metrics import precision_recall_fscore_support\n",
    "import json\n",
    "\n",
    "p_r_fs = precision_recall_fscore_support(y_true, y_pred, average=None, labels=[0, 1, 2])\n",
    "precision = p_r_fs[0]\n",
    "recall = p_r_fs[1]\n",
    "f_beta_score = p_r_fs[2]\n",
    "\n",
    "overall_results = {}\n",
    "\n",
    "overall_labels = ['normal','covid','non-covid']\n",
    "\n",
    "for index, label in enumerate(overall_labels):\n",
    "  overall_results[label] = {}\n",
    "  overall_results[label]['precision'] = precision[index]\n",
    "  overall_results[label]['recall'] = recall[index]\n",
    "  overall_results[label]['f1_score'] = f_beta_score[index]\n",
    "\n",
    "print(json.dumps(overall_results, indent=4, sort_keys=True))"
   ]
  },
  {
   "cell_type": "markdown",
   "metadata": {
    "id": "uULHf8Q-3sEQ"
   },
   "source": [
    "# 11. Feature maps\n",
    "\n",
    "Reference: https://discuss.pytorch.org/t/visualize-feature-map/29597"
   ]
  },
  {
   "cell_type": "code",
   "execution_count": null,
   "metadata": {
    "id": "5n-LT-Ub3uBw"
   },
   "outputs": [],
   "source": [
    "# Visualize feature maps\n",
    "activation = {}\n",
    "# f, axarr = plt.subplots(row,col,figsize=(20,30))\n",
    "def get_activation(name):\n",
    "    def hook(model, input, output):\n",
    "        activation[name] = output.detach()\n",
    "    return hook\n",
    "for batch_idx, (X_val_batch, ground_truth) in enumerate(val_loader):\n",
    "    if batch_idx == 1:\n",
    "        break\n",
    "    l0_model.conv1.register_forward_hook(get_activation('conv1'))\n",
    "    output = l0_model(X_val_batch.to(device))\n",
    "    act = activation['conv1'].squeeze()\n",
    "\n",
    "fig, axarr = plt.subplots(len(val_loader),act.size(0),figsize=(28,100))\n",
    "for batch_idx, (X_val_batch, ground_truth) in enumerate(val_loader):\n",
    "    l0_model.conv1.register_forward_hook(get_activation('conv1'))\n",
    "    output = l0_model(X_val_batch.to(device))\n",
    "    act = activation['conv1'].squeeze()\n",
    "    mid_point = act.size(0) / 2\n",
    "    for idx in range(act.size(0)):\n",
    "        if idx == mid_point:\n",
    "            axarr[batch_idx,idx].set_title(\n",
    "                      'Ground Truth for Row {}: {}\\nPrediction for row {}: {}'.format(\n",
    "                          batch_idx,\n",
    "                          result['ground_truth'][batch_idx],\n",
    "                          batch_idx,\n",
    "                          result['prediction'][batch_idx])\n",
    "                      )\n",
    "        else:\n",
    "            axarr[batch_idx,idx].set_title('')\n",
    "        axarr[batch_idx, idx].imshow(act[idx].cpu().numpy())"
   ]
  },
  {
   "cell_type": "code",
   "execution_count": null,
   "metadata": {
    "id": "TAYa04jUA1X8"
   },
   "outputs": [],
   "source": [
    "ld_val.show_img('val', 'normal', 0)"
   ]
  },
  {
   "cell_type": "markdown",
   "metadata": {
    "id": "k01aNmdgxVX-"
   },
   "source": [
    "# References\n",
    "\n",
    "Leszczynski, M. (2010). Image Preprocessing for Illumination Invariant Face \n",
    "Verification. Journal of telecommunications and information technology, 19-25."
   ]
  }
 ],
 "metadata": {
  "accelerator": "GPU",
  "colab": {
   "collapsed_sections": [],
   "name": "custom_dataset_dataloader_cascade.ipynb",
   "provenance": [],
   "toc_visible": true
  },
  "kernelspec": {
   "display_name": "Python 3",
   "language": "python",
   "name": "python3"
  },
  "language_info": {
   "codemirror_mode": {
    "name": "ipython",
    "version": 3
   },
   "file_extension": ".py",
   "mimetype": "text/x-python",
   "name": "python",
   "nbconvert_exporter": "python",
   "pygments_lexer": "ipython3",
   "version": "3.7.7"
  }
 },
 "nbformat": 4,
 "nbformat_minor": 5
}
